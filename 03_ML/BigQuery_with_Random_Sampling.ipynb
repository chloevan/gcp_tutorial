{
  "nbformat": 4,
  "nbformat_minor": 0,
  "metadata": {
    "colab": {
      "name": "BigQuery with Random Sampling.ipynb",
      "provenance": [],
      "authorship_tag": "ABX9TyOE/Tt+0p9NvXLLmoFwfLIS",
      "include_colab_link": true
    },
    "kernelspec": {
      "name": "python3",
      "display_name": "Python 3"
    },
    "language_info": {
      "name": "python"
    }
  },
  "cells": [
    {
      "cell_type": "markdown",
      "metadata": {
        "id": "view-in-github",
        "colab_type": "text"
      },
      "source": [
        "<a href=\"https://colab.research.google.com/github/dschloe/gcp_tutorial/blob/master/03_ML/BigQuery_with_Random_Sampling.ipynb\" target=\"_parent\"><img src=\"https://colab.research.google.com/assets/colab-badge.svg\" alt=\"Open In Colab\"/></a>"
      ]
    },
    {
      "cell_type": "markdown",
      "metadata": {
        "id": "_3io16v0gc4K"
      },
      "source": [
        "## BigQuery with Random Sampling\n",
        "- 랜덤 샘플링을 해봅니다. "
      ]
    },
    {
      "cell_type": "code",
      "metadata": {
        "colab": {
          "base_uri": "https://localhost:8080/"
        },
        "id": "Wknj7NGugaO4",
        "outputId": "9196e0d8-6389-4d7e-8c66-2936569c4705"
      },
      "source": [
        "from google.colab import auth\n",
        "auth.authenticate_user()\n",
        "print('Authenticated')"
      ],
      "execution_count": 1,
      "outputs": [
        {
          "output_type": "stream",
          "text": [
            "Authenticated\n"
          ],
          "name": "stdout"
        }
      ]
    },
    {
      "cell_type": "code",
      "metadata": {
        "colab": {
          "base_uri": "https://localhost:8080/"
        },
        "id": "3i9d03CghcDs",
        "outputId": "67ce11a4-2f7d-44fa-db92-5f37aa81eb85"
      },
      "source": [
        "from google.cloud import bigquery\n",
        "from tabulate import tabulate\n",
        "import pandas as pd\n",
        "\n",
        "project_id = 'evanproject-311200'\n",
        "client = bigquery.Client(project=project_id)\n",
        "\n",
        "temp = client.query('''\n",
        "SELECT\n",
        "  date, \n",
        "  airline, \n",
        "  departure_airport, \n",
        "  departure_schedule, \n",
        "  arrival_airport, \n",
        "  arrival_delay\n",
        "FROM \n",
        "  `bigquery-samples.airline_ontime_data.flights`\n",
        "WHERE\n",
        "  RAND() < 0.8\n",
        "  ''').to_dataframe()\n",
        "\n",
        "print(tabulate(temp, headers='keys', tablefmt='psql'))"
      ],
      "execution_count": 4,
      "outputs": [
        {
          "output_type": "stream",
          "text": [
            "WARNING:google.auth._default:No project ID could be determined. Consider running `gcloud config set project` or setting the GOOGLE_CLOUD_PROJECT environment variable\n"
          ],
          "name": "stderr"
        },
        {
          "output_type": "stream",
          "text": [
            "          date airline  ... arrival_actual arrival_delay\n",
            "0   2006-08-20      KH  ...           1803          -3.0\n",
            "1   2006-08-19      KH  ...           1757          -9.0\n",
            "2   2006-08-18      KH  ...           1800          -6.0\n",
            "3   2006-08-17      KH  ...           1802          -4.0\n",
            "4   2006-08-16      KH  ...           1754         -12.0\n",
            "..         ...     ...  ...            ...           ...\n",
            "95  2006-08-10      KH  ...            959           3.0\n",
            "96  2006-08-23      KH  ...           2008         -18.0\n",
            "97  2006-08-09      KH  ...            943         -13.0\n",
            "98  2006-08-08      KH  ...            957           1.0\n",
            "99  2007-11-02      KH  ...           1616          -2.0\n",
            "\n",
            "[100 rows x 17 columns]\n"
          ],
          "name": "stdout"
        }
      ]
    }
  ]
}