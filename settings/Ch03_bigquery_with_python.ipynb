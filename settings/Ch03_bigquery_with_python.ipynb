{
 "cells": [
  {
   "cell_type": "markdown",
   "metadata": {
    "colab_type": "text",
    "id": "view-in-github"
   },
   "source": [
    "<a href=\"https://colab.research.google.com/github/chloevan/gcp_tutorial/blob/master/Ch03_bigquery_with_python.ipynb\" target=\"_parent\"><img src=\"https://colab.research.google.com/assets/colab-badge.svg\" alt=\"Open In Colab\"/></a>"
   ]
  },
  {
   "cell_type": "markdown",
   "metadata": {
    "colab_type": "text",
    "id": "t3I3hFoiFrNI"
   },
   "source": [
    "---\n",
    "title: \"Ch03_bigquery_with_python\"\n",
    "date: 2020-04-16T11:40:30+09:00\n",
    "tags:\n",
    "  - \"구글 클라우드\"\n",
    "  - \"Google Cloud\"\n",
    "  - \"빅쿼리\"\n",
    "  - \"BigQuery\"\n",
    "  - \"빅쿼리 파이썬\"\n",
    "  - \"BigQuery with Python\"\n",
    "categories:\n",
    "  - \"구글 클라우드\"\n",
    "  - \"Google Cloud\"\n",
    "  - \"빅쿼리\"\n",
    "  - \"BigQuery\"\n",
    "  - \"Python\"\n",
    "menu: \n",
    "  gcp:\n",
    "    name: Ch03_bigquery_with_python\n",
    "---\n",
    "\n",
    "## 1. 구글 클라우드 설정\n",
    "\n",
    "본격적인 빅쿼리 실습에 앞서서, Python과 연동하는 예제를 준비하였다. 빅쿼리 시작에 앞서서 선행적으로 클라우드 사용을 해야 한다. \n",
    "\n",
    "1. 만약 GCP 프로젝트가 없다면, 계정을 연동한다. Go to [Cloud Resource Manager](https://console.cloud.google.com/cloud-resource-manager)\n",
    "2. 그리고, 비용결제를 위한 카드를 등록한다. [Enable billing](https://support.google.com/cloud/answer/6293499#enable-billing) \n",
    "3. 마지막으로 BigQuery API를 사용해야 하기 때문에 빅쿼리 API 사용허가를 내준다.[Enable BigQuery](https://console.cloud.google.com/flows/enableapi?apiid=bigquery)\n",
    "\n",
    "위 API를 이용하지 않으면 `Python` 또는 `R`과 연동해서 사용할 수는 없다. 자주 쓰는것이 아니라면 비용은 거의 발생하지 않으니 염려하지 않아도 된다. 비용관리에 대한 자세한 내용은 [BigQuery 권장사항: 비용 관리](https://cloud.google.com/bigquery/docs/best-practices-costs?hl=ko)에서 확인하기를 바란다. \n",
    "\n",
    "## 2. 사용자 계정 인증\n",
    "구글 코랩을 사용해서 인증 절차를 밟도록 한다. 아래 소스코드는 변경시키지 않는다. 아래 절차대로 진행하면 된다. `Gmail` 인증 절차와 비슷하다. \n"
   ]
  },
  {
   "cell_type": "code",
   "execution_count": 1,
   "metadata": {
    "colab": {
<<<<<<< HEAD
     "base_uri": "https://localhost:8080/",
     "height": 34
=======
      "name": "Ch03_bigquery_with_python.ipynb",
      "provenance": [],
      "collapsed_sections": [],
      "authorship_tag": "ABX9TyMYcJCDpaBL5hC1AOxX6SMq",
      "include_colab_link": true
>>>>>>> 90b3a4cfb9fad995488e2858c13f999615d56cd7
    },
    "colab_type": "code",
    "id": "9fLGchCBJKaD",
    "outputId": "fc4e4292-1081-4829-8a5e-0abd8a191676"
   },
   "outputs": [
    {
     "name": "stdout",
     "output_type": "stream",
     "text": [
      "Authenticated\n"
     ]
    }
   ],
   "source": [
    "from google.colab import auth\n",
    "auth.authenticate_user()\n",
    "print('Authenticated')"
   ]
  },
<<<<<<< HEAD
  {
   "cell_type": "markdown",
   "metadata": {
    "colab_type": "text",
    "id": "yY6_rnvXJ98q"
   },
   "source": [
    "## 3. 매직(magics)을 활용한 BigQuery 연동\n",
    "\n",
    "아래 `%%` 코드를 활용하면 빅쿼리를 이제 `Jupyter Notebook`에서 사용할 수 있다. 이제 강사가 보여주는 모든 코드는 빅쿼리 GUI에서 확인하는 것이 아닌 `Jupyter Notebook`에서 사용할 것이다. \n",
    "\n",
    "```python\n",
    "%%bigquery --project yourprojectid\n",
    "SELECT \n",
    "  COUNT(*) as total_rows\n",
    "FROM `bigquery-public-data.samples.gsod`\n",
    "```"
   ]
  },
  {
   "cell_type": "code",
   "execution_count": 2,
   "metadata": {
    "colab": {
     "base_uri": "https://localhost:8080/",
     "height": 80
=======
  "cells": [
    {
      "cell_type": "markdown",
      "metadata": {
        "id": "view-in-github",
        "colab_type": "text"
      },
      "source": [
        "<a href=\"https://colab.research.google.com/github/chloevan/gcp_tutorial/blob/master/settings/Ch03_bigquery_with_python.ipynb\" target=\"_parent\"><img src=\"https://colab.research.google.com/assets/colab-badge.svg\" alt=\"Open In Colab\"/></a>"
      ]
    },
    {
      "cell_type": "markdown",
      "metadata": {
        "id": "t3I3hFoiFrNI",
        "colab_type": "text"
      },
      "source": [
        "---\n",
        "title: \"Ch03_bigquery_with_python\"\n",
        "date: 2020-04-16T11:40:30+09:00\n",
        "tags:\n",
        "  - \"구글 클라우드\"\n",
        "  - \"Google Cloud\"\n",
        "  - \"빅쿼리\"\n",
        "  - \"BigQuery\"\n",
        "  - \"빅쿼리 파이썬\"\n",
        "  - \"BigQuery with Python\"\n",
        "categories:\n",
        "  - \"구글 클라우드\"\n",
        "  - \"Google Cloud\"\n",
        "  - \"빅쿼리\"\n",
        "  - \"BigQuery\"\n",
        "  - \"Python\"\n",
        "menu: \n",
        "  gcp:\n",
        "    name: Ch03_bigquery_with_python\n",
        "---\n",
        "\n",
        "## 1. 구글 클라우드 설정\n",
        "\n",
        "본격적인 빅쿼리 실습에 앞서서, Python과 연동하는 예제를 준비하였다. 빅쿼리 시작에 앞서서 선행적으로 클라우드 사용을 해야 한다. \n",
        "\n",
        "1. 만약 GCP 프로젝트가 없다면, 계정을 연동한다. Go to [Cloud Resource Manager](https://console.cloud.google.com/cloud-resource-manager)\n",
        "2. 그리고, 비용결제를 위한 카드를 등록한다. [Enable billing](https://support.google.com/cloud/answer/6293499#enable-billing) \n",
        "3. 마지막으로 BigQuery API를 사용해야 하기 때문에 빅쿼리 API 사용허가를 내준다.[Enable BigQuery](https://console.cloud.google.com/flows/enableapi?apiid=bigquery)\n",
        "\n",
        "위 API를 이용하지 않으면 `Python` 또는 `R`과 연동해서 사용할 수는 없다. 자주 쓰는것이 아니라면 비용은 거의 발생하지 않으니 염려하지 않아도 된다. 비용관리에 대한 자세한 내용은 [BigQuery 권장사항: 비용 관리](https://cloud.google.com/bigquery/docs/best-practices-costs?hl=ko)에서 확인하기를 바란다. \n",
        "\n",
        "## 2. 사용자 계정 인증\n",
        "구글 코랩을 사용해서 인증 절차를 밟도록 한다. 아래 소스코드는 변경시키지 않는다. 아래 절차대로 진행하면 된다. `Gmail` 인증 절차와 비슷하다. \n"
      ]
    },
    {
      "cell_type": "code",
      "metadata": {
        "id": "9fLGchCBJKaD",
        "colab_type": "code",
        "outputId": "fc4e4292-1081-4829-8a5e-0abd8a191676",
        "colab": {
          "base_uri": "https://localhost:8080/",
          "height": 34
        }
      },
      "source": [
        "from google.colab import auth\n",
        "auth.authenticate_user()\n",
        "print('Authenticated')"
      ],
      "execution_count": 0,
      "outputs": [
        {
          "output_type": "stream",
          "text": [
            "Authenticated\n"
          ],
          "name": "stdout"
        }
      ]
    },
    {
      "cell_type": "markdown",
      "metadata": {
        "id": "yY6_rnvXJ98q",
        "colab_type": "text"
      },
      "source": [
        "## 3. 매직(magics)을 활용한 BigQuery 연동\n",
        "\n",
        "아래 `%%` 코드를 활용하면 빅쿼리를 이제 `Jupyter Notebook`에서 사용할 수 있다. 이제 강사가 보여주는 모든 코드는 빅쿼리 GUI에서 확인하는 것이 아닌 `Jupyter Notebook`에서 사용할 것이다. \n",
        "\n",
        "```python\n",
        "%%bigquery --project yourprojectid\n",
        "SELECT \n",
        "  COUNT(*) as total_rows\n",
        "FROM `bigquery-public-data.samples.gsod`\n",
        "```"
      ]
>>>>>>> 90b3a4cfb9fad995488e2858c13f999615d56cd7
    },
    "colab_type": "code",
    "id": "H0pFqzoIKlyU",
    "outputId": "b809ef07-20c9-4bc2-e5e7-6d5d278bfed6"
   },
   "outputs": [
    {
<<<<<<< HEAD
     "data": {
      "text/html": [
       "<div>\n",
       "<style scoped>\n",
       "    .dataframe tbody tr th:only-of-type {\n",
       "        vertical-align: middle;\n",
       "    }\n",
       "\n",
       "    .dataframe tbody tr th {\n",
       "        vertical-align: top;\n",
       "    }\n",
       "\n",
       "    .dataframe thead th {\n",
       "        text-align: right;\n",
       "    }\n",
       "</style>\n",
       "<table border=\"1\" class=\"dataframe\">\n",
       "  <thead>\n",
       "    <tr style=\"text-align: right;\">\n",
       "      <th></th>\n",
       "      <th>total_rows</th>\n",
       "    </tr>\n",
       "  </thead>\n",
       "  <tbody>\n",
       "    <tr>\n",
       "      <th>0</th>\n",
       "      <td>114420316</td>\n",
       "    </tr>\n",
       "  </tbody>\n",
       "</table>\n",
       "</div>"
      ],
      "text/plain": [
       "   total_rows\n",
       "0   114420316"
=======
      "cell_type": "code",
      "metadata": {
        "id": "H0pFqzoIKlyU",
        "colab_type": "code",
        "outputId": "578ab5ab-e2dc-4798-adac-51be221c94f0",
        "colab": {
          "base_uri": "https://localhost:8080/",
          "height": 80
        }
      },
      "source": [
        "%%bigquery --project bigquerytutorial-274406\n",
        "SELECT\n",
        "  COUNT(*) as total_rows\n",
        "FROM `bigquery-public-data.samples.gsod`"
      ],
      "execution_count": 11,
      "outputs": [
        {
          "output_type": "execute_result",
          "data": {
            "text/html": [
              "<div>\n",
              "<style scoped>\n",
              "    .dataframe tbody tr th:only-of-type {\n",
              "        vertical-align: middle;\n",
              "    }\n",
              "\n",
              "    .dataframe tbody tr th {\n",
              "        vertical-align: top;\n",
              "    }\n",
              "\n",
              "    .dataframe thead th {\n",
              "        text-align: right;\n",
              "    }\n",
              "</style>\n",
              "<table border=\"1\" class=\"dataframe\">\n",
              "  <thead>\n",
              "    <tr style=\"text-align: right;\">\n",
              "      <th></th>\n",
              "      <th>total_rows</th>\n",
              "    </tr>\n",
              "  </thead>\n",
              "  <tbody>\n",
              "    <tr>\n",
              "      <th>0</th>\n",
              "      <td>114420316</td>\n",
              "    </tr>\n",
              "  </tbody>\n",
              "</table>\n",
              "</div>"
            ],
            "text/plain": [
              "   total_rows\n",
              "0   114420316"
            ]
          },
          "metadata": {
            "tags": []
          },
          "execution_count": 11
        }
>>>>>>> 90b3a4cfb9fad995488e2858c13f999615d56cd7
      ]
     },
     "execution_count": 2,
     "metadata": {
      "tags": []
     },
     "output_type": "execute_result"
    }
   ],
   "source": [
    "%%bigquery --project bigquerytutorial-274406\n",
    "SELECT\n",
    "  COUNT(*) as total_rows\n",
    "FROM `bigquery-public-data.samples.gsod`"
   ]
  },
  {
   "cell_type": "markdown",
   "metadata": {
    "colab_type": "text",
    "id": "JErE7lP6LBsH"
   },
   "source": [
    "## 4. BigQuery를 SQL처럼 연동하기 (google.cloud 모듈 활용)\n",
    "\n",
    "연동 방법에 관한 자세한 내용은 `BigQuery` 공식 문서를 활용해보자. See [BigQuery documentation](https://cloud.google.com/bigquery/docs) and [library reference documentation](https://googlecloudplatform.github.io/google-cloud-python/latest/bigquery/usage.html)."
   ]
  },
  {
   "cell_type": "code",
   "execution_count": 0,
   "metadata": {
    "colab": {},
    "colab_type": "code",
    "id": "TZ9TkeTtLpGa"
   },
   "outputs": [],
   "source": [
    "project_id = 'bigquerytutorial-274406'"
   ]
  },
  {
   "cell_type": "code",
   "execution_count": 4,
   "metadata": {
    "colab": {
     "base_uri": "https://localhost:8080/",
     "height": 34
    },
    "colab_type": "code",
    "id": "AxIWTYIbLtig",
    "outputId": "9532b80e-9a5b-4f9a-a45e-f47ba1c3725e"
   },
   "outputs": [
    {
<<<<<<< HEAD
     "name": "stdout",
     "output_type": "stream",
     "text": [
      "Full dataset has 114420316 rows\n"
     ]
    }
   ],
   "source": [
    "from google.cloud import bigquery\n",
    "\n",
    "client = bigquery.Client(project=project_id)\n",
    "\n",
    "sample_count = 2000\n",
    "row_count = client.query('''\n",
    "  SELECT \n",
    "    COUNT(*) as total\n",
    "  FROM `bigquery-public-data.samples.gsod`''').to_dataframe().total[0]\n",
    "\n",
    "df = client.query('''\n",
    "  SELECT\n",
    "    *\n",
    "  FROM\n",
    "    `bigquery-public-data.samples.gsod`\n",
    "  WHERE RAND() < %d/%d\n",
    "''' % (sample_count, row_count)).to_dataframe()\n",
    "\n",
    "print('Full dataset has %d rows' % row_count)"
   ]
  },
  {
   "cell_type": "code",
   "execution_count": 5,
   "metadata": {
    "colab": {
     "base_uri": "https://localhost:8080/",
     "height": 317
=======
      "cell_type": "markdown",
      "metadata": {
        "id": "JErE7lP6LBsH",
        "colab_type": "text"
      },
      "source": [
        "## 4. BigQuery를 SQL처럼 연동하기 (google.cloud 모듈 활용)\n",
        "\n",
        "연동 방법에 관한 자세한 내용은 `BigQuery` 공식 문서를 활용해보자. See [BigQuery documentation](https://cloud.google.com/bigquery/docs) and [library reference documentation](https://googlecloudplatform.github.io/google-cloud-python/latest/bigquery/usage.html)."
      ]
    },
    {
      "cell_type": "code",
      "metadata": {
        "id": "TZ9TkeTtLpGa",
        "colab_type": "code",
        "colab": {}
      },
      "source": [
        "project_id = 'bigquerytutorial-274406'"
      ],
      "execution_count": 0,
      "outputs": []
    },
    {
      "cell_type": "code",
      "metadata": {
        "id": "AxIWTYIbLtig",
        "colab_type": "code",
        "outputId": "77837fe6-f3c7-4de7-b72e-280c47504e88",
        "colab": {
          "base_uri": "https://localhost:8080/",
          "height": 34
        }
      },
      "source": [
        "from google.cloud import bigquery\n",
        "from tabulate import tabulate\n",
        "\n",
        "client = bigquery.Client(project=project_id)\n",
        "\n",
        "sample_count = 2000\n",
        "row_count = client.query('''\n",
        "  SELECT \n",
        "    COUNT(*) as total\n",
        "  FROM `bigquery-public-data.samples.gsod`''').to_dataframe().total[0]\n",
        "\n",
        "df = client.query('''\n",
        "  SELECT\n",
        "    *\n",
        "  FROM\n",
        "    `bigquery-public-data.samples.gsod`\n",
        "  WHERE RAND() < %d/%d\n",
        "''' % (sample_count, row_count)).to_dataframe()\n",
        "\n",
        "print('Full dataset has %d rows' % row_count)"
      ],
      "execution_count": 15,
      "outputs": [
        {
          "output_type": "stream",
          "text": [
            "Full dataset has 114420316 rows\n"
          ],
          "name": "stdout"
        }
      ]
>>>>>>> 90b3a4cfb9fad995488e2858c13f999615d56cd7
    },
    "colab_type": "code",
    "id": "fC6ZHDWLMoIv",
    "outputId": "a5180303-ecdc-4538-9bc1-2903d845d69d"
   },
   "outputs": [
    {
<<<<<<< HEAD
     "data": {
      "text/html": [
       "<div>\n",
       "<style scoped>\n",
       "    .dataframe tbody tr th:only-of-type {\n",
       "        vertical-align: middle;\n",
       "    }\n",
       "\n",
       "    .dataframe tbody tr th {\n",
       "        vertical-align: top;\n",
       "    }\n",
       "\n",
       "    .dataframe thead th {\n",
       "        text-align: right;\n",
       "    }\n",
       "</style>\n",
       "<table border=\"1\" class=\"dataframe\">\n",
       "  <thead>\n",
       "    <tr style=\"text-align: right;\">\n",
       "      <th></th>\n",
       "      <th>station_number</th>\n",
       "      <th>wban_number</th>\n",
       "      <th>year</th>\n",
       "      <th>month</th>\n",
       "      <th>day</th>\n",
       "      <th>mean_temp</th>\n",
       "      <th>num_mean_temp_samples</th>\n",
       "      <th>mean_dew_point</th>\n",
       "      <th>num_mean_dew_point_samples</th>\n",
       "      <th>mean_sealevel_pressure</th>\n",
       "      <th>num_mean_sealevel_pressure_samples</th>\n",
       "      <th>mean_station_pressure</th>\n",
       "      <th>num_mean_station_pressure_samples</th>\n",
       "      <th>mean_visibility</th>\n",
       "      <th>num_mean_visibility_samples</th>\n",
       "      <th>mean_wind_speed</th>\n",
       "      <th>num_mean_wind_speed_samples</th>\n",
       "      <th>max_sustained_wind_speed</th>\n",
       "      <th>max_gust_wind_speed</th>\n",
       "      <th>max_temperature</th>\n",
       "      <th>total_precipitation</th>\n",
       "      <th>snow_depth</th>\n",
       "    </tr>\n",
       "  </thead>\n",
       "  <tbody>\n",
       "    <tr>\n",
       "      <th>count</th>\n",
       "      <td>2131.000000</td>\n",
       "      <td>2131.000000</td>\n",
       "      <td>2131.000000</td>\n",
       "      <td>2131.000000</td>\n",
       "      <td>2131.000000</td>\n",
       "      <td>2131.000000</td>\n",
       "      <td>2131.000000</td>\n",
       "      <td>2028.000000</td>\n",
       "      <td>2028.000000</td>\n",
       "      <td>1580.000000</td>\n",
       "      <td>1580.000000</td>\n",
       "      <td>759.000000</td>\n",
       "      <td>759.000000</td>\n",
       "      <td>1907.000000</td>\n",
       "      <td>1907.00000</td>\n",
       "      <td>2117.000000</td>\n",
       "      <td>2117.000000</td>\n",
       "      <td>2082.000000</td>\n",
       "      <td>303.000000</td>\n",
       "      <td>2130.000000</td>\n",
       "      <td>1929.000000</td>\n",
       "      <td>107.000000</td>\n",
       "    </tr>\n",
       "    <tr>\n",
       "      <th>mean</th>\n",
       "      <td>505620.437823</td>\n",
       "      <td>90499.373534</td>\n",
       "      <td>1987.186767</td>\n",
       "      <td>6.595964</td>\n",
       "      <td>15.664008</td>\n",
       "      <td>52.467480</td>\n",
       "      <td>13.266072</td>\n",
       "      <td>41.820069</td>\n",
       "      <td>13.169132</td>\n",
       "      <td>1014.772658</td>\n",
       "      <td>11.831013</td>\n",
       "      <td>968.951251</td>\n",
       "      <td>12.453228</td>\n",
       "      <td>12.068589</td>\n",
       "      <td>12.90194</td>\n",
       "      <td>6.607038</td>\n",
       "      <td>13.239962</td>\n",
       "      <td>11.930596</td>\n",
       "      <td>24.533663</td>\n",
       "      <td>43.997934</td>\n",
       "      <td>0.061674</td>\n",
       "      <td>10.442991</td>\n",
       "    </tr>\n",
       "    <tr>\n",
       "      <th>std</th>\n",
       "      <td>301971.781523</td>\n",
       "      <td>26125.537913</td>\n",
       "      <td>16.156913</td>\n",
       "      <td>3.484313</td>\n",
       "      <td>8.757651</td>\n",
       "      <td>24.084341</td>\n",
       "      <td>7.947484</td>\n",
       "      <td>22.858185</td>\n",
       "      <td>7.961395</td>\n",
       "      <td>9.543857</td>\n",
       "      <td>7.677058</td>\n",
       "      <td>68.232133</td>\n",
       "      <td>7.838752</td>\n",
       "      <td>9.231169</td>\n",
       "      <td>7.89087</td>\n",
       "      <td>4.849586</td>\n",
       "      <td>7.932790</td>\n",
       "      <td>6.693675</td>\n",
       "      <td>9.781588</td>\n",
       "      <td>23.909454</td>\n",
       "      <td>0.266905</td>\n",
       "      <td>12.994158</td>\n",
       "    </tr>\n",
       "    <tr>\n",
       "      <th>min</th>\n",
       "      <td>10280.000000</td>\n",
       "      <td>91.000000</td>\n",
       "      <td>1935.000000</td>\n",
       "      <td>1.000000</td>\n",
       "      <td>1.000000</td>\n",
       "      <td>-58.099998</td>\n",
       "      <td>4.000000</td>\n",
       "      <td>-51.799999</td>\n",
       "      <td>4.000000</td>\n",
       "      <td>971.700012</td>\n",
       "      <td>4.000000</td>\n",
       "      <td>605.000000</td>\n",
       "      <td>4.000000</td>\n",
       "      <td>0.000000</td>\n",
       "      <td>4.00000</td>\n",
       "      <td>0.000000</td>\n",
       "      <td>4.000000</td>\n",
       "      <td>1.000000</td>\n",
       "      <td>5.100000</td>\n",
       "      <td>-72.000000</td>\n",
       "      <td>0.000000</td>\n",
       "      <td>0.400000</td>\n",
       "    </tr>\n",
       "    <tr>\n",
       "      <th>25%</th>\n",
       "      <td>246340.000000</td>\n",
       "      <td>99999.000000</td>\n",
       "      <td>1978.000000</td>\n",
       "      <td>4.000000</td>\n",
       "      <td>8.000000</td>\n",
       "      <td>38.900002</td>\n",
       "      <td>7.000000</td>\n",
       "      <td>29.400000</td>\n",
       "      <td>7.000000</td>\n",
       "      <td>1009.400024</td>\n",
       "      <td>6.000000</td>\n",
       "      <td>957.599976</td>\n",
       "      <td>7.000000</td>\n",
       "      <td>6.300000</td>\n",
       "      <td>7.00000</td>\n",
       "      <td>3.300000</td>\n",
       "      <td>7.000000</td>\n",
       "      <td>7.800000</td>\n",
       "      <td>18.000000</td>\n",
       "      <td>31.799999</td>\n",
       "      <td>0.000000</td>\n",
       "      <td>2.400000</td>\n",
       "    </tr>\n",
       "    <tr>\n",
       "      <th>50%</th>\n",
       "      <td>529830.000000</td>\n",
       "      <td>99999.000000</td>\n",
       "      <td>1989.000000</td>\n",
       "      <td>7.000000</td>\n",
       "      <td>15.000000</td>\n",
       "      <td>55.500000</td>\n",
       "      <td>8.000000</td>\n",
       "      <td>44.200001</td>\n",
       "      <td>8.000000</td>\n",
       "      <td>1014.299988</td>\n",
       "      <td>8.000000</td>\n",
       "      <td>995.900024</td>\n",
       "      <td>8.000000</td>\n",
       "      <td>9.500000</td>\n",
       "      <td>8.00000</td>\n",
       "      <td>5.600000</td>\n",
       "      <td>8.000000</td>\n",
       "      <td>10.100000</td>\n",
       "      <td>22.900000</td>\n",
       "      <td>46.100000</td>\n",
       "      <td>0.000000</td>\n",
       "      <td>6.300000</td>\n",
       "    </tr>\n",
       "    <tr>\n",
       "      <th>75%</th>\n",
       "      <td>724576.000000</td>\n",
       "      <td>99999.000000</td>\n",
       "      <td>2000.000000</td>\n",
       "      <td>10.000000</td>\n",
       "      <td>23.500000</td>\n",
       "      <td>70.400002</td>\n",
       "      <td>24.000000</td>\n",
       "      <td>58.000000</td>\n",
       "      <td>24.000000</td>\n",
       "      <td>1020.299988</td>\n",
       "      <td>22.000000</td>\n",
       "      <td>1009.599976</td>\n",
       "      <td>23.000000</td>\n",
       "      <td>14.900000</td>\n",
       "      <td>23.00000</td>\n",
       "      <td>8.700000</td>\n",
       "      <td>24.000000</td>\n",
       "      <td>15.000000</td>\n",
       "      <td>29.900000</td>\n",
       "      <td>61.150001</td>\n",
       "      <td>0.010000</td>\n",
       "      <td>13.000000</td>\n",
       "    </tr>\n",
       "    <tr>\n",
       "      <th>max</th>\n",
       "      <td>999999.000000</td>\n",
       "      <td>99999.000000</td>\n",
       "      <td>2010.000000</td>\n",
       "      <td>12.000000</td>\n",
       "      <td>31.000000</td>\n",
       "      <td>103.000000</td>\n",
       "      <td>24.000000</td>\n",
       "      <td>87.199997</td>\n",
       "      <td>24.000000</td>\n",
       "      <td>1054.199951</td>\n",
       "      <td>24.000000</td>\n",
       "      <td>1042.599976</td>\n",
       "      <td>24.000000</td>\n",
       "      <td>99.400002</td>\n",
       "      <td>24.00000</td>\n",
       "      <td>57.500000</td>\n",
       "      <td>24.000000</td>\n",
       "      <td>64.900002</td>\n",
       "      <td>62.000000</td>\n",
       "      <td>114.099998</td>\n",
       "      <td>4.330000</td>\n",
       "      <td>96.500000</td>\n",
       "    </tr>\n",
       "  </tbody>\n",
       "</table>\n",
       "</div>"
      ],
      "text/plain": [
       "       station_number   wban_number  ...  total_precipitation  snow_depth\n",
       "count     2131.000000   2131.000000  ...          1929.000000  107.000000\n",
       "mean    505620.437823  90499.373534  ...             0.061674   10.442991\n",
       "std     301971.781523  26125.537913  ...             0.266905   12.994158\n",
       "min      10280.000000     91.000000  ...             0.000000    0.400000\n",
       "25%     246340.000000  99999.000000  ...             0.000000    2.400000\n",
       "50%     529830.000000  99999.000000  ...             0.000000    6.300000\n",
       "75%     724576.000000  99999.000000  ...             0.010000   13.000000\n",
       "max     999999.000000  99999.000000  ...             4.330000   96.500000\n",
       "\n",
       "[8 rows x 22 columns]"
=======
      "cell_type": "code",
      "metadata": {
        "id": "fC6ZHDWLMoIv",
        "colab_type": "code",
        "outputId": "a086499f-400c-437a-dbce-678e1947fc2f",
        "colab": {
          "base_uri": "https://localhost:8080/",
          "height": 207
        }
      },
      "source": [
        "print(tabulate(df.describe(), tablefmt=\"pipe\", headers=\"keys\"))"
      ],
      "execution_count": 17,
      "outputs": [
        {
          "output_type": "stream",
          "text": [
            "|       |   station_number |   wban_number |      year |      month |        day |   mean_temp |   num_mean_temp_samples |   mean_dew_point |   num_mean_dew_point_samples |   mean_sealevel_pressure |   num_mean_sealevel_pressure_samples |   mean_station_pressure |   num_mean_station_pressure_samples |   mean_visibility |   num_mean_visibility_samples |   mean_wind_speed |   num_mean_wind_speed_samples |   max_sustained_wind_speed |   max_gust_wind_speed |   max_temperature |   total_precipitation |   snow_depth |\n",
            "|:------|-----------------:|--------------:|----------:|-----------:|-----------:|------------:|------------------------:|-----------------:|-----------------------------:|-------------------------:|-------------------------------------:|------------------------:|------------------------------------:|------------------:|------------------------------:|------------------:|------------------------------:|---------------------------:|----------------------:|------------------:|----------------------:|-------------:|\n",
            "| count |             2051 |        2051   | 2051      | 2051       | 2051       |   2051      |              2051       |        1974      |                   1974       |               1567       |                           1567       |                784      |                           784       |        1841       |                     1841      |        2031       |                    2031       |                 1989       |             264       |         2050      |          1871         |    101       |\n",
            "| mean  |           508359 |       91316.6 | 1986.89   |    6.44369 |   15.7596  |     52.5195 |                12.8674  |          41.9928 |                     12.773   |               1015.21    |                             10.9445  |                966.766  |                            11.5064  |          12.2796  |                       12.4829 |           6.67001 |                      12.8552  |                   12.1624  |              25.583   |           43.9789 |             0.0765099 |      8.8505  |\n",
            "| std   |           294807 |       24990.5 |   16.5317 |    3.47607 |    8.81497 |     23.699  |                 7.90362 |          22.3136 |                      7.92298 |                  9.14934 |                              7.35291 |                 66.8671 |                             7.64138 |           9.55667 |                        7.7892 |           4.79217 |                       7.89036 |                    6.80985 |               8.43217 |           23.6315 |             0.324789  |      9.63454 |\n",
            "| min   |            10010 |          73   | 1931      |    1       |    1       |    -72.3    |                 4       |         -60.7    |                      4       |                972.8     |                              4       |                637.1    |                             4       |           0       |                        4      |           0       |                       4       |                    1       |               9.7     |          -78.2    |             0         |      0.4     |\n",
            "| 25%   |           249705 |       99999   | 1976      |    3       |    8       |     39.15   |                 7       |          30.3    |                      7       |               1009.9     |                              6       |                949.35   |                             6       |           6.3     |                        6      |           3.3     |                       7       |                    7.8     |              19.4     |           32      |             0         |      1.6     |\n",
            "| 50%   |           541720 |       99999   | 1989      |    6       |   16       |     55.2    |                 8       |          44.35   |                      8       |               1014.9     |                              8       |                992.8    |                             8       |           9.8     |                        8      |           5.6     |                       8       |                   11.1     |              23.9     |           46.4    |             0         |      5.9     |\n",
            "| 75%   |           724574 |       99999   | 2000      |    9       |   23       |     70.6    |                23       |          57.1    |                     23       |               1020.65    |                             16       |               1009.2    |                            20.25    |          14.9     |                       23      |           8.9     |                      23       |                   15.5     |              29.9     |           61      |             0.02      |     13.8     |\n",
            "| max   |           999999 |       99999   | 2010      |   12       |   31       |     99.2    |                24       |          79.8    |                     24       |               1053       |                             24       |               1038.5    |                            24       |          99.4     |                       24      |          50.4     |                      24       |                   69.9     |              56.3     |           90      |             7.87      |     58.7     |\n"
          ],
          "name": "stdout"
        }
      ]
    },
    {
      "cell_type": "markdown",
      "metadata": {
        "id": "9rx7hGb1Mtyg",
        "colab_type": "text"
      },
      "source": [
        "여기에서 흥미로운 것이 있다면, `BigQuery`에서 불러온 데이터와 `pandas` 문법 연동이 가능하다는 것이다. 위 소스코드를 천천히 읽어보기를 권한다. \n",
        "\n",
        "## 5. pandas-gbq 모듈을 활용한 BigQuery 사용\n",
        "\n",
        "`Pandas` `gbq` 라이브러리는 `pandas` 공동체가 주도하는 프로젝트다. `DataFrame을 BigQuery`에 쓰고 쿼리를 실행하는 것과 같은 기본적인 기능을 다룬다. 자세한 건, 모듈의 공식문서를 확인해본다. [Pandas GBQ Documentation](https://pandas.pydata.org/pandas-docs/stable/generated/pandas.read_gbq.html)"
>>>>>>> 90b3a4cfb9fad995488e2858c13f999615d56cd7
      ]
     },
     "execution_count": 5,
     "metadata": {
      "tags": []
     },
     "output_type": "execute_result"
    }
   ],
   "source": [
    "df.describe()"
   ]
  },
  {
   "cell_type": "markdown",
   "metadata": {
    "colab_type": "text",
    "id": "9rx7hGb1Mtyg"
   },
   "source": [
    "여기에서 흥미로운 것이 있다면, `BigQuery`에서 불러온 데이터와 `pandas` 문법 연동이 가능하다는 것이다. 위 소스코드를 천천히 읽어보기를 권한다. \n",
    "\n",
    "## 5. pandas-gbq 모듈을 활용한 BigQuery 사용\n",
    "\n",
    "`Pandas` `gbq` 라이브러리는 `pandas` 공동체가 주도하는 프로젝트다. `DataFrame을 BigQuery`에 쓰고 쿼리를 실행하는 것과 같은 기본적인 기능을 다룬다. 자세한 건, 모듈의 공식문서를 확인해본다. [Pandas GBQ Documentation](https://pandas.pydata.org/pandas-docs/stable/generated/pandas.read_gbq.html)"
   ]
  },
  {
   "cell_type": "code",
   "execution_count": 6,
   "metadata": {
    "colab": {
     "base_uri": "https://localhost:8080/",
     "height": 204
    },
    "colab_type": "code",
    "id": "i-kUhTx9PxBh",
    "outputId": "2bedac75-0282-4dbc-dc12-49ef5a2622eb"
   },
   "outputs": [
    {
<<<<<<< HEAD
     "data": {
      "text/html": [
       "<div>\n",
       "<style scoped>\n",
       "    .dataframe tbody tr th:only-of-type {\n",
       "        vertical-align: middle;\n",
       "    }\n",
       "\n",
       "    .dataframe tbody tr th {\n",
       "        vertical-align: top;\n",
       "    }\n",
       "\n",
       "    .dataframe thead th {\n",
       "        text-align: right;\n",
       "    }\n",
       "</style>\n",
       "<table border=\"1\" class=\"dataframe\">\n",
       "  <thead>\n",
       "    <tr style=\"text-align: right;\">\n",
       "      <th></th>\n",
       "      <th>name</th>\n",
       "      <th>count</th>\n",
       "    </tr>\n",
       "  </thead>\n",
       "  <tbody>\n",
       "    <tr>\n",
       "      <th>0</th>\n",
       "      <td>James</td>\n",
       "      <td>272793</td>\n",
       "    </tr>\n",
       "    <tr>\n",
       "      <th>1</th>\n",
       "      <td>John</td>\n",
       "      <td>235139</td>\n",
       "    </tr>\n",
       "    <tr>\n",
       "      <th>2</th>\n",
       "      <td>Michael</td>\n",
       "      <td>225320</td>\n",
       "    </tr>\n",
       "    <tr>\n",
       "      <th>3</th>\n",
       "      <td>Robert</td>\n",
       "      <td>220399</td>\n",
       "    </tr>\n",
       "    <tr>\n",
       "      <th>4</th>\n",
       "      <td>David</td>\n",
       "      <td>219028</td>\n",
       "    </tr>\n",
       "  </tbody>\n",
       "</table>\n",
       "</div>"
      ],
      "text/plain": [
       "      name   count\n",
       "0    James  272793\n",
       "1     John  235139\n",
       "2  Michael  225320\n",
       "3   Robert  220399\n",
       "4    David  219028"
=======
      "cell_type": "code",
      "metadata": {
        "id": "i-kUhTx9PxBh",
        "colab_type": "code",
        "outputId": "08a383ef-9432-437f-d233-4e822a2d88d7",
        "colab": {
          "base_uri": "https://localhost:8080/",
          "height": 136
        }
      },
      "source": [
        "import pandas as pd\n",
        "\n",
        "sample_count = 2000\n",
        "df = pd.io.gbq.read_gbq('''\n",
        "  SELECT name, SUM(number) as count\n",
        "  FROM `bigquery-public-data.usa_names.usa_1910_2013`\n",
        "  WHERE state = 'TX'\n",
        "  GROUP BY name\n",
        "  ORDER BY count DESC\n",
        "  LIMIT 100\n",
        "''', project_id=project_id, dialect='standard')\n",
        "\n",
        "print(tabulate(df.head(), tablefmt=\"pipe\", headers=\"keys\"))"
      ],
      "execution_count": 19,
      "outputs": [
        {
          "output_type": "stream",
          "text": [
            "|    | name    |   count |\n",
            "|---:|:--------|--------:|\n",
            "|  0 | James   |  272793 |\n",
            "|  1 | John    |  235139 |\n",
            "|  2 | Michael |  225320 |\n",
            "|  3 | Robert  |  220399 |\n",
            "|  4 | David   |  219028 |\n"
          ],
          "name": "stdout"
        }
      ]
    },
    {
      "cell_type": "markdown",
      "metadata": {
        "id": "pdFArJQUQEof",
        "colab_type": "text"
      },
      "source": [
        "이 글을 읽음으로써, 이제 매우 쉽게 빅쿼리와 연동해서 사용할 수 있게 되었다. 다음에는 `R`과 연동해서 사용하는 방법에 대해 익히도록 한다. \n",
        "\n",
        "## 6. Reference\n",
        "“Getting Started with BigQuery.” Google, Google, colab.research.google.com/notebooks/bigquery.ipynb."
>>>>>>> 90b3a4cfb9fad995488e2858c13f999615d56cd7
      ]
     },
     "execution_count": 6,
     "metadata": {
      "tags": []
     },
     "output_type": "execute_result"
    }
   ],
   "source": [
    "import pandas as pd\n",
    "\n",
    "sample_count = 2000\n",
    "df = pd.io.gbq.read_gbq('''\n",
    "  SELECT name, SUM(number) as count\n",
    "  FROM `bigquery-public-data.usa_names.usa_1910_2013`\n",
    "  WHERE state = 'TX'\n",
    "  GROUP BY name\n",
    "  ORDER BY count DESC\n",
    "  LIMIT 100\n",
    "''', project_id=project_id, dialect='standard')\n",
    "\n",
    "df.head()"
   ]
  },
  {
   "cell_type": "markdown",
   "metadata": {
    "colab_type": "text",
    "id": "pdFArJQUQEof"
   },
   "source": [
    "이 글을 읽음으로써, 이제 매우 쉽게 빅쿼리와 연동해서 사용할 수 있게 되었다. 다음에는 `R`과 연동해서 사용하는 방법에 대해 익히도록 한다. \n",
    "\n",
    "## 6. Reference\n",
    "“Getting Started with BigQuery.” Google, Google, colab.research.google.com/notebooks/bigquery.ipynb."
   ]
  }
 ],
 "metadata": {
  "colab": {
   "authorship_tag": "ABX9TyN0oD59cBDwXe8k+p/tA2b4",
   "collapsed_sections": [],
   "include_colab_link": true,
   "name": "Ch03_bigquery_with_python.ipynb",
   "provenance": []
  },
  "kernelspec": {
   "display_name": "Python 3",
   "language": "python",
   "name": "python3"
  },
  "language_info": {
   "codemirror_mode": {
    "name": "ipython",
    "version": 3
   },
   "file_extension": ".py",
   "mimetype": "text/x-python",
   "name": "python",
   "nbconvert_exporter": "python",
   "pygments_lexer": "ipython3",
   "version": "3.7.7"
  }
 },
 "nbformat": 4,
 "nbformat_minor": 1
}
