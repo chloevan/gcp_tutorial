{
  "nbformat": 4,
  "nbformat_minor": 0,
  "metadata": {
    "colab": {
      "name": "Ch05_Query_Essentials(2).ipynb",
      "provenance": [],
      "collapsed_sections": [],
      "toc_visible": true,
      "authorship_tag": "ABX9TyOsPMYBMIlEhlrbFO0ye13w",
      "include_colab_link": true
    },
    "kernelspec": {
      "name": "python3",
      "display_name": "Python 3"
    }
  },
  "cells": [
    {
      "cell_type": "markdown",
      "metadata": {
        "id": "view-in-github",
        "colab_type": "text"
      },
      "source": [
        "<a href=\"https://colab.research.google.com/github/chloevan/gcp_tutorial/blob/master/02_basics/Ch05_Query_Essentials(2).ipynb\" target=\"_parent\"><img src=\"https://colab.research.google.com/assets/colab-badge.svg\" alt=\"Open In Colab\"/></a>"
      ]
    },
    {
      "cell_type": "markdown",
      "metadata": {
        "id": "9_sb9T-tPSD6",
        "colab_type": "text"
      },
      "source": [
        "---\n",
        "title: \"Ch05 Query Essentials(2)\"\n",
        "date: 2020-04-24T13:30:30+09:00\n",
        "tags:\n",
        "  - \"구글 클라우드\"\n",
        "  - \"Google Cloud\"\n",
        "  - \"빅쿼리\"\n",
        "  - \"BigQuery\"\n",
        "  - \"빅쿼리 파이썬\"\n",
        "  - \"빅쿼리 기본\"\n",
        "  - \"BigQuery with Python\"\n",
        "categories:\n",
        "  - \"구글 클라우드\"\n",
        "  - \"Google Cloud\"\n",
        "  - \"빅쿼리\"\n",
        "  - \"BigQuery\"\n",
        "  - \"Python\"\n",
        "menu: \n",
        "  gcp:\n",
        "    name: Ch05 Query Essentials(2) \n",
        "---\n",
        "\n",
        "## 1. 구글 클라우드 설정\n",
        "\n",
        "본격적인 빅쿼리 실습에 앞서서, Python과 연동하는 예제를 준비하였다. 빅쿼리 시작에 앞서서 선행적으로 클라우드 사용을 해야 한다. \n",
        "\n",
        "1. 만약 GCP 프로젝트가 없다면, 계정을 연동한다. Go to [Cloud Resource Manager](https://console.cloud.google.com/cloud-resource-manager)\n",
        "2. 그리고, 비용결제를 위한 카드를 등록한다. [Enable billing](https://support.google.com/cloud/answer/6293499#enable-billing) \n",
        "3. 마지막으로 BigQuery API를 사용해야 하기 때문에 빅쿼리 API 사용허가를 내준다.[Enable BigQuery](https://console.cloud.google.com/flows/enableapi?apiid=bigquery)\n",
        "\n",
        "위 API를 이용하지 않으면 `Python` 또는 `R`과 연동해서 사용할 수는 없다. 자주 쓰는것이 아니라면 비용은 거의 발생하지 않으니 염려하지 않아도 된다. 비용관리에 대한 자세한 내용은 [BigQuery 권장사항: 비용 관리](https://cloud.google.com/bigquery/docs/best-practices-costs?hl=ko)에서 확인하기를 바란다.  \n"
      ]
    },
    {
      "cell_type": "markdown",
      "metadata": {
        "id": "fMmpX-v2zOCF",
        "colab_type": "text"
      },
      "source": [
        "## 2. 사용자 계정 인증\n",
        "구글 코랩을 사용해서 인증 절차를 밟도록 한다. 아래 소스코드는 변경시키지 않는다. 아래 절차대로 진행하면 된다. `Gmail` 인증 절차와 비슷하다."
      ]
    },
    {
      "cell_type": "code",
      "metadata": {
        "id": "1r03a8ibPgJX",
        "colab_type": "code",
        "outputId": "ec00ebdc-4533-42d8-89c3-9fe5e72bd566",
        "colab": {
          "base_uri": "https://localhost:8080/",
          "height": 34
        }
      },
      "source": [
        "from google.colab import auth\n",
        "auth.authenticate_user()\n",
        "print('Authenticated')"
      ],
      "execution_count": 1,
      "outputs": [
        {
          "output_type": "stream",
          "text": [
            "Authenticated\n"
          ],
          "name": "stdout"
        }
      ]
    },
    {
      "cell_type": "markdown",
      "metadata": {
        "id": "IjRhhkPaPrVv",
        "colab_type": "text"
      },
      "source": [
        "## 3. 쿼리 기본\n",
        "빅쿼리는 기본적으로 데이터 웨어하우스의 기능을 가지고 있다. Structured(데이터프레임) & Semi-Structured(JSON)과 같은 DB를 지원하고 있다. Create, Read, Update, Delete 기능을 지원한다. \n",
        "\n",
        "빅쿼리는 데이터 분석을 위한 기본적인 도구이기 때문에, 웹/앱을 활용한 마케팅 분석이 필요한 업종에서는 어쩌면 반드시 가져가야할 일종의 언어이기도 하다. \n",
        "\n",
        "기본적으로 SQL문법을 지원하며, BigQuery 나름의 문법을 또한 구성하고 있다. 이제 본격적으로 코드를 작성해보자. \n",
        "\n",
        "현재 작성하는 모든 코드는 Python-BigQuery로 연동하여 작성하려고 한다. 이제 간단하게 쿼리를 작성해보자. \n",
        "\n",
        "- [Ch05-Query_Essentials(1)](https://chloevan.github.io/gcp/bigquery/02_basics/ch05_query_essentials1/)에서는 `SELECT`와 `AS`에 대해 배우는 시간을 가졌다. \n",
        "\n",
        "오늘 포스트에서는 `WHERE`, `REPLACE`, `EXCEPT` 구문에 대해 학습하는 시간을 갖도록 한다. "
      ]
    },
    {
      "cell_type": "markdown",
      "metadata": {
        "id": "FL8f-ma9zR8G",
        "colab_type": "text"
      },
      "source": [
        "### (1) WHERE\n",
        "먼저 `tripduration`이 10분 이내인 것에 관한 데이터를 찾도록 한다. `FROM` 구문 다음에는 `WHERE` 절을 추가하면 된다.  "
      ]
    },
    {
      "cell_type": "code",
      "metadata": {
        "id": "dAzbvNJVSKnc",
        "colab_type": "code",
        "outputId": "dc32778e-0354-4c08-8dcd-f666f2b5cfaa",
        "colab": {
          "base_uri": "https://localhost:8080/",
          "height": 136
        }
      },
      "source": [
        "from google.cloud import bigquery\n",
        "from tabulate import tabulate\n",
        "\n",
        "project_id = 'your_project_id'\n",
        "client = bigquery.Client(project=project_id)\n",
        "\n",
        "temp = client.query('''\n",
        "  SELECT \n",
        "    gender, tripduration\n",
        "  FROM `bigquery-public-data.new_york_citibike.citibike_trips`\n",
        "  WHERE tripduration < 600\n",
        "  LIMIT 5\n",
        "  ''').to_dataframe()\n",
        "\n",
        "print(tabulate(temp, tablefmt=\"pipe\", headers=\"keys\"))"
      ],
      "execution_count": 3,
      "outputs": [
        {
          "output_type": "stream",
          "text": [
            "|    | gender   |   tripduration |\n",
            "|---:|:---------|---------------:|\n",
            "|  0 | male     |            432 |\n",
            "|  1 | female   |            238 |\n",
            "|  2 | male     |            593 |\n",
            "|  3 | male     |            414 |\n",
            "|  4 | male     |            474 |\n"
          ],
          "name": "stdout"
        }
      ]
    },
    {
      "cell_type": "markdown",
      "metadata": {
        "id": "chdyVTZHb_nX",
        "colab_type": "text"
      },
      "source": [
        "기대한대로 600 이상은 보이지가 않는다. 이번에는 `AND`조건문을 활용하여 5분과 10분 사이에서 `female`이 빌린 `rental` 현황을 파악해보자. 이 때 `WHERE`절이 어떻게 변하는지 주의깊에 보기를 바란다. "
      ]
    },
    {
      "cell_type": "code",
      "metadata": {
        "id": "JfE0IsOWYx4t",
        "colab_type": "code",
        "outputId": "8787ed64-e075-42e0-e7b9-0023df84b672",
        "colab": {
          "base_uri": "https://localhost:8080/",
          "height": 136
        }
      },
      "source": [
        "temp = client.query('''\n",
        "  SELECT \n",
        "    gender, tripduration\n",
        "  FROM `bigquery-public-data.new_york_citibike.citibike_trips`\n",
        "  WHERE tripduration >= 300 AND tripduration < 600 AND gender ='female'\n",
        "  LIMIT 5\n",
        "  ''').to_dataframe()\n",
        "\n",
        "print(tabulate(temp, tablefmt=\"pipe\", headers=\"keys\"))"
      ],
      "execution_count": 4,
      "outputs": [
        {
          "output_type": "stream",
          "text": [
            "|    | gender   |   tripduration |\n",
            "|---:|:---------|---------------:|\n",
            "|  0 | female   |            309 |\n",
            "|  1 | female   |            304 |\n",
            "|  2 | female   |            476 |\n",
            "|  3 | female   |            406 |\n",
            "|  4 | female   |            365 |\n"
          ],
          "name": "stdout"
        }
      ]
    },
    {
      "cell_type": "markdown",
      "metadata": {
        "id": "G3XGnPiChcrz",
        "colab_type": "text"
      },
      "source": [
        "그런데, 만약에 `Gender`의 값이 `female`, `male`, `unknown`, `etc` 이렇게 구성이 되어 있을 때, `NOT female`의 값은 어떻게 될까? 이 때에는 `nonfemale`은 3개의 값이 된다. 이럴 경우에는 빅쿼리에서는 `WHERE tripduration < 600 AND NOT gender='female'` 소스를 작성할 수 있다. \n",
        "\n",
        "또한 `()`을 사용해서 값을 통제할 수 있다. 우선 아래코드를 보자. "
      ]
    },
    {
      "cell_type": "code",
      "metadata": {
        "id": "M4slewFUY-QS",
        "colab_type": "code",
        "outputId": "a3252dbf-e4d9-41e6-b4a2-66d95534c3a7",
        "colab": {
          "base_uri": "https://localhost:8080/",
          "height": 136
        }
      },
      "source": [
        "temp = client.query('''\n",
        "  SELECT \n",
        "    gender, tripduration\n",
        "  FROM `bigquery-public-data.new_york_citibike.citibike_trips`\n",
        "  WHERE (tripduration < 600 AND gender ='female') or gender = 'male'\n",
        "  LIMIT 5\n",
        "  ''').to_dataframe()\n",
        "\n",
        "print(tabulate(temp, tablefmt=\"pipe\", headers=\"keys\"))"
      ],
      "execution_count": 5,
      "outputs": [
        {
          "output_type": "stream",
          "text": [
            "|    | gender   |   tripduration |\n",
            "|---:|:---------|---------------:|\n",
            "|  0 | male     |            432 |\n",
            "|  1 | male     |            799 |\n",
            "|  2 | female   |            238 |\n",
            "|  3 | male     |            668 |\n",
            "|  4 | male     |            593 |\n"
          ],
          "name": "stdout"
        }
      ]
    },
    {
      "cell_type": "markdown",
      "metadata": {
        "id": "3eclDYhAjQkX",
        "colab_type": "text"
      },
      "source": [
        "위 코드에서 `(tripulation < 600 AND gender='female')` gender = female 이면서 `tripulation < 600` 이하인 것을 1차적으로 조회하고, 덧붙여서 `gender = male`인 것을 추가하는 코드가 된다. \n",
        "\n",
        "WHERE 구문에서 `()`을 꼭 사용해야 하는 경우가 있다. 우선 아래 에러부터 경험해보자.  "
      ]
    },
    {
      "cell_type": "code",
      "metadata": {
        "id": "oyztbCTzkzpn",
        "colab_type": "code",
        "colab": {
          "base_uri": "https://localhost:8080/",
          "height": 681
        },
        "outputId": "42ecad7a-054c-4e2c-da15-c057f3e3ac10"
      },
      "source": [
        "temp = client.query('''\n",
        "  SELECT\n",
        "    gender, tripduration/60 AS minutes\n",
        "  FROM `bigquery-public-data.new_york_citibike.citibike_trips`\n",
        "  WHERE minutes < 10\n",
        "  LIMIT 5\n",
        "  ''').to_dataframe()\n",
        "\n",
        "print(tabulate(temp, tablefmt='pipe', headers=\"keys\"))"
      ],
      "execution_count": 13,
      "outputs": [
        {
          "output_type": "stream",
          "text": [
            "ERROR:root:An unexpected error occurred while tokenizing input\n",
            "The following traceback may be corrupted or invalid\n",
            "The error message is: ('EOF in multi-line string', (1, 2))\n",
            "\n"
          ],
          "name": "stderr"
        },
        {
          "output_type": "error",
          "ename": "BadRequest",
          "evalue": "ignored",
          "traceback": [
            "\u001b[0;31m---------------------------------------------------------------------------\u001b[0m",
            "\u001b[0;31mBadRequest\u001b[0m                                Traceback (most recent call last)",
            "\u001b[0;32m<ipython-input-13-36c47fd332d3>\u001b[0m in \u001b[0;36m<module>\u001b[0;34m()\u001b[0m\n\u001b[1;32m      5\u001b[0m   \u001b[0mWHERE\u001b[0m \u001b[0mminutes\u001b[0m \u001b[0;34m<\u001b[0m \u001b[0;36m10\u001b[0m\u001b[0;34m\u001b[0m\u001b[0;34m\u001b[0m\u001b[0m\n\u001b[1;32m      6\u001b[0m   \u001b[0mLIMIT\u001b[0m \u001b[0;36m5\u001b[0m\u001b[0;34m\u001b[0m\u001b[0;34m\u001b[0m\u001b[0m\n\u001b[0;32m----> 7\u001b[0;31m   ''').to_dataframe()\n\u001b[0m\u001b[1;32m      8\u001b[0m \u001b[0;34m\u001b[0m\u001b[0m\n\u001b[1;32m      9\u001b[0m \u001b[0mprint\u001b[0m\u001b[0;34m(\u001b[0m\u001b[0mtabulate\u001b[0m\u001b[0;34m(\u001b[0m\u001b[0mtemp\u001b[0m\u001b[0;34m,\u001b[0m \u001b[0mtablefmt\u001b[0m\u001b[0;34m=\u001b[0m\u001b[0;34m'pipe'\u001b[0m\u001b[0;34m,\u001b[0m \u001b[0mheaders\u001b[0m\u001b[0;34m=\u001b[0m\u001b[0;34m\"keys\"\u001b[0m\u001b[0;34m)\u001b[0m\u001b[0;34m)\u001b[0m\u001b[0;34m\u001b[0m\u001b[0;34m\u001b[0m\u001b[0m\n",
            "\u001b[0;32m/usr/local/lib/python3.6/dist-packages/google/cloud/bigquery/job.py\u001b[0m in \u001b[0;36mto_dataframe\u001b[0;34m(self, bqstorage_client, dtypes, progress_bar_type)\u001b[0m\n\u001b[1;32m   3103\u001b[0m             \u001b[0mValueError\u001b[0m\u001b[0;34m:\u001b[0m \u001b[0mIf\u001b[0m \u001b[0mthe\u001b[0m\u001b[0;31m \u001b[0m\u001b[0;31m`\u001b[0m\u001b[0mpandas\u001b[0m\u001b[0;31m`\u001b[0m \u001b[0mlibrary\u001b[0m \u001b[0mcannot\u001b[0m \u001b[0mbe\u001b[0m \u001b[0mimported\u001b[0m\u001b[0;34m.\u001b[0m\u001b[0;34m\u001b[0m\u001b[0;34m\u001b[0m\u001b[0m\n\u001b[1;32m   3104\u001b[0m         \"\"\"\n\u001b[0;32m-> 3105\u001b[0;31m         return self.result().to_dataframe(\n\u001b[0m\u001b[1;32m   3106\u001b[0m             \u001b[0mbqstorage_client\u001b[0m\u001b[0;34m=\u001b[0m\u001b[0mbqstorage_client\u001b[0m\u001b[0;34m,\u001b[0m\u001b[0;34m\u001b[0m\u001b[0;34m\u001b[0m\u001b[0m\n\u001b[1;32m   3107\u001b[0m             \u001b[0mdtypes\u001b[0m\u001b[0;34m=\u001b[0m\u001b[0mdtypes\u001b[0m\u001b[0;34m,\u001b[0m\u001b[0;34m\u001b[0m\u001b[0;34m\u001b[0m\u001b[0m\n",
            "\u001b[0;32m/usr/local/lib/python3.6/dist-packages/google/cloud/bigquery/job.py\u001b[0m in \u001b[0;36mresult\u001b[0;34m(self, timeout, page_size, retry, max_results)\u001b[0m\n\u001b[1;32m   2972\u001b[0m         \"\"\"\n\u001b[1;32m   2973\u001b[0m         \u001b[0;32mtry\u001b[0m\u001b[0;34m:\u001b[0m\u001b[0;34m\u001b[0m\u001b[0;34m\u001b[0m\u001b[0m\n\u001b[0;32m-> 2974\u001b[0;31m             \u001b[0msuper\u001b[0m\u001b[0;34m(\u001b[0m\u001b[0mQueryJob\u001b[0m\u001b[0;34m,\u001b[0m \u001b[0mself\u001b[0m\u001b[0;34m)\u001b[0m\u001b[0;34m.\u001b[0m\u001b[0mresult\u001b[0m\u001b[0;34m(\u001b[0m\u001b[0mtimeout\u001b[0m\u001b[0;34m=\u001b[0m\u001b[0mtimeout\u001b[0m\u001b[0;34m)\u001b[0m\u001b[0;34m\u001b[0m\u001b[0;34m\u001b[0m\u001b[0m\n\u001b[0m\u001b[1;32m   2975\u001b[0m \u001b[0;34m\u001b[0m\u001b[0m\n\u001b[1;32m   2976\u001b[0m             \u001b[0;31m# Return an iterator instead of returning the job.\u001b[0m\u001b[0;34m\u001b[0m\u001b[0;34m\u001b[0m\u001b[0;34m\u001b[0m\u001b[0m\n",
            "\u001b[0;32m/usr/local/lib/python3.6/dist-packages/google/cloud/bigquery/job.py\u001b[0m in \u001b[0;36mresult\u001b[0;34m(self, timeout, retry)\u001b[0m\n\u001b[1;32m    766\u001b[0m             \u001b[0mself\u001b[0m\u001b[0;34m.\u001b[0m\u001b[0m_begin\u001b[0m\u001b[0;34m(\u001b[0m\u001b[0mretry\u001b[0m\u001b[0;34m=\u001b[0m\u001b[0mretry\u001b[0m\u001b[0;34m)\u001b[0m\u001b[0;34m\u001b[0m\u001b[0;34m\u001b[0m\u001b[0m\n\u001b[1;32m    767\u001b[0m         \u001b[0;31m# TODO: modify PollingFuture so it can pass a retry argument to done().\u001b[0m\u001b[0;34m\u001b[0m\u001b[0;34m\u001b[0m\u001b[0;34m\u001b[0m\u001b[0m\n\u001b[0;32m--> 768\u001b[0;31m         \u001b[0;32mreturn\u001b[0m \u001b[0msuper\u001b[0m\u001b[0;34m(\u001b[0m\u001b[0m_AsyncJob\u001b[0m\u001b[0;34m,\u001b[0m \u001b[0mself\u001b[0m\u001b[0;34m)\u001b[0m\u001b[0;34m.\u001b[0m\u001b[0mresult\u001b[0m\u001b[0;34m(\u001b[0m\u001b[0mtimeout\u001b[0m\u001b[0;34m=\u001b[0m\u001b[0mtimeout\u001b[0m\u001b[0;34m)\u001b[0m\u001b[0;34m\u001b[0m\u001b[0;34m\u001b[0m\u001b[0m\n\u001b[0m\u001b[1;32m    769\u001b[0m \u001b[0;34m\u001b[0m\u001b[0m\n\u001b[1;32m    770\u001b[0m     \u001b[0;32mdef\u001b[0m \u001b[0mcancelled\u001b[0m\u001b[0;34m(\u001b[0m\u001b[0mself\u001b[0m\u001b[0;34m)\u001b[0m\u001b[0;34m:\u001b[0m\u001b[0;34m\u001b[0m\u001b[0;34m\u001b[0m\u001b[0m\n",
            "\u001b[0;32m/usr/local/lib/python3.6/dist-packages/google/api_core/future/polling.py\u001b[0m in \u001b[0;36mresult\u001b[0;34m(self, timeout)\u001b[0m\n\u001b[1;32m    125\u001b[0m             \u001b[0;31m# pylint: disable=raising-bad-type\u001b[0m\u001b[0;34m\u001b[0m\u001b[0;34m\u001b[0m\u001b[0;34m\u001b[0m\u001b[0m\n\u001b[1;32m    126\u001b[0m             \u001b[0;31m# Pylint doesn't recognize that this is valid in this case.\u001b[0m\u001b[0;34m\u001b[0m\u001b[0;34m\u001b[0m\u001b[0;34m\u001b[0m\u001b[0m\n\u001b[0;32m--> 127\u001b[0;31m             \u001b[0;32mraise\u001b[0m \u001b[0mself\u001b[0m\u001b[0;34m.\u001b[0m\u001b[0m_exception\u001b[0m\u001b[0;34m\u001b[0m\u001b[0;34m\u001b[0m\u001b[0m\n\u001b[0m\u001b[1;32m    128\u001b[0m \u001b[0;34m\u001b[0m\u001b[0m\n\u001b[1;32m    129\u001b[0m         \u001b[0;32mreturn\u001b[0m \u001b[0mself\u001b[0m\u001b[0;34m.\u001b[0m\u001b[0m_result\u001b[0m\u001b[0;34m\u001b[0m\u001b[0;34m\u001b[0m\u001b[0m\n",
            "\u001b[0;31mBadRequest\u001b[0m: 400 Unrecognized name: minutes at [5:9]\n\n(job ID: 6e11f75b-208a-4f23-832d-9f1af16d9a1d)\n\n                  -----Query Job SQL Follows-----                  \n\n    |    .    |    .    |    .    |    .    |    .    |    .    |\n   1:\n   2:  SELECT\n   3:    gender, tripduration/60 AS minutes\n   4:  FROM `bigquery-public-data.new_york_citibike.citibike_trips`\n   5:  WHERE minutes < 10\n   6:  LIMIT 5\n   7:  \n    |    .    |    .    |    .    |    .    |    .    |    .    |"
          ]
        }
      ]
    },
    {
      "cell_type": "markdown",
      "metadata": {
        "id": "Pr-aosYZlcOB",
        "colab_type": "text"
      },
      "source": [
        "`BadRequest: 400 Unrecognized name: minutes at [5:9]` 이 에러 문구를 보면 `minutes`에서 에러가 나는 것을 확인할 수 있는데, AS(=Alias)를 쓰게 되는 Column명은 `WHERE`절에 쓸 수 없다. \n",
        "\n",
        "이럴 경우에는 원 column명을 작성해서 `()`에서 처리를 해줘야 한다. 예를 들면 아래와 같다. "
      ]
    },
    {
      "cell_type": "code",
      "metadata": {
        "id": "GaS4INDlmQIM",
        "colab_type": "code",
        "colab": {
          "base_uri": "https://localhost:8080/",
          "height": 136
        },
        "outputId": "afba432e-8dd9-410a-9711-2a0f69ef5253"
      },
      "source": [
        "temp = client.query('''\n",
        "  SELECT\n",
        "    gender, tripduration / 60 AS minutes\n",
        "  FROM `bigquery-public-data.new_york_citibike.citibike_trips`\n",
        "  WHERE (tripduration / 60) < 10\n",
        "  LIMIT 5\n",
        "  ''').to_dataframe()\n",
        "\n",
        "print(tabulate(temp, tablefmt='pipe', headers=\"keys\"))"
      ],
      "execution_count": 14,
      "outputs": [
        {
          "output_type": "stream",
          "text": [
            "|    | gender   |   minutes |\n",
            "|---:|:---------|----------:|\n",
            "|  0 | male     |   7.2     |\n",
            "|  1 | female   |   3.96667 |\n",
            "|  2 | male     |   9.88333 |\n",
            "|  3 | male     |   6.9     |\n",
            "|  4 | male     |   7.9     |\n"
          ],
          "name": "stdout"
        }
      ]
    },
    {
      "cell_type": "markdown",
      "metadata": {
        "id": "DOZeVALOmuWd",
        "colab_type": "text"
      },
      "source": [
        "우리가 원하는 값이 나왔고, `column`명도 `tripduration`에서 `minutes`로 바뀌는 것을 확인할 수 있다. \n",
        "\n",
        "### (2) EXCEPT, REPLACE\n",
        "이 문법을 쓰는 이유는 `BigQuery`의 가격정책과도 연관이 있다. 클라우드에서 비용은 만만하지 않은데, 조회비용은 가급적 아끼는 것이 중요하다. \n",
        "\n",
        "따라서, 원칙적으로는 `SELECT *` 문법은 쓰지 말아야 한다. 그럼에도 불구하고, 데이터 분석일을 하다보면 어쩔 수 없이 써야 하는 경우가 올 수도 있다. 이 때, `EXCEPT` 문법을 활용한다. 이 문법은 `SELECT` 구문에서 사용이 가능하다. \n",
        "\n",
        "아래 구문을 확인해보자. "
      ]
    },
    {
      "cell_type": "code",
      "metadata": {
        "id": "AdsAt7k4p-N3",
        "colab_type": "code",
        "colab": {
          "base_uri": "https://localhost:8080/",
          "height": 71
        },
        "outputId": "72aa5d18-82e5-40ed-c6b6-3dd70c0600b0"
      },
      "source": [
        "temp = client.query('''\n",
        "  SELECT\n",
        "    *\n",
        "  FROM `bigquery-public-data.new_york_citibike.citibike_stations`\n",
        "  WHERE name LIKE '%Riverside'\n",
        "  ''').to_dataframe()\n",
        "\n",
        "print(tabulate(temp, tablefmt='pipe', headers=\"keys\"))"
      ],
      "execution_count": 18,
      "outputs": [
        {
          "output_type": "stream",
          "text": [
            "| station_id   | name   | short_name   | latitude   | longitude   | region_id   | rental_methods   | capacity   | eightd_has_key_dispenser   | num_bikes_available   | num_bikes_disabled   | num_docks_available   | num_docks_disabled   | is_installed   | is_renting   | is_returning   | eightd_has_available_keys   | last_reported   |\n",
            "|--------------|--------|--------------|------------|-------------|-------------|------------------|------------|----------------------------|-----------------------|----------------------|-----------------------|----------------------|----------------|--------------|----------------|-----------------------------|-----------------|\n"
          ],
          "name": "stdout"
        }
      ]
    },
    {
      "cell_type": "markdown",
      "metadata": {
        "id": "FVFXUD8VrD_h",
        "colab_type": "text"
      },
      "source": [
        "WHERE LIKE `%Riverside` 문법은 일종의 와일드카드라고 불리운다. 즉, 0개이상의 문법과 일치해야 하는데, 여기에서는 `Riverside`문자와 일치하는 값(row)을 찾아서 관련있는 모든 열(column)을 조회한다. \n",
        "\n",
        "이번에는 `EXCEPT`문법을 추가해본다. "
      ]
    },
    {
      "cell_type": "code",
      "metadata": {
        "id": "oVJvmpSKsxFV",
        "colab_type": "code",
        "colab": {
          "base_uri": "https://localhost:8080/",
          "height": 71
        },
        "outputId": "1399af25-6dc6-4b80-d273-af486fdd8eb0"
      },
      "source": [
        "temp = client.query('''\n",
        "  SELECT\n",
        "    * EXCEPT(short_name, last_reported)\n",
        "  FROM `bigquery-public-data.new_york_citibike.citibike_stations`\n",
        "  WHERE name LIKE '%Riverside'\n",
        "  ''').to_dataframe()\n",
        "\n",
        "print(tabulate(temp, tablefmt='pipe', headers=\"keys\"))"
      ],
      "execution_count": 19,
      "outputs": [
        {
          "output_type": "stream",
          "text": [
            "| station_id   | name   | latitude   | longitude   | region_id   | rental_methods   | capacity   | eightd_has_key_dispenser   | num_bikes_available   | num_bikes_disabled   | num_docks_available   | num_docks_disabled   | is_installed   | is_renting   | is_returning   | eightd_has_available_keys   |\n",
            "|--------------|--------|------------|-------------|-------------|------------------|------------|----------------------------|-----------------------|----------------------|-----------------------|----------------------|----------------|--------------|----------------|-----------------------------|\n"
          ],
          "name": "stdout"
        }
      ]
    },
    {
      "cell_type": "markdown",
      "metadata": {
        "id": "WdqJK4Z8tVSc",
        "colab_type": "text"
      },
      "source": [
        "첫번째 조회값과 비교할 때, `short_name`과 `last_reported`값이 없어진 것을 확인할 수 있다. 특정 Column에 계산값을 바꿔서 업데이트 하는 경우 `REPLACE` 구문을 추가하기도 한다. 다음 예를 확인해보자. "
      ]
    },
    {
      "cell_type": "code",
      "metadata": {
        "id": "ht4KXQb0xJnv",
        "colab_type": "code",
        "colab": {
          "base_uri": "https://localhost:8080/",
          "height": 156
        },
        "outputId": "13d15878-cf18-4425-e744-497940d257c0"
      },
      "source": [
        "temp = client.query('''\n",
        "  SELECT\n",
        "    *\n",
        "  FROM\n",
        "    `bigquery-public-data.new_york_citibike.citibike_stations` \n",
        "  LIMIT 5\n",
        "  ''').to_dataframe()\n",
        "\n",
        "print(tabulate(temp, tablefmt='pipe', headers='keys'))"
      ],
      "execution_count": 36,
      "outputs": [
        {
          "output_type": "stream",
          "text": [
            "|    |   station_id | name                          |   short_name |   latitude |   longitude |   region_id | rental_methods   |   capacity | eightd_has_key_dispenser   |   num_bikes_available |   num_bikes_disabled |   num_docks_available |   num_docks_disabled | is_installed   | is_renting   | is_returning   | eightd_has_available_keys   | last_reported       |\n",
            "|---:|-------------:|:------------------------------|-------------:|-----------:|------------:|------------:|:-----------------|-----------:|:---------------------------|----------------------:|---------------------:|----------------------:|---------------------:|:---------------|:-------------|:---------------|:----------------------------|:--------------------|\n",
            "|  0 |          144 | Nassau St & Navy St           |      4812.02 |    40.6984 |    -73.9807 |          71 | KEY,CREDITCARD   |         58 | False                      |                    50 |                    1 |                     7 |                    0 | True           | True         | True           | False                       | 2020-04-14 00:00:00 |\n",
            "|  1 |          482 | W 15 St & 7 Ave               |      6030.06 |    40.7394 |    -73.9993 |          71 | KEY,CREDITCARD   |         77 | False                      |                    69 |                    0 |                     8 |                    0 | True           | True         | True           | False                       | 2020-04-15 00:00:00 |\n",
            "|  2 |         2005 | Railroad Ave & Kay Ave        |      4990.01 |    40.7053 |    -73.971  |          71 | KEY,CREDITCARD   |         12 | False                      |                     4 |                    0 |                     8 |                    0 | True           | True         | True           | False                       | 2020-04-15 00:00:00 |\n",
            "|  3 |          461 | E 20 St & 2 Ave               |      5971.08 |    40.7359 |    -73.9821 |          71 | KEY,CREDITCARD   |         56 | False                      |                    46 |                    1 |                     9 |                    0 | True           | True         | True           | False                       | 2020-04-15 00:00:00 |\n",
            "|  4 |           83 | Atlantic Ave & Fort Greene Pl |      4354.07 |    40.6838 |    -73.9763 |          71 | KEY,CREDITCARD   |         62 | False                      |                    51 |                    0 |                    11 |                    0 | True           | True         | True           | False                       | 2020-04-15 00:00:00 |\n"
          ],
          "name": "stdout"
        }
      ]
    },
    {
      "cell_type": "code",
      "metadata": {
        "id": "FTKrkWqAvnkg",
        "colab_type": "code",
        "colab": {
          "base_uri": "https://localhost:8080/",
          "height": 156
        },
        "outputId": "d7d6f1fc-a4a3-4546-e5e7-eb51582db59c"
      },
      "source": [
        "temp = client.query('''\n",
        "  SELECT\n",
        "    * REPLACE(capacity + 5 AS capacity)\n",
        "  FROM\n",
        "    `bigquery-public-data.new_york_citibike.citibike_stations` \n",
        "  LIMIT 5\n",
        "  ''').to_dataframe()\n",
        "\n",
        "print(tabulate(temp, tablefmt='pipe', headers='keys'))"
      ],
      "execution_count": 37,
      "outputs": [
        {
          "output_type": "stream",
          "text": [
            "|    |   station_id | name                          |   short_name |   latitude |   longitude |   region_id | rental_methods   |   capacity | eightd_has_key_dispenser   |   num_bikes_available |   num_bikes_disabled |   num_docks_available |   num_docks_disabled | is_installed   | is_renting   | is_returning   | eightd_has_available_keys   | last_reported       |\n",
            "|---:|-------------:|:------------------------------|-------------:|-----------:|------------:|------------:|:-----------------|-----------:|:---------------------------|----------------------:|---------------------:|----------------------:|---------------------:|:---------------|:-------------|:---------------|:----------------------------|:--------------------|\n",
            "|  0 |          144 | Nassau St & Navy St           |      4812.02 |    40.6984 |    -73.9807 |          71 | KEY,CREDITCARD   |         63 | False                      |                    50 |                    1 |                     7 |                    0 | True           | True         | True           | False                       | 2020-04-14 00:00:00 |\n",
            "|  1 |          482 | W 15 St & 7 Ave               |      6030.06 |    40.7394 |    -73.9993 |          71 | KEY,CREDITCARD   |         82 | False                      |                    69 |                    0 |                     8 |                    0 | True           | True         | True           | False                       | 2020-04-15 00:00:00 |\n",
            "|  2 |         2005 | Railroad Ave & Kay Ave        |      4990.01 |    40.7053 |    -73.971  |          71 | KEY,CREDITCARD   |         17 | False                      |                     4 |                    0 |                     8 |                    0 | True           | True         | True           | False                       | 2020-04-15 00:00:00 |\n",
            "|  3 |          461 | E 20 St & 2 Ave               |      5971.08 |    40.7359 |    -73.9821 |          71 | KEY,CREDITCARD   |         61 | False                      |                    46 |                    1 |                     9 |                    0 | True           | True         | True           | False                       | 2020-04-15 00:00:00 |\n",
            "|  4 |           83 | Atlantic Ave & Fort Greene Pl |      4354.07 |    40.6838 |    -73.9763 |          71 | KEY,CREDITCARD   |         67 | False                      |                    51 |                    0 |                    11 |                    0 | True           | True         | True           | False                       | 2020-04-15 00:00:00 |\n"
          ],
          "name": "stdout"
        }
      ]
    },
    {
      "cell_type": "markdown",
      "metadata": {
        "id": "Bj9rQHSSZESc",
        "colab_type": "text"
      },
      "source": [
        "column명 `capacity` 행을 보면 `5`씩 늘어나는 것을 볼 수 있다. \n",
        "\n",
        "이번시간에는 WHERE 구문과 함께, EXCEPT, REPLACE구문에 대해 배웠다. 도움이 되기를 바란다. \n",
        "다음 포스트에서는 `With`를 활용한 `SubQuery` 그리고 `ORDER BY` 대해서 배우도록 한다.  \n",
        "\n",
        "## 4. Reference\n",
        "“Getting Started with BigQuery.” Google, Google, colab.research.google.com/notebooks/bigquery.ipynb."
      ]
    }
  ]
}
