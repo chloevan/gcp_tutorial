{
 "cells": [
  {
   "cell_type": "markdown",
   "metadata": {
    "colab_type": "text",
    "id": "view-in-github"
   },
   "source": [
    "<a href=\"https://colab.research.google.com/github/chloevan/gcp_tutorial/blob/master/02_basics/Ch16_Data_Types_numeric_types.ipynb\" target=\"_parent\"><img src=\"https://colab.research.google.com/assets/colab-badge.svg\" alt=\"Open In Colab\"/></a>"
   ]
  },
  {
   "cell_type": "markdown",
   "metadata": {
    "colab_type": "text",
    "id": "9_sb9T-tPSD6"
   },
   "source": [
    "---\n",
    "title: \"Ch16 Data Types - Numeric types\"\n",
    "date: 2020-05-21T07:30:30+09:00\n",
    "tags:\n",
    "  - \"구글 클라우드\"\n",
    "  - \"Google Cloud\"\n",
    "  - \"빅쿼리\"\n",
    "  - \"BigQuery\"\n",
    "  - \"빅쿼리 파이썬\"\n",
    "  - \"빅쿼리 기본\"\n",
    "  - \"Data Types\"\n",
    "  - \"BigQuery with Python\"\n",
    "categories:\n",
    "  - \"구글 클라우드\"\n",
    "  - \"Google Cloud\"\n",
    "  - \"빅쿼리\"\n",
    "  - \"BigQuery\"\n",
    "  - \"Python\"\n",
    "menu: \n",
    "  gcp:\n",
    "    name: Ch16 Data Types - Numeric types\n",
    "---\n",
    "\n",
    "## I. 구글 클라우드 설정\n",
    "\n",
    "본격적인 빅쿼리 실습에 앞서서, Python과 연동하는 예제를 준비하였다. 빅쿼리 시작에 앞서서 선행적으로 클라우드 사용을 해야 한다. \n",
    "\n",
    "1. 만약 GCP 프로젝트가 없다면, 계정을 연동한다. Go to [Cloud Resource Manager](https://console.cloud.google.com/cloud-resource-manager)\n",
    "2. 그리고, 비용결제를 위한 카드를 등록한다. [Enable billing](https://support.google.com/cloud/answer/6293499#enable-billing) \n",
    "3. 마지막으로 BigQuery API를 사용해야 하기 때문에 빅쿼리 API 사용허가를 내준다.[Enable BigQuery](https://console.cloud.google.com/flows/enableapi?apiid=bigquery)\n",
    "\n",
    "위 API를 이용하지 않으면 `Python` 또는 `R`과 연동해서 사용할 수는 없다. 자주 쓰는것이 아니라면 비용은 거의 발생하지 않으니 염려하지 않아도 된다. 비용관리에 대한 자세한 내용은 [BigQuery 권장사항: 비용 관리](https://cloud.google.com/bigquery/docs/best-practices-costs?hl=ko)에서 확인하기를 바란다.  \n"
   ]
  },
  {
   "cell_type": "markdown",
   "metadata": {
    "colab_type": "text",
    "id": "fMmpX-v2zOCF"
   },
   "source": [
    "## II. 사용자 계정 인증\n",
    "구글 코랩을 사용해서 인증 절차를 밟도록 한다. 아래 소스코드는 변경시키지 않는다. 아래 절차대로 진행하면 된다. `Gmail` 인증 절차와 비슷하다."
   ]
  },
  {
   "cell_type": "code",
   "execution_count": 1,
   "metadata": {
    "colab": {
     "base_uri": "https://localhost:8080/",
     "height": 34
    },
    "colab_type": "code",
    "id": "1r03a8ibPgJX",
    "outputId": "3ce1e590-7d48-4f29-fb3c-a90e5d3f817e"
   },
   "outputs": [
    {
     "name": "stdout",
     "output_type": "stream",
     "text": [
      "Authenticated\n"
     ]
    }
   ],
   "source": [
    "from google.colab import auth\n",
    "auth.authenticate_user()\n",
    "print('Authenticated')"
   ]
  },
  {
   "cell_type": "markdown",
   "metadata": {
    "colab_type": "text",
    "id": "IjRhhkPaPrVv"
   },
   "source": [
    "## III. Data Types, Functions, and Operators\n",
    "- 다른 프로그래밍 언어와 마찬가지로 데이터 타입은 매우 기본적인 문법이며, 이를 숙지하는 것은 기본 문법 에러를 해결하는 데 있어서 매우 큰 도움이 된다. \n",
    "- `BigQuery`는 아래와 같이 다양한 데이터 유형을 지원한다. `(numeric, string, time, geographic, structured, and semi-structured data)`\n"
   ]
  },
  {
   "cell_type": "markdown",
   "metadata": {
    "colab_type": "text",
    "id": "D9Ib_MsZ0B5P"
   },
   "source": [
    "### (1) INT64\n",
    "- 빅쿼리에서 유일한 `integer` 데이터 유형이며, 데이터 유형의 범위는 $10^{-19}$~$10^{19}$ 사이의 값을 표현할 수 있다. \n",
    "- For real-valued numbers 값을 위해서는 `FLOAT64`, For Booleans, `BOOL`을 사용한다. \n"
   ]
  },
  {
   "cell_type": "markdown",
   "metadata": {
    "colab_type": "text",
    "id": "1CuB2txG1Uw4"
   },
   "source": [
    "### (2) Numeric\n",
    "- `Numeric` 데이터 유형은 소수점을 포함하여 모든 숫자의 개수가 38개 까지 표현 할 수 있고, 소수점은 9자리까지 표현할 수 있다. \n",
    "- 금융데이터와 같이 계산이 필요할 때 사용된다. "
   ]
  },
  {
   "cell_type": "markdown",
   "metadata": {
    "colab_type": "text",
    "id": "YElDsxM32GTh"
   },
   "source": [
    "### (3) String\n",
    "- 보통 우리가 아는 문자열을 의미한다. 원문에서는 `BYTES`와 비교를 하였는데, 우선 원문을 참고하기를 바란다. \n",
    "\n",
    "> This is a first-class type and represents variable-length sequences of Unicode characters. `BYTES` are variable-length sequence of characters `(not Unicode)`\n",
    "\n"
   ]
  },
  {
   "cell_type": "markdown",
   "metadata": {
    "colab_type": "text",
    "id": "Rci3XYbV3Dpa"
   },
   "source": [
    "### (4) Timestamp\n",
    "- 시간상의 `an absolute point in time`을 의미한다. \n"
   ]
  },
  {
   "cell_type": "markdown",
   "metadata": {
    "colab_type": "text",
    "id": "knWHC1wj9bif"
   },
   "source": [
    "### (5) Datetime\n",
    "- 날짜와 시간을 의미하며, `Date` & `Time`을 구분해서 사용할 수 있다. "
   ]
  },
  {
   "cell_type": "markdown",
   "metadata": {
    "colab_type": "text",
    "id": "-LYsTnCL9nN1"
   },
   "source": [
    "### (6) Geography\n",
    "- 지도 데이터와 관련된, 지도상의 `points`, `lines`, and `polygons`를 표현할 수 있다. "
   ]
  },
  {
   "cell_type": "markdown",
   "metadata": {
    "colab_type": "text",
    "id": "o7qSHWj3-13a"
   },
   "source": [
    "### (7) Struct and Array\n",
    "- 이 부분에 대한 설명은 필자의 글에서 확인하기를 바란다. \n",
    "  + [Ch07 Arrays & Structs](https://chloevan.github.io/gcp/bigquery/02_basics/ch07_split_unnest/)"
   ]
  },
  {
   "cell_type": "markdown",
   "metadata": {
    "colab_type": "text",
    "id": "IF3QNGAu_KJ1"
   },
   "source": [
    "## IV. Numeric Types and Functions\n",
    "- 사칙연산을 수행할 때는 `INT 64`와 `FLOAT 64` 데이터타입으로 해야 한다. \n",
    "- 간단하게 코드를 작성해보자. "
   ]
  },
  {
   "cell_type": "code",
   "execution_count": 2,
   "metadata": {
    "colab": {
     "base_uri": "https://localhost:8080/",
     "height": 68
    },
    "colab_type": "code",
    "id": "rYMRkyIOA1zc",
    "outputId": "1ff4e09d-e0f2-497d-bd8e-7602b9449e0d"
   },
   "outputs": [
    {
     "name": "stdout",
     "output_type": "stream",
     "text": [
      "   day  numrides  oneways  frac_oneway\n",
      "0  Sat      1451     1018     0.701585\n",
      "1  Sun      2376      936     0.393939\n"
     ]
    }
   ],
   "source": [
    "from google.cloud import bigquery\n",
    "from tabulate import tabulate\n",
    "import pandas as pd\n",
    "\n",
    "project_id = 'bigquerytutorial-274406'\n",
    "client = bigquery.Client(project=project_id)\n",
    "\n",
    "temp = client.query('''\n",
    "  WITH example AS (\n",
    "    SELECT 'Sat' AS day, 1451 AS numrides, 1018 AS oneways\n",
    "    UNION ALL SELECT 'Sun', 2376, 936\n",
    "  )\n",
    "  SELECT *, (oneways/numrides) AS frac_oneway\n",
    "  FROM example\n",
    "  ''').to_dataframe()\n",
    "\n",
    "print(temp)"
   ]
  },
  {
   "cell_type": "markdown",
   "metadata": {
    "colab_type": "text",
    "id": "5y6Pn7SdKWm0"
   },
   "source": [
    "- `(oneways/numrides)`와 같이 연산 할 수 있음을 확인하였다. \n",
    "- `bit` 연산을 위한 `<<`, `>>`, `&`, `|`와 같은 연산도 지원한다.  "
   ]
  },
  {
   "cell_type": "markdown",
   "metadata": {
    "colab_type": "text",
    "id": "Bj9rQHSSZESc"
   },
   "source": [
    " \n",
    "\n",
    "## V. Reference\n",
    "Lakshmanan, V. (2018). \"Exploring a powerful SQL pattern: ARRAY_AGG, STRUCT and UNNEST\" Retrieved from https://www.freecodecamp.org/news/exploring-a-powerful-sql-pattern-array-agg-struct-and-unnest-b7dcc6263e36/."
   ]
  }
 ],
 "metadata": {
  "colab": {
   "authorship_tag": "ABX9TyMBcEFXL8rZWk99BmwNlmhy",
   "collapsed_sections": [],
   "include_colab_link": true,
   "name": "Ch16_Data_Types_numeric_types.ipynb",
   "provenance": [],
   "toc_visible": true
  },
  "kernelspec": {
   "display_name": "Python 3",
   "language": "python",
   "name": "python3"
  },
  "language_info": {
   "codemirror_mode": {
    "name": "ipython",
    "version": 3
   },
   "file_extension": ".py",
   "mimetype": "text/x-python",
   "name": "python",
   "nbconvert_exporter": "python",
   "pygments_lexer": "ipython3",
   "version": "3.7.7"
  }
 },
 "nbformat": 4,
 "nbformat_minor": 1
}
