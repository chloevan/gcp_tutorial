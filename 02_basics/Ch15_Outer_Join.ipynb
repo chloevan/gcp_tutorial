{
  "nbformat": 4,
  "nbformat_minor": 0,
  "metadata": {
    "colab": {
      "name": "Ch15_Outer_Join.ipynb",
      "provenance": [],
      "collapsed_sections": [],
      "toc_visible": true,
      "authorship_tag": "ABX9TyN0nOLrYu9BaonBUti8HA/A",
      "include_colab_link": true
    },
    "kernelspec": {
      "name": "python3",
      "display_name": "Python 3"
    }
  },
  "cells": [
    {
      "cell_type": "markdown",
      "metadata": {
        "id": "view-in-github",
        "colab_type": "text"
      },
      "source": [
        "<a href=\"https://colab.research.google.com/github/chloevan/gcp_tutorial/blob/master/02_basics/Ch15_Outer_Join.ipynb\" target=\"_parent\"><img src=\"https://colab.research.google.com/assets/colab-badge.svg\" alt=\"Open In Colab\"/></a>"
      ]
    },
    {
      "cell_type": "markdown",
      "metadata": {
        "id": "9_sb9T-tPSD6",
        "colab_type": "text"
      },
      "source": [
        "---\n",
        "title: \"Ch15 Outer Join\"\n",
        "date: 2020-05-19T07:30:30+09:00\n",
        "tags:\n",
        "  - \"구글 클라우드\"\n",
        "  - \"Google Cloud\"\n",
        "  - \"빅쿼리\"\n",
        "  - \"BigQuery\"\n",
        "  - \"빅쿼리 파이썬\"\n",
        "  - \"빅쿼리 기본\"\n",
        "  - \"Outer Join\"\n",
        "  - \"BigQuery with Python\"\n",
        "categories:\n",
        "  - \"구글 클라우드\"\n",
        "  - \"Google Cloud\"\n",
        "  - \"빅쿼리\"\n",
        "  - \"BigQuery\"\n",
        "  - \"Python\"\n",
        "menu: \n",
        "  gcp:\n",
        "    name: Ch15 Outer Join\n",
        "---\n",
        "\n",
        "## I. 구글 클라우드 설정\n",
        "\n",
        "본격적인 빅쿼리 실습에 앞서서, Python과 연동하는 예제를 준비하였다. 빅쿼리 시작에 앞서서 선행적으로 클라우드 사용을 해야 한다. \n",
        "\n",
        "1. 만약 GCP 프로젝트가 없다면, 계정을 연동한다. Go to [Cloud Resource Manager](https://console.cloud.google.com/cloud-resource-manager)\n",
        "2. 그리고, 비용결제를 위한 카드를 등록한다. [Enable billing](https://support.google.com/cloud/answer/6293499#enable-billing) \n",
        "3. 마지막으로 BigQuery API를 사용해야 하기 때문에 빅쿼리 API 사용허가를 내준다.[Enable BigQuery](https://console.cloud.google.com/flows/enableapi?apiid=bigquery)\n",
        "\n",
        "위 API를 이용하지 않으면 `Python` 또는 `R`과 연동해서 사용할 수는 없다. 자주 쓰는것이 아니라면 비용은 거의 발생하지 않으니 염려하지 않아도 된다. 비용관리에 대한 자세한 내용은 [BigQuery 권장사항: 비용 관리](https://cloud.google.com/bigquery/docs/best-practices-costs?hl=ko)에서 확인하기를 바란다.  \n"
      ]
    },
    {
      "cell_type": "markdown",
      "metadata": {
        "id": "fMmpX-v2zOCF",
        "colab_type": "text"
      },
      "source": [
        "## II. 사용자 계정 인증\n",
        "구글 코랩을 사용해서 인증 절차를 밟도록 한다. 아래 소스코드는 변경시키지 않는다. 아래 절차대로 진행하면 된다. `Gmail` 인증 절차와 비슷하다."
      ]
    },
    {
      "cell_type": "code",
      "metadata": {
        "id": "1r03a8ibPgJX",
        "colab_type": "code",
        "outputId": "d4a068e4-b397-4ac2-cf00-47c55b7f9cc1",
        "colab": {
          "base_uri": "https://localhost:8080/",
          "height": 34
        }
      },
      "source": [
        "from google.colab import auth\n",
        "auth.authenticate_user()\n",
        "print('Authenticated')"
      ],
      "execution_count": 0,
      "outputs": [
        {
          "output_type": "stream",
          "text": [
            "Authenticated\n"
          ],
          "name": "stdout"
        }
      ]
    },
    {
      "cell_type": "markdown",
      "metadata": {
        "id": "IjRhhkPaPrVv",
        "colab_type": "text"
      },
      "source": [
        "## III. 쿼리 기본\n",
        "빅쿼리는 기본적으로 데이터 웨어하우스의 기능을 가지고 있다. Structured(데이터프레임) & Semi-Structured(JSON)과 같은 DB를 지원하고 있다. Create, Read, Update, Delete 기능을 지원한다. \n",
        "\n",
        "빅쿼리는 데이터 분석을 위한 기본적인 도구이기 때문에, 웹/앱을 활용한 마케팅 분석이 필요한 업종에서는 어쩌면 반드시 가져가야할 일종의 언어이기도 하다. \n",
        "\n",
        "기본적으로 SQL문법을 지원하며, BigQuery 나름의 문법을 또한 구성하고 있다. 이제 본격적으로 코드를 작성해보자. \n",
        "\n",
        "현재 작성하는 모든 코드는 Python-BigQuery로 연동하여 작성하려고 한다. 이제 간단하게 쿼리를 작성해보자. \n",
        "\n",
        "- [Ch05-Query_Essentials(1)](https://chloevan.github.io/gcp/bigquery/02_basics/ch05_query_essentials1/)에서는 `SELECT`와 `AS`에 대해 배우는 시간을 가졌다. \n",
        "- [Ch05-Query_Essentials(2)](https://chloevan.github.io/gcp/bigquery/02_basics/ch05_query_essentials2/)에서는 `WHERE`와 `EXCEPT`, 그리고 `REPLACE`에 대해 배우는 시간을 가졌다.\n",
        "- [Ch05-Query_Essentials(3)](https://chloevan.github.io/gcp/bigquery/02_basics/ch05_query_essentials3/)에서는 `SubQuery`에 대해서 집중적으로 배우는 시간을 가졌다.  \n",
        "- [Ch06 SQL Aggregates](https://chloevan.github.io/gcp/bigquery/02_basics/ch06_sql_aggregates/)에서는 집계함수를 사용해서 데이터를 조금 더 디테일하게 요약하는 것을 배웠다.\n",
        "- [Ch07 Arrays & Structs](https://chloevan.github.io/gcp/bigquery/02_basics/ch07_split_unnest/)에서는 빅쿼리에서 가상의 테이블과 그리고 배열을 만드는 법을 익혔다. \n",
        "- [Ch08_Creating_Arrays_with_Array_AGG](https://chloevan.github.io/gcp/bigquery/02_basics/ch08_creating_arrays_with_array_agg/)\n",
        "- [Ch09_Array_Of_Struct](https://chloevan.github.io/gcp/bigquery/02_basics/ch09_struct_and_tuple/) Struct을 활용하여 독특한 쿼리 결과문을 확인하였다. \n",
        "- [Ch10 UNNEST an Array](https://chloevan.github.io/gcp/bigquery/02_basics/ch10_unnest_an_array/) 에서, `Struct`을 만든 임시 테이블을 보다 가독성 좋게 필드로 구분한 것을 확인하였다. \n",
        "- [Ch11 Powerful SQL Pattern](https://chloevan.github.io/gcp/bigquery/02_basics/ch11_powerful_sql_pattern/)에서 `ARRAY`, `Struct`, `UNNEST`을 활용하여 `Powerful`한 쿼리를 작성하였습니다. \n",
        "- [Ch12 Join Explained](https://chloevan.github.io/gcp/bigquery/02_basics/ch12_join_explained/)에서 처음으로 두개의 다른 조직에서 온 데이터를 합쳐서 의미있는 데이터를 만들어가는 과정을 진행하였습니다. \n",
        "- [Ch13 Inner Join](https://chloevan.github.io/gcp/bigquery/02_basics/ch13_inner_join/)에서 Table Join에 대해 학습하는 시간을 가졌습니다. \n",
        "- [Ch14 Cross Join](https://chloevan.github.io/gcp/bigquery/02_basics/ch14_cross_join/)을 통해서 두 테이블의 모든 경우의 수를 조회하는 방식에 대해서 배웠습니다. "
      ]
    },
    {
      "cell_type": "markdown",
      "metadata": {
        "id": "VkozqZeVibW7",
        "colab_type": "text"
      },
      "source": [
        "## IV. Outer Join\n",
        "- 조인하는 여러테이블에서 한 쪽에는 데이터가 있고, 한 쪽에는 데이터가 없는 경우, 데이터가 있는 쪽 테이블의 내용을 모두 출력한다. \n",
        "- 즉, 조건에 맞지 않아도 해당하는 행을 출력하고 싶을 때 사용할 수 있다. \n"
      ]
    },
    {
      "cell_type": "markdown",
      "metadata": {
        "id": "izWxhOfmrR74",
        "colab_type": "text"
      },
      "source": [
        "### (1) Outer Join의 종류\n",
        "- `Outer Join`에는 크게 3가지의 조인 종류가 있다. (`Full Outer Join`, `Left Outer Join`, `Right Outer Join`)\n",
        "- 순차적으로 확인해보도록 한다. "
      ]
    },
    {
      "cell_type": "markdown",
      "metadata": {
        "id": "xJFEI3RpYt3U",
        "colab_type": "text"
      },
      "source": [
        "### (2) Full Outer Join\n",
        "- 코드를 작성한다. "
      ]
    },
    {
      "cell_type": "code",
      "metadata": {
        "id": "dAzbvNJVSKnc",
        "colab_type": "code",
        "outputId": "2a7e6a55-98e6-4a7c-fbc8-939a145ed504",
        "colab": {
          "base_uri": "https://localhost:8080/",
          "height": 156
        }
      },
      "source": [
        "from google.cloud import bigquery\n",
        "from tabulate import tabulate\n",
        "import pandas as pd\n",
        "\n",
        "project_id = 'bigquerytutorial-274406'\n",
        "client = bigquery.Client(project=project_id)\n",
        "\n",
        "temp = client.query('''\n",
        "  WITH winners AS (\n",
        "    SELECT 'John' as person, '100m' as event\n",
        "    UNION ALL SELECT 'Hiroshi', '200m'\n",
        "    UNION ALL SELECT 'Sita', '400m', \n",
        "    UNION ALL SELECT 'Kwame', '50m'\n",
        "  ),\n",
        "  gifts AS (\n",
        "    SELECT 'Google Home' as gift, '100m' as event\n",
        "    UNION ALL SELECT 'Google Hub', '200m'\n",
        "    UNION ALL SELECT 'Pixel3', '400m'\n",
        "    UNION ALL SELECT 'Google Mini', '5000m'\n",
        "  )\n",
        "  SELECT person, gift\n",
        "  FROM winners\n",
        "  FULL OUTER JOIN gifts on winners.event = gifts.event\n",
        "  ''').to_dataframe()\n",
        "\n",
        "print(temp)"
      ],
      "execution_count": 6,
      "outputs": [
        {
          "output_type": "stream",
          "text": [
            "WARNING:google.auth._default:No project ID could be determined. Consider running `gcloud config set project` or setting the GOOGLE_CLOUD_PROJECT environment variable\n"
          ],
          "name": "stderr"
        },
        {
          "output_type": "stream",
          "text": [
            "    person         gift\n",
            "0     John  Google Home\n",
            "1  Hiroshi   Google Hub\n",
            "2     Sita       Pixel3\n",
            "3    Kwame         None\n",
            "4     None  Google Mini\n"
          ],
          "name": "stdout"
        }
      ]
    },
    {
      "cell_type": "markdown",
      "metadata": {
        "id": "WHz2Jx66ZGQU",
        "colab_type": "text"
      },
      "source": [
        "- 각 컬럼마다 `None`값을 볼 수 있는데, 이는 조건이 맞지 않아도 조회됨을 의미힌다. "
      ]
    },
    {
      "cell_type": "markdown",
      "metadata": {
        "id": "BxIHvKwQckGu",
        "colab_type": "text"
      },
      "source": [
        "### (3) Left Outer Join\n",
        "- `Winners` table은 모두 조회가 되지만, 조건에 맞지 않는 `gifts`는 버리게 됨을 알 수 있다.  "
      ]
    },
    {
      "cell_type": "code",
      "metadata": {
        "id": "uC6K5-YMusC0",
        "colab_type": "code",
        "outputId": "543fac22-2d56-4e6f-dcb8-06d0454be420",
        "colab": {
          "base_uri": "https://localhost:8080/",
          "height": 102
        }
      },
      "source": [
        "temp = client.query('''\n",
        "  WITH winners AS (\n",
        "    SELECT 'John' as person, '100m' as event\n",
        "    UNION ALL SELECT 'Hiroshi', '200m'\n",
        "    UNION ALL SELECT 'Sita', '400m', \n",
        "    UNION ALL SELECT 'Kwame', '50m'\n",
        "  ),\n",
        "  gifts AS (\n",
        "    SELECT 'Google Home' as gift, '100m' as event\n",
        "    UNION ALL SELECT 'Google Hub', '200m'\n",
        "    UNION ALL SELECT 'Pixel3', '400m'\n",
        "    UNION ALL SELECT 'Google Mini', '5000m'\n",
        "  )\n",
        "  SELECT person, gift\n",
        "  FROM winners\n",
        "  LEFT OUTER JOIN gifts on winners.event = gifts.event\n",
        "  ''').to_dataframe()\n",
        "\n",
        "print(temp)"
      ],
      "execution_count": 7,
      "outputs": [
        {
          "output_type": "stream",
          "text": [
            "    person         gift\n",
            "0     John  Google Home\n",
            "1  Hiroshi   Google Hub\n",
            "2     Sita       Pixel3\n",
            "3    Kwame         None\n"
          ],
          "name": "stdout"
        }
      ]
    },
    {
      "cell_type": "markdown",
      "metadata": {
        "id": "_9kTKOATvOet",
        "colab_type": "text"
      },
      "source": [
        "### (4) Right Outer Join\n",
        "- 이번에는 반대로 모든 `gifts`의 값이 조회되고, 조건에 만족하지 않는 `winners`는 조회되지 않는다.  \n"
      ]
    },
    {
      "cell_type": "code",
      "metadata": {
        "id": "6mqaqdkvvZDl",
        "colab_type": "code",
        "outputId": "27739bfa-4e6a-4ad3-c568-f9ec68c1d5fc",
        "colab": {
          "base_uri": "https://localhost:8080/",
          "height": 102
        }
      },
      "source": [
        "temp = client.query('''\n",
        "  WITH winners AS (\n",
        "    SELECT 'John' as person, '100m' as event\n",
        "    UNION ALL SELECT 'Hiroshi', '200m'\n",
        "    UNION ALL SELECT 'Sita', '400m', \n",
        "    UNION ALL SELECT 'Kwame', '50m'\n",
        "  ),\n",
        "  gifts AS (\n",
        "    SELECT 'Google Home' as gift, '100m' as event\n",
        "    UNION ALL SELECT 'Google Hub', '200m'\n",
        "    UNION ALL SELECT 'Pixel3', '400m'\n",
        "    UNION ALL SELECT 'Google Mini', '5000m'\n",
        "  )\n",
        "  SELECT person, gift\n",
        "  FROM winners\n",
        "  RIGHT OUTER JOIN gifts on winners.event = gifts.event\n",
        "  ''').to_dataframe()\n",
        "\n",
        "print(temp)"
      ],
      "execution_count": 12,
      "outputs": [
        {
          "output_type": "stream",
          "text": [
            "    person         gift\n",
            "0     John  Google Home\n",
            "1  Hiroshi   Google Hub\n",
            "2     Sita       Pixel3\n",
            "3     None  Google Mini\n"
          ],
          "name": "stdout"
        }
      ]
    },
    {
      "cell_type": "markdown",
      "metadata": {
        "id": "lZrPr_d4omsY",
        "colab_type": "text"
      },
      "source": [
        "## V. Inner Join\n",
        "- Inner Join은 두 테이블의 조건이 맞는 값만 추출된다. 위 `Outer Join`과의 차이점에 대해 확인한다. "
      ]
    },
    {
      "cell_type": "code",
      "metadata": {
        "id": "KL-ZWiQIpryw",
        "colab_type": "code",
        "colab": {
          "base_uri": "https://localhost:8080/",
          "height": 85
        },
        "outputId": "d7e8d178-5c49-4dd2-f1d5-0dbded750c11"
      },
      "source": [
        "temp = client.query('''\n",
        "  WITH winners AS (\n",
        "    SELECT 'John' as person, '100m' as event\n",
        "    UNION ALL SELECT 'Hiroshi', '200m'\n",
        "    UNION ALL SELECT 'Sita', '400m', \n",
        "    UNION ALL SELECT 'Kwame', '50m'\n",
        "  ),\n",
        "  gifts AS (\n",
        "    SELECT 'Google Home' as gift, '100m' as event\n",
        "    UNION ALL SELECT 'Google Hub', '200m'\n",
        "    UNION ALL SELECT 'Pixel3', '400m'\n",
        "    UNION ALL SELECT 'Google Mini', '5000m'\n",
        "  )\n",
        "  SELECT person, gift\n",
        "  FROM winners\n",
        "  INNER JOIN gifts on winners.event = gifts.event\n",
        "  ''').to_dataframe()\n",
        "\n",
        "print(temp)"
      ],
      "execution_count": 13,
      "outputs": [
        {
          "output_type": "stream",
          "text": [
            "    person         gift\n",
            "0     John  Google Home\n",
            "1  Hiroshi   Google Hub\n",
            "2     Sita       Pixel3\n"
          ],
          "name": "stdout"
        }
      ]
    },
    {
      "cell_type": "markdown",
      "metadata": {
        "id": "DVg-kXUHa3xt",
        "colab_type": "text"
      },
      "source": [
        "## V. 결론\n",
        " \n"
      ]
    },
    {
      "cell_type": "markdown",
      "metadata": {
        "id": "Bj9rQHSSZESc",
        "colab_type": "text"
      },
      "source": [
        " \n",
        "\n",
        "## VI. Reference\n",
        "Lakshmanan, V. (2018). \"Exploring a powerful SQL pattern: ARRAY_AGG, STRUCT and UNNEST\" Retrieved from https://www.freecodecamp.org/news/exploring-a-powerful-sql-pattern-array-agg-struct-and-unnest-b7dcc6263e36/."
      ]
    }
  ]
}