{
  "nbformat": 4,
  "nbformat_minor": 0,
  "metadata": {
    "colab": {
      "name": "Ch22_cleaner_null_handling_with_coalesce.ipynb",
      "provenance": [],
      "collapsed_sections": [],
      "toc_visible": true,
      "authorship_tag": "ABX9TyMPFxeMs4Fv2gVoGwmIdyTf",
      "include_colab_link": true
    },
    "kernelspec": {
      "name": "python3",
      "display_name": "Python 3"
    }
  },
  "cells": [
    {
      "cell_type": "markdown",
      "metadata": {
        "id": "view-in-github",
        "colab_type": "text"
      },
      "source": [
        "<a href=\"https://colab.research.google.com/github/chloevan/gcp_tutorial/blob/master/02_basics/Ch22_cleaner_null_handling_with_coalesce.ipynb\" target=\"_parent\"><img src=\"https://colab.research.google.com/assets/colab-badge.svg\" alt=\"Open In Colab\"/></a>"
      ]
    },
    {
      "cell_type": "markdown",
      "metadata": {
        "id": "9_sb9T-tPSD6",
        "colab_type": "text"
      },
      "source": [
        "---\n",
        "title: \"Ch22 Cleaner Null Handling with Coalesce\"\n",
        "date: 2020-06-14T12:30:30+09:00\n",
        "tags:\n",
        "  - \"구글 클라우드\"\n",
        "  - \"Google Cloud\"\n",
        "  - \"빅쿼리\"\n",
        "  - \"BigQuery\"\n",
        "  - \"빅쿼리 파이썬\"\n",
        "  - \"빅쿼리 기본\"\n",
        "  - \"Conditional Expressions\"\n",
        "  - \"BigQuery with Python\"\n",
        "categories:\n",
        "  - \"구글 클라우드\"\n",
        "  - \"Google Cloud\"\n",
        "  - \"빅쿼리\"\n",
        "  - \"BigQuery\"\n",
        "  - \"Python\"\n",
        "menu: \n",
        "  gcp:\n",
        "    name: Ch22 Cleaner Null Handling with Coalesce\n",
        "---\n",
        "\n",
        "## I. 구글 클라우드 설정\n",
        "\n",
        "본격적인 빅쿼리 실습에 앞서서, Python과 연동하는 예제를 준비하였다. 빅쿼리 시작에 앞서서 선행적으로 클라우드 사용을 해야 한다. \n",
        "\n",
        "1. 만약 GCP 프로젝트가 없다면, 계정을 연동한다. Go to [Cloud Resource Manager](https://console.cloud.google.com/cloud-resource-manager)\n",
        "2. 그리고, 비용결제를 위한 카드를 등록한다. [Enable billing](https://support.google.com/cloud/answer/6293499#enable-billing) \n",
        "3. 마지막으로 BigQuery API를 사용해야 하기 때문에 빅쿼리 API 사용허가를 내준다.[Enable BigQuery](https://console.cloud.google.com/flows/enableapi?apiid=bigquery)\n",
        "\n",
        "위 API를 이용하지 않으면 `Python` 또는 `R`과 연동해서 사용할 수는 없다. 자주 쓰는것이 아니라면 비용은 거의 발생하지 않으니 염려하지 않아도 된다. 비용관리에 대한 자세한 내용은 [BigQuery 권장사항: 비용 관리](https://cloud.google.com/bigquery/docs/best-practices-costs?hl=ko)에서 확인하기를 바란다.  \n"
      ]
    },
    {
      "cell_type": "markdown",
      "metadata": {
        "id": "fMmpX-v2zOCF",
        "colab_type": "text"
      },
      "source": [
        "## II. 사용자 계정 인증\n",
        "구글 코랩을 사용해서 인증 절차를 밟도록 한다. 아래 소스코드는 변경시키지 않는다. 아래 절차대로 진행하면 된다. `Gmail` 인증 절차와 비슷하다."
      ]
    },
    {
      "cell_type": "code",
      "metadata": {
        "id": "1r03a8ibPgJX",
        "colab_type": "code",
        "outputId": "9371662a-e8d8-4598-e3f0-a2c5637bf494",
        "colab": {
          "base_uri": "https://localhost:8080/",
          "height": 34
        }
      },
      "source": [
        "from google.colab import auth\n",
        "auth.authenticate_user()\n",
        "print('Authenticated')"
      ],
      "execution_count": 1,
      "outputs": [
        {
          "output_type": "stream",
          "text": [
            "Authenticated\n"
          ],
          "name": "stdout"
        }
      ]
    },
    {
      "cell_type": "markdown",
      "metadata": {
        "id": "IjRhhkPaPrVv",
        "colab_type": "text"
      },
      "source": [
        "## III. Null Handling with Coalesce\n",
        "- 우선 아래 데이터를 확인합니다. "
      ]
    },
    {
      "cell_type": "code",
      "metadata": {
        "id": "xHpQRGuktVW-",
        "colab_type": "code",
        "outputId": "c87d4fd9-fcb5-4fe1-818b-cfc884ed2968",
        "colab": {
          "base_uri": "https://localhost:8080/",
          "height": 119
        }
      },
      "source": [
        "from google.cloud import bigquery\n",
        "from tabulate import tabulate\n",
        "import pandas as pd\n",
        "\n",
        "project_id = 'bigquerytutorial-274406'\n",
        "client = bigquery.Client(project=project_id)\n",
        "\n",
        "temp = client.query('''\n",
        "  WITH catalog AS (\n",
        "    SELECT 30.0 AS costPrice, 0.15 AS markup, 0.1 AS taxRate\n",
        "    UNION ALL SELECT NULL, 0.21, 0.15\n",
        "    UNION ALL SELECT 30.0, NULL, 0.09\n",
        "    UNION ALL SELECT 30.0, 0.30, NULL\n",
        "    UNION ALL SELECT 30.0, NULL, NULL\n",
        "  )\n",
        "\n",
        "  SELECT * \n",
        "  FROM catalog\n",
        "  ''').to_dataframe()\n",
        "\n",
        "print(temp)"
      ],
      "execution_count": 3,
      "outputs": [
        {
          "output_type": "stream",
          "text": [
            "   costPrice  markup  taxRate\n",
            "0       30.0    0.15     0.10\n",
            "1        NaN    0.21     0.15\n",
            "2       30.0     NaN     0.09\n",
            "3       30.0    0.30      NaN\n",
            "4       30.0     NaN      NaN\n"
          ],
          "name": "stdout"
        }
      ]
    },
    {
      "cell_type": "markdown",
      "metadata": {
        "id": "tx3_vJjR9T0I",
        "colab_type": "text"
      },
      "source": [
        "- 위 3개의 `column`을 활용해서 `salesPrice` 새로운 `column`을 만든다. "
      ]
    },
    {
      "cell_type": "code",
      "metadata": {
        "id": "svRgr-hl9coh",
        "colab_type": "code",
        "colab": {
          "base_uri": "https://localhost:8080/",
          "height": 119
        },
        "outputId": "643afb36-14df-462b-9950-2e8b156a1516"
      },
      "source": [
        "temp = client.query('''\n",
        "  WITH catalog AS (\n",
        "    SELECT 30.0 AS costPrice, 0.15 AS markup, 0.1 AS taxRate\n",
        "    UNION ALL SELECT NULL, 0.21, 0.15\n",
        "    UNION ALL SELECT 30.0, NULL, 0.09\n",
        "    UNION ALL SELECT 30.0, 0.30, NULL\n",
        "    UNION ALL SELECT 30.0, NULL, NULL\n",
        "  )\n",
        "\n",
        "  SELECT \n",
        "    *, ROUND(\n",
        "      costPrice * markup * taxRate, 2) as salesPrice\n",
        "  FROM catalog\n",
        "  ''').to_dataframe()\n",
        "\n",
        "print(temp)"
      ],
      "execution_count": 10,
      "outputs": [
        {
          "output_type": "stream",
          "text": [
            "   costPrice  markup  taxRate  salesPrice\n",
            "0       30.0    0.15     0.10        0.45\n",
            "1        NaN    0.21     0.15         NaN\n",
            "2       30.0     NaN     0.09         NaN\n",
            "3       30.0    0.30      NaN         NaN\n",
            "4       30.0     NaN      NaN         NaN\n"
          ],
          "name": "stdout"
        }
      ]
    },
    {
      "cell_type": "markdown",
      "metadata": {
        "id": "Toyfkgjd-2E_",
        "colab_type": "text"
      },
      "source": [
        "- 위의 결과처럼, 첫번째의 행만 정상적으로 추가되는 것을 확인할 수 있다. \n",
        "- 이 때, `taxRate`에 0.1를 추가하는데, 만약에 `markup`의 값도 NULL이라면 추가하지 않도록 하는 쿼리를 작성한다.\n",
        "  + 이 때, `Coalesce` 함수를 사용한다. "
      ]
    },
    {
      "cell_type": "code",
      "metadata": {
        "id": "PQxr8_zt_VaT",
        "colab_type": "code",
        "colab": {
          "base_uri": "https://localhost:8080/",
          "height": 119
        },
        "outputId": "93d3b6bc-333d-4beb-9430-18c0e493d436"
      },
      "source": [
        "temp = client.query('''\n",
        "  WITH catalog AS (\n",
        "    SELECT 30.0 AS costPrice, 0.15 AS markup, 0.1 AS taxRate\n",
        "    UNION ALL SELECT NULL, 0.21, 0.15\n",
        "    UNION ALL SELECT 30.0, NULL, 0.09\n",
        "    UNION ALL SELECT 30.0, 0.30, NULL\n",
        "    UNION ALL SELECT 30.0, NULL, NULL\n",
        "  )\n",
        "\n",
        "  SELECT \n",
        "    *, ROUND(COALESCE(\n",
        "      costPrice * (1+markup) * (1+taxRate), \n",
        "      costPrice * 1.05 * (1+taxRate), \n",
        "      costPrice * (1+markup) * 1.10, \n",
        "      NULL), 2) AS salesPrice\n",
        "  FROM catalog\n",
        "  ''').to_dataframe()\n",
        "\n",
        "print(temp)"
      ],
      "execution_count": 11,
      "outputs": [
        {
          "output_type": "stream",
          "text": [
            "   costPrice  markup  taxRate  salesPrice\n",
            "0       30.0    0.15     0.10       37.95\n",
            "1        NaN    0.21     0.15         NaN\n",
            "2       30.0     NaN     0.09       34.34\n",
            "3       30.0    0.30      NaN       42.90\n",
            "4       30.0     NaN      NaN         NaN\n"
          ],
          "name": "stdout"
        }
      ]
    },
    {
      "cell_type": "markdown",
      "metadata": {
        "id": "XH1ffeVyAbra",
        "colab_type": "text"
      },
      "source": [
        "- 다만, 이 `COALESCE` 함수의 문제점은 구문이 복잡하기도 하지만, `두개의 참조 column`이 모두 `NULL`이면 값을 구할수가 없다. \n",
        "  + 마지막 `row`를 확인해보자. \n",
        "- 빅쿼리는 `IFNULL` 함수는 지원한다. `COALESCE`를 보다 단순화 하는데 있다. \n",
        "- `IFNULL(a,b)`는 `COALESCE(a,b)`와 같고, 결과물은 만약 `a`가 `NULL`이라면 `b`와 같다. \n",
        "  + IF(a is null, b, a)와 같다. \n"
      ]
    },
    {
      "cell_type": "code",
      "metadata": {
        "id": "A_kkXeehB0k1",
        "colab_type": "code",
        "colab": {
          "base_uri": "https://localhost:8080/",
          "height": 119
        },
        "outputId": "e62e5285-17b4-4152-a920-cf37ce8273d4"
      },
      "source": [
        "temp = client.query('''\n",
        "  WITH catalog AS (\n",
        "    SELECT 30.0 AS costPrice, 0.15 AS markup, 0.1 AS taxRate\n",
        "    UNION ALL SELECT NULL, 0.21, 0.15\n",
        "    UNION ALL SELECT 30.0, NULL, 0.09\n",
        "    UNION ALL SELECT 30.0, 0.30, NULL\n",
        "    UNION ALL SELECT 30.0, NULL, NULL\n",
        "  )\n",
        "\n",
        "  SELECT \n",
        "    *, ROUND(\n",
        "      costPrice * \n",
        "      (1 + IFNULL(markup, 0.05)) * \n",
        "      (1 + IFNULL(taxRate, 0.10)), 2) AS salesPrice\n",
        "  FROM catalog\n",
        "  ''').to_dataframe()\n",
        "\n",
        "print(temp)"
      ],
      "execution_count": 12,
      "outputs": [
        {
          "output_type": "stream",
          "text": [
            "   costPrice  markup  taxRate  salesPrice\n",
            "0       30.0    0.15     0.10       37.95\n",
            "1        NaN    0.21     0.15         NaN\n",
            "2       30.0     NaN     0.09       34.34\n",
            "3       30.0    0.30      NaN       42.90\n",
            "4       30.0     NaN      NaN       34.65\n"
          ],
          "name": "stdout"
        }
      ]
    },
    {
      "cell_type": "markdown",
      "metadata": {
        "id": "1ScIygaDCMA0",
        "colab_type": "text"
      },
      "source": [
        "- 보시다시피, 마지막 결과값도 같이 출력됨을 확인할 수 있다. \n"
      ]
    },
    {
      "cell_type": "markdown",
      "metadata": {
        "id": "Bj9rQHSSZESc",
        "colab_type": "text"
      },
      "source": [
        "## IV. Reference\n",
        "Lakshmanan, V., & Tigani, J. (2020). Google BigQuery: the definitive guide: data warehousing, analytics, and machine learning at scale. Beijing: OReilly."
      ]
    }
  ]
}