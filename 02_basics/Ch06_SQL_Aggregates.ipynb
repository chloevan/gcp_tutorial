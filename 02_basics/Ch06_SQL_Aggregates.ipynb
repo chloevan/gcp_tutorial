{
  "nbformat": 4,
  "nbformat_minor": 0,
  "metadata": {
    "colab": {
      "name": "Ch06_SQL_Aggregates.ipynb",
      "provenance": [],
      "collapsed_sections": [],
      "toc_visible": true,
      "authorship_tag": "ABX9TyN2K6dBwWfCs6XP9BFCA9y1",
      "include_colab_link": true
    },
    "kernelspec": {
      "name": "python3",
      "display_name": "Python 3"
    }
  },
  "cells": [
    {
      "cell_type": "markdown",
      "metadata": {
        "id": "view-in-github",
        "colab_type": "text"
      },
      "source": [
        "<a href=\"https://colab.research.google.com/github/chloevan/gcp_tutorial/blob/master/02_basics/Ch06_SQL_Aggregates.ipynb\" target=\"_parent\"><img src=\"https://colab.research.google.com/assets/colab-badge.svg\" alt=\"Open In Colab\"/></a>"
      ]
    },
    {
      "cell_type": "markdown",
      "metadata": {
        "id": "9_sb9T-tPSD6",
        "colab_type": "text"
      },
      "source": [
        "---\n",
        "title: \"Ch06 SQL Aggregates\"\n",
        "date: 2020-04-26T12:30:30+09:00\n",
        "tags:\n",
        "  - \"구글 클라우드\"\n",
        "  - \"Google Cloud\"\n",
        "  - \"빅쿼리\"\n",
        "  - \"BigQuery\"\n",
        "  - \"빅쿼리 파이썬\"\n",
        "  - \"빅쿼리 기본\"\n",
        "  - \"Aggregates\"\n",
        "  - \"Group By\"\n",
        "  - \"Having\"\n",
        "  - \"Distinct\"\n",
        "  - \"BigQuery with Python\"\n",
        "categories:\n",
        "  - \"구글 클라우드\"\n",
        "  - \"Google Cloud\"\n",
        "  - \"빅쿼리\"\n",
        "  - \"BigQuery\"\n",
        "  - \"Python\"\n",
        "menu: \n",
        "  gcp:\n",
        "    name: Ch06 SQL Aggregates\n",
        "---\n",
        "\n",
        "## 1. 구글 클라우드 설정\n",
        "\n",
        "본격적인 빅쿼리 실습에 앞서서, Python과 연동하는 예제를 준비하였다. 빅쿼리 시작에 앞서서 선행적으로 클라우드 사용을 해야 한다. \n",
        "\n",
        "1. 만약 GCP 프로젝트가 없다면, 계정을 연동한다. Go to [Cloud Resource Manager](https://console.cloud.google.com/cloud-resource-manager)\n",
        "2. 그리고, 비용결제를 위한 카드를 등록한다. [Enable billing](https://support.google.com/cloud/answer/6293499#enable-billing) \n",
        "3. 마지막으로 BigQuery API를 사용해야 하기 때문에 빅쿼리 API 사용허가를 내준다.[Enable BigQuery](https://console.cloud.google.com/flows/enableapi?apiid=bigquery)\n",
        "\n",
        "위 API를 이용하지 않으면 `Python` 또는 `R`과 연동해서 사용할 수는 없다. 자주 쓰는것이 아니라면 비용은 거의 발생하지 않으니 염려하지 않아도 된다. 비용관리에 대한 자세한 내용은 [BigQuery 권장사항: 비용 관리](https://cloud.google.com/bigquery/docs/best-practices-costs?hl=ko)에서 확인하기를 바란다.  \n"
      ]
    },
    {
      "cell_type": "markdown",
      "metadata": {
        "id": "fMmpX-v2zOCF",
        "colab_type": "text"
      },
      "source": [
        "## 2. 사용자 계정 인증\n",
        "구글 코랩을 사용해서 인증 절차를 밟도록 한다. 아래 소스코드는 변경시키지 않는다. 아래 절차대로 진행하면 된다. `Gmail` 인증 절차와 비슷하다."
      ]
    },
    {
      "cell_type": "code",
      "metadata": {
        "id": "1r03a8ibPgJX",
        "colab_type": "code",
        "outputId": "d158f4b3-6692-4088-f268-04fbb94cb39c",
        "colab": {
          "base_uri": "https://localhost:8080/",
          "height": 34
        }
      },
      "source": [
        "from google.colab import auth\n",
        "auth.authenticate_user()\n",
        "print('Authenticated')"
      ],
      "execution_count": 1,
      "outputs": [
        {
          "output_type": "stream",
          "text": [
            "Authenticated\n"
          ],
          "name": "stdout"
        }
      ]
    },
    {
      "cell_type": "markdown",
      "metadata": {
        "id": "IjRhhkPaPrVv",
        "colab_type": "text"
      },
      "source": [
        "## 3. 쿼리 기본\n",
        "빅쿼리는 기본적으로 데이터 웨어하우스의 기능을 가지고 있다. Structured(데이터프레임) & Semi-Structured(JSON)과 같은 DB를 지원하고 있다. Create, Read, Update, Delete 기능을 지원한다. \n",
        "\n",
        "빅쿼리는 데이터 분석을 위한 기본적인 도구이기 때문에, 웹/앱을 활용한 마케팅 분석이 필요한 업종에서는 어쩌면 반드시 가져가야할 일종의 언어이기도 하다. \n",
        "\n",
        "기본적으로 SQL문법을 지원하며, BigQuery 나름의 문법을 또한 구성하고 있다. 이제 본격적으로 코드를 작성해보자. \n",
        "\n",
        "현재 작성하는 모든 코드는 Python-BigQuery로 연동하여 작성하려고 한다. 이제 간단하게 쿼리를 작성해보자. \n",
        "\n",
        "- [Ch05-Query_Essentials(1)](https://chloevan.github.io/gcp/bigquery/02_basics/ch05_query_essentials1/)에서는 `SELECT`와 `AS`에 대해 배우는 시간을 가졌다. \n",
        "- [Ch05-Query_Essentials(2)](https://chloevan.github.io/gcp/bigquery/02_basics/ch05_query_essentials2/)에서는 `WHERE`와 `EXCEPT`, 그리고 `REPLACE`에 대해 배우는 시간을 가졌다.\n",
        "- [Ch05-Query_Essentials(3)](https://chloevan.github.io/gcp/bigquery/02_basics/ch05_query_essentials3/)에서는 `SubQuery`에 대해서 집중적으로 배우는 시간을 가졌다.  \n",
        "\n",
        "오늘 포스트에서는 `Aggregates`, 일반적인 집계함수 처리법에 대해 학습하도록 한다.  \n",
        "\n"
      ]
    },
    {
      "cell_type": "markdown",
      "metadata": {
        "id": "FL8f-ma9zR8G",
        "colab_type": "text"
      },
      "source": [
        "### (1) Group By\n",
        "SQL에서 평균을 구해보자. SQL이 일반적으로 조회기능만 가지고 있다고 생각하면 안된다. 기본적으로 SQL에서 처리할 수 있는 단순한 계산들은 Database에서 해주는 것이 많은 도움이 된다. \n",
        "\n",
        "평균을 구하려는 건, 다름이 아니라 남성 이용자들의 평균 `tripduration` 시간을 알아보자는 데 있다. 어떻게 해야할까? "
      ]
    },
    {
      "cell_type": "code",
      "metadata": {
        "id": "dAzbvNJVSKnc",
        "colab_type": "code",
        "outputId": "fe96f9a6-3129-4be5-89a7-ec081ee7ca45",
        "colab": {
          "base_uri": "https://localhost:8080/",
          "height": 105
        }
      },
      "source": [
        "from google.cloud import bigquery\n",
        "from tabulate import tabulate\n",
        "\n",
        "project_id = 'bigquerytutorial-274406'\n",
        "client = bigquery.Client(project=project_id)\n",
        "\n",
        "temp = client.query('''\n",
        "  SELECT \n",
        "    AVG(tripduration / 60) as avg_trip_duration\n",
        "  FROM `bigquery-public-data.new_york_citibike.citibike_trips`\n",
        "  WHERE gender = 'male'\n",
        "  ''').to_dataframe()\n",
        "\n",
        "print(tabulate(temp, tablefmt=\"pipe\", headers=\"keys\"))"
      ],
      "execution_count": 3,
      "outputs": [
        {
          "output_type": "stream",
          "text": [
            "WARNING:google.auth._default:No project ID could be determined. Consider running `gcloud config set project` or setting the GOOGLE_CLOUD_PROJECT environment variable\n"
          ],
          "name": "stderr"
        },
        {
          "output_type": "stream",
          "text": [
            "|    |   avg_trip_duration |\n",
            "|---:|--------------------:|\n",
            "|  0 |             13.4156 |\n"
          ],
          "name": "stdout"
        }
      ]
    },
    {
      "cell_type": "markdown",
      "metadata": {
        "id": "RR1PzqyQl-m0",
        "colab_type": "text"
      },
      "source": [
        "다른 구문은 지난시간에 계속 배운 것이기 때문에 익숙하지만, `AVG()` 함수가 사용되었다. \n",
        "\n",
        "이번에는 조금 더 업그레이드를 해본다. 실무에서 전체 평균은 그렇게 중요하지 않다. 각 속성별로 `gender`를 그룹화 해서 비교하는 것을 기본 원칙으로 삼는다. "
      ]
    },
    {
      "cell_type": "code",
      "metadata": {
        "id": "uff0zJ-ZnJCQ",
        "colab_type": "code",
        "outputId": "73365fe6-f960-4b96-94ce-e4b2d9fe63f2",
        "colab": {
          "base_uri": "https://localhost:8080/",
          "height": 102
        }
      },
      "source": [
        "temp = client.query('''\n",
        "  SELECT\n",
        "    gender, AVG(tripduration / 60) AS avg_trip_duration\n",
        "  FROM `bigquery-public-data.new_york_citibike.citibike_trips`\n",
        "  WHERE tripduration is not NULL\n",
        "  GROUP BY\n",
        "    gender\n",
        "  ORDER BY\n",
        "    avg_trip_duration\n",
        "  ''')\n",
        "\n",
        "print(tabulate(temp, tablefmt='pipe', headers='keys'))\n"
      ],
      "execution_count": 9,
      "outputs": [
        {
          "output_type": "stream",
          "text": [
            "| 0       |       1 |\n",
            "|:--------|--------:|\n",
            "| male    | 13.4156 |\n",
            "| female  | 15.9775 |\n",
            "| unknown | 31.4395 |\n"
          ],
          "name": "stdout"
        }
      ]
    },
    {
      "cell_type": "markdown",
      "metadata": {
        "id": "3jMEPUSiv6Lv",
        "colab_type": "text"
      },
      "source": [
        "위 구문을 이해하는데 있어서 `GROUP BY`를 주의해서 봐야한다. 그룹화 하려는 Column명을 `SELECT`다음에 명시를 해줘야 한 뒤, 작성해야줘야 한다. 만약 `SELECT`문에 `gender`가 없으면 그룹별 값은 구해지지만, `gender`가 없기 때문에 불완전한 쿼리 결과물이 나온다. 빠르게 확인해보자. "
      ]
    },
    {
      "cell_type": "code",
      "metadata": {
        "id": "alh6sSvCwuGU",
        "colab_type": "code",
        "colab": {
          "base_uri": "https://localhost:8080/",
          "height": 102
        },
        "outputId": "850c52ef-cc3e-4f45-c26a-a3a99c33fc24"
      },
      "source": [
        "temp = client.query('''\n",
        "  SELECT\n",
        "    AVG(tripduration / 60) AS avg_trip_duration\n",
        "  FROM `bigquery-public-data.new_york_citibike.citibike_trips`\n",
        "  WHERE tripduration is not NULL\n",
        "  GROUP BY\n",
        "    gender\n",
        "  ORDER BY\n",
        "    avg_trip_duration\n",
        "  ''')\n",
        "\n",
        "print(tabulate(temp, tablefmt='pipe', headers='keys'))"
      ],
      "execution_count": 8,
      "outputs": [
        {
          "output_type": "stream",
          "text": [
            "|       0 |\n",
            "|--------:|\n",
            "| 13.4156 |\n",
            "| 15.9775 |\n",
            "| 31.4395 |\n"
          ],
          "name": "stdout"
        }
      ]
    },
    {
      "cell_type": "markdown",
      "metadata": {
        "id": "wW5e04qGww-f",
        "colab_type": "text"
      },
      "source": [
        "두 구문을 비교해서, 어떻게 `GROUP BY`를 써야 할지 확인해본다. \n",
        "\n"
      ]
    },
    {
      "cell_type": "markdown",
      "metadata": {
        "id": "KJjgnuGQoihx",
        "colab_type": "text"
      },
      "source": [
        "### (2) HAVING\n",
        "`Having`은 언제 쓸까? 영어 동사를 알고 있다면 이해하는데 큰 어려움이 없을 것이다. 간단하게 설명하면, Having은 `WHERE`절과 비슷한 기능을 갖는 일종의 필터링을 한다. `male`, `female`, `unknown` 값이 나온 것에서 평균 15이하인 것을 제거한다고 해보자. \n",
        "\n"
      ]
    },
    {
      "cell_type": "code",
      "metadata": {
        "id": "Ya-fwWJZyP2f",
        "colab_type": "code",
        "colab": {
          "base_uri": "https://localhost:8080/",
          "height": 85
        },
        "outputId": "e870863b-f4ba-404a-e416-f090fad380f7"
      },
      "source": [
        "temp = client.query('''\n",
        "  SELECT\n",
        "    gender, AVG(tripduration / 60) AS avg_trip_duration\n",
        "  FROM `bigquery-public-data.new_york_citibike.citibike_trips`\n",
        "  WHERE tripduration is not NULL\n",
        "  GROUP BY\n",
        "    gender\n",
        "  HAVING avg_trip_duration > 14\n",
        "  ORDER BY\n",
        "    avg_trip_duration\n",
        "  ''')\n",
        "\n",
        "print(tabulate(temp, tablefmt='pipe', headers='keys'))"
      ],
      "execution_count": 12,
      "outputs": [
        {
          "output_type": "stream",
          "text": [
            "| 0       |       1 |\n",
            "|:--------|--------:|\n",
            "| female  | 15.9775 |\n",
            "| unknown | 31.4395 |\n"
          ],
          "name": "stdout"
        }
      ]
    },
    {
      "cell_type": "markdown",
      "metadata": {
        "id": "Z2bad0tgyfyG",
        "colab_type": "text"
      },
      "source": [
        "15이하였던 `male`이 사라진 것을 확인할 수 있다. 그런데, 이 때, `HAVING`절의 위치가 중요하다. `HAVING`절이 `ORDER BY`앞에 명시가 되고 있는 것을 확인할 수 있다. \n",
        "\n",
        "만약 `HAVING`절이 `ORDER BY`뒤에 오면 어떻게 될까?"
      ]
    },
    {
      "cell_type": "code",
      "metadata": {
        "id": "4Pd7gsVky32L",
        "colab_type": "code",
        "colab": {
          "base_uri": "https://localhost:8080/",
          "height": 647
        },
        "outputId": "9000eee8-d19a-48f4-ad47-4d6626a1e9de"
      },
      "source": [
        "temp = client.query('''\n",
        "  SELECT\n",
        "    gender, AVG(tripduration / 60) AS avg_trip_duration\n",
        "  FROM `bigquery-public-data.new_york_citibike.citibike_trips`\n",
        "  WHERE tripduration is not NULL\n",
        "  GROUP BY\n",
        "    gender\n",
        "  ORDER BY\n",
        "    avg_trip_duration\n",
        "  HAVING avg_trip_duration > 14\n",
        "  ''')\n",
        "\n",
        "print(tabulate(temp, tablefmt='pipe', headers='keys'))"
      ],
      "execution_count": 13,
      "outputs": [
        {
          "output_type": "error",
          "ename": "BadRequest",
          "evalue": "ignored",
          "traceback": [
            "\u001b[0;31m---------------------------------------------------------------------------\u001b[0m",
            "\u001b[0;31mBadRequest\u001b[0m                                Traceback (most recent call last)",
            "\u001b[0;32m<ipython-input-13-3a9913fbbf59>\u001b[0m in \u001b[0;36m<module>\u001b[0;34m()\u001b[0m\n\u001b[1;32m     11\u001b[0m   ''')\n\u001b[1;32m     12\u001b[0m \u001b[0;34m\u001b[0m\u001b[0m\n\u001b[0;32m---> 13\u001b[0;31m \u001b[0mprint\u001b[0m\u001b[0;34m(\u001b[0m\u001b[0mtabulate\u001b[0m\u001b[0;34m(\u001b[0m\u001b[0mtemp\u001b[0m\u001b[0;34m,\u001b[0m \u001b[0mtablefmt\u001b[0m\u001b[0;34m=\u001b[0m\u001b[0;34m'pipe'\u001b[0m\u001b[0;34m,\u001b[0m \u001b[0mheaders\u001b[0m\u001b[0;34m=\u001b[0m\u001b[0;34m'keys'\u001b[0m\u001b[0;34m)\u001b[0m\u001b[0;34m)\u001b[0m\u001b[0;34m\u001b[0m\u001b[0;34m\u001b[0m\u001b[0m\n\u001b[0m",
            "\u001b[0;32m/usr/local/lib/python3.6/dist-packages/tabulate.py\u001b[0m in \u001b[0;36mtabulate\u001b[0;34m(tabular_data, headers, tablefmt, floatfmt, numalign, stralign, missingval, showindex, disable_numparse, colalign)\u001b[0m\n\u001b[1;32m   1425\u001b[0m         \u001b[0mtabular_data\u001b[0m \u001b[0;34m=\u001b[0m \u001b[0;34m[\u001b[0m\u001b[0;34m]\u001b[0m\u001b[0;34m\u001b[0m\u001b[0;34m\u001b[0m\u001b[0m\n\u001b[1;32m   1426\u001b[0m     list_of_lists, headers = _normalize_tabular_data(\n\u001b[0;32m-> 1427\u001b[0;31m         \u001b[0mtabular_data\u001b[0m\u001b[0;34m,\u001b[0m \u001b[0mheaders\u001b[0m\u001b[0;34m,\u001b[0m \u001b[0mshowindex\u001b[0m\u001b[0;34m=\u001b[0m\u001b[0mshowindex\u001b[0m\u001b[0;34m\u001b[0m\u001b[0;34m\u001b[0m\u001b[0m\n\u001b[0m\u001b[1;32m   1428\u001b[0m     )\n\u001b[1;32m   1429\u001b[0m \u001b[0;34m\u001b[0m\u001b[0m\n",
            "\u001b[0;32m/usr/local/lib/python3.6/dist-packages/tabulate.py\u001b[0m in \u001b[0;36m_normalize_tabular_data\u001b[0;34m(tabular_data, headers, showindex)\u001b[0m\n\u001b[1;32m   1023\u001b[0m \u001b[0;34m\u001b[0m\u001b[0m\n\u001b[1;32m   1024\u001b[0m     \u001b[0;32melse\u001b[0m\u001b[0;34m:\u001b[0m  \u001b[0;31m# it's a usual an iterable of iterables, or a NumPy array\u001b[0m\u001b[0;34m\u001b[0m\u001b[0;34m\u001b[0m\u001b[0m\n\u001b[0;32m-> 1025\u001b[0;31m         \u001b[0mrows\u001b[0m \u001b[0;34m=\u001b[0m \u001b[0mlist\u001b[0m\u001b[0;34m(\u001b[0m\u001b[0mtabular_data\u001b[0m\u001b[0;34m)\u001b[0m\u001b[0;34m\u001b[0m\u001b[0;34m\u001b[0m\u001b[0m\n\u001b[0m\u001b[1;32m   1026\u001b[0m \u001b[0;34m\u001b[0m\u001b[0m\n\u001b[1;32m   1027\u001b[0m         \u001b[0;32mif\u001b[0m \u001b[0mheaders\u001b[0m \u001b[0;34m==\u001b[0m \u001b[0;34m\"keys\"\u001b[0m \u001b[0;32mand\u001b[0m \u001b[0;32mnot\u001b[0m \u001b[0mrows\u001b[0m\u001b[0;34m:\u001b[0m\u001b[0;34m\u001b[0m\u001b[0;34m\u001b[0m\u001b[0m\n",
            "\u001b[0;32m/usr/local/lib/python3.6/dist-packages/google/cloud/bigquery/job.py\u001b[0m in \u001b[0;36m__iter__\u001b[0;34m(self)\u001b[0m\n\u001b[1;32m   3110\u001b[0m \u001b[0;34m\u001b[0m\u001b[0m\n\u001b[1;32m   3111\u001b[0m     \u001b[0;32mdef\u001b[0m \u001b[0m__iter__\u001b[0m\u001b[0;34m(\u001b[0m\u001b[0mself\u001b[0m\u001b[0;34m)\u001b[0m\u001b[0;34m:\u001b[0m\u001b[0;34m\u001b[0m\u001b[0;34m\u001b[0m\u001b[0m\n\u001b[0;32m-> 3112\u001b[0;31m         \u001b[0;32mreturn\u001b[0m \u001b[0miter\u001b[0m\u001b[0;34m(\u001b[0m\u001b[0mself\u001b[0m\u001b[0;34m.\u001b[0m\u001b[0mresult\u001b[0m\u001b[0;34m(\u001b[0m\u001b[0;34m)\u001b[0m\u001b[0;34m)\u001b[0m\u001b[0;34m\u001b[0m\u001b[0;34m\u001b[0m\u001b[0m\n\u001b[0m\u001b[1;32m   3113\u001b[0m \u001b[0;34m\u001b[0m\u001b[0m\n\u001b[1;32m   3114\u001b[0m \u001b[0;34m\u001b[0m\u001b[0m\n",
            "\u001b[0;32m/usr/local/lib/python3.6/dist-packages/google/cloud/bigquery/job.py\u001b[0m in \u001b[0;36mresult\u001b[0;34m(self, timeout, page_size, retry, max_results)\u001b[0m\n\u001b[1;32m   2972\u001b[0m         \"\"\"\n\u001b[1;32m   2973\u001b[0m         \u001b[0;32mtry\u001b[0m\u001b[0;34m:\u001b[0m\u001b[0;34m\u001b[0m\u001b[0;34m\u001b[0m\u001b[0m\n\u001b[0;32m-> 2974\u001b[0;31m             \u001b[0msuper\u001b[0m\u001b[0;34m(\u001b[0m\u001b[0mQueryJob\u001b[0m\u001b[0;34m,\u001b[0m \u001b[0mself\u001b[0m\u001b[0;34m)\u001b[0m\u001b[0;34m.\u001b[0m\u001b[0mresult\u001b[0m\u001b[0;34m(\u001b[0m\u001b[0mtimeout\u001b[0m\u001b[0;34m=\u001b[0m\u001b[0mtimeout\u001b[0m\u001b[0;34m)\u001b[0m\u001b[0;34m\u001b[0m\u001b[0;34m\u001b[0m\u001b[0m\n\u001b[0m\u001b[1;32m   2975\u001b[0m \u001b[0;34m\u001b[0m\u001b[0m\n\u001b[1;32m   2976\u001b[0m             \u001b[0;31m# Return an iterator instead of returning the job.\u001b[0m\u001b[0;34m\u001b[0m\u001b[0;34m\u001b[0m\u001b[0;34m\u001b[0m\u001b[0m\n",
            "\u001b[0;32m/usr/local/lib/python3.6/dist-packages/google/cloud/bigquery/job.py\u001b[0m in \u001b[0;36mresult\u001b[0;34m(self, timeout, retry)\u001b[0m\n\u001b[1;32m    766\u001b[0m             \u001b[0mself\u001b[0m\u001b[0;34m.\u001b[0m\u001b[0m_begin\u001b[0m\u001b[0;34m(\u001b[0m\u001b[0mretry\u001b[0m\u001b[0;34m=\u001b[0m\u001b[0mretry\u001b[0m\u001b[0;34m)\u001b[0m\u001b[0;34m\u001b[0m\u001b[0;34m\u001b[0m\u001b[0m\n\u001b[1;32m    767\u001b[0m         \u001b[0;31m# TODO: modify PollingFuture so it can pass a retry argument to done().\u001b[0m\u001b[0;34m\u001b[0m\u001b[0;34m\u001b[0m\u001b[0;34m\u001b[0m\u001b[0m\n\u001b[0;32m--> 768\u001b[0;31m         \u001b[0;32mreturn\u001b[0m \u001b[0msuper\u001b[0m\u001b[0;34m(\u001b[0m\u001b[0m_AsyncJob\u001b[0m\u001b[0;34m,\u001b[0m \u001b[0mself\u001b[0m\u001b[0;34m)\u001b[0m\u001b[0;34m.\u001b[0m\u001b[0mresult\u001b[0m\u001b[0;34m(\u001b[0m\u001b[0mtimeout\u001b[0m\u001b[0;34m=\u001b[0m\u001b[0mtimeout\u001b[0m\u001b[0;34m)\u001b[0m\u001b[0;34m\u001b[0m\u001b[0;34m\u001b[0m\u001b[0m\n\u001b[0m\u001b[1;32m    769\u001b[0m \u001b[0;34m\u001b[0m\u001b[0m\n\u001b[1;32m    770\u001b[0m     \u001b[0;32mdef\u001b[0m \u001b[0mcancelled\u001b[0m\u001b[0;34m(\u001b[0m\u001b[0mself\u001b[0m\u001b[0;34m)\u001b[0m\u001b[0;34m:\u001b[0m\u001b[0;34m\u001b[0m\u001b[0;34m\u001b[0m\u001b[0m\n",
            "\u001b[0;32m/usr/local/lib/python3.6/dist-packages/google/api_core/future/polling.py\u001b[0m in \u001b[0;36mresult\u001b[0;34m(self, timeout)\u001b[0m\n\u001b[1;32m    125\u001b[0m             \u001b[0;31m# pylint: disable=raising-bad-type\u001b[0m\u001b[0;34m\u001b[0m\u001b[0;34m\u001b[0m\u001b[0;34m\u001b[0m\u001b[0m\n\u001b[1;32m    126\u001b[0m             \u001b[0;31m# Pylint doesn't recognize that this is valid in this case.\u001b[0m\u001b[0;34m\u001b[0m\u001b[0;34m\u001b[0m\u001b[0;34m\u001b[0m\u001b[0m\n\u001b[0;32m--> 127\u001b[0;31m             \u001b[0;32mraise\u001b[0m \u001b[0mself\u001b[0m\u001b[0;34m.\u001b[0m\u001b[0m_exception\u001b[0m\u001b[0;34m\u001b[0m\u001b[0;34m\u001b[0m\u001b[0m\n\u001b[0m\u001b[1;32m    128\u001b[0m \u001b[0;34m\u001b[0m\u001b[0m\n\u001b[1;32m    129\u001b[0m         \u001b[0;32mreturn\u001b[0m \u001b[0mself\u001b[0m\u001b[0;34m.\u001b[0m\u001b[0m_result\u001b[0m\u001b[0;34m\u001b[0m\u001b[0;34m\u001b[0m\u001b[0m\n",
            "\u001b[0;31mBadRequest\u001b[0m: 400 Syntax error: Unexpected keyword HAVING at [10:3]\n\n(job ID: 96ceb51a-9673-479f-be00-22c50a047e24)\n\n                  -----Query Job SQL Follows-----                  \n\n    |    .    |    .    |    .    |    .    |    .    |    .    |\n   1:\n   2:  SELECT\n   3:    gender, AVG(tripduration / 60) AS avg_trip_duration\n   4:  FROM `bigquery-public-data.new_york_citibike.citibike_trips`\n   5:  WHERE tripduration is not NULL\n   6:  GROUP BY\n   7:    gender\n   8:  ORDER BY\n   9:    avg_trip_duration\n  10:  HAVING avg_trip_duration > 14\n  11:  \n    |    .    |    .    |    .    |    .    |    .    |    .    |"
          ]
        }
      ]
    },
    {
      "cell_type": "markdown",
      "metadata": {
        "id": "6PXH15q8zBLt",
        "colab_type": "text"
      },
      "source": [
        "보다시피, 에러가 나타나는데, 에러 메시지는 `400 Syntax error: Unexpected keyword HAVING at [10:3]` 즉, 문법에 맞지 않다는 뜻이다. 이런 SQL구문을 처음 접하는 사람에게는 어려울 수 있지만, 기본 문법은 문법이기 때문에 명시적으로 암기해서 작성하는 것이 좋다. "
      ]
    },
    {
      "cell_type": "markdown",
      "metadata": {
        "id": "yHWVx2G4zXaX",
        "colab_type": "text"
      },
      "source": [
        "### (3) DISTINCT\n",
        "`DISTINCT`는 특정 그룹에서 `구별되다, 따로 분리되다 등` 해석되고는 합니다. 각 문자열의 각 `Column`들은 특정 값들이 반복해서 나타나게 되는데, 이 때, `DISTINCT`를 사용하면 반복되는 값들을 빠르게 확인할 수 있습니다. 코드를 통해서 결과를 확인해봅니다. "
      ]
    },
    {
      "cell_type": "code",
      "metadata": {
        "id": "AqvD5YJe2Wou",
        "colab_type": "code",
        "colab": {
          "base_uri": "https://localhost:8080/",
          "height": 102
        },
        "outputId": "f153c8eb-b955-45c0-ac63-cae5797d670f"
      },
      "source": [
        "temp = client.query('''\n",
        "  SELECT DISTINCT\n",
        "     usertype\n",
        "  FROM\n",
        "    `bigquery-public-data.new_york_citibike.citibike_trips`\n",
        "  ''').to_dataframe()\n",
        "\n",
        "print(tabulate(temp, tablefmt='pipe', headers='keys'))"
      ],
      "execution_count": 23,
      "outputs": [
        {
          "output_type": "stream",
          "text": [
            "|    | usertype   |\n",
            "|---:|:-----------|\n",
            "|  0 | Subscriber |\n",
            "|  1 | Customer   |\n",
            "|  2 |            |\n"
          ],
          "name": "stdout"
        }
      ]
    },
    {
      "cell_type": "markdown",
      "metadata": {
        "id": "maHXpIgQ3auE",
        "colab_type": "text"
      },
      "source": [
        "결과를 조회해보니, 4개가 출력되었다. 왜 4개일까? 결과적으로 말하면 공백이 있다는 뜻이다. 실무에서 이런경우는 매우 많이 벌어진다. 또한, 처음 업무에 투입하면 들어오는 데이터를 모르는 경우가 많기 때문에 SQL에서 여러 조회를 하다보면, 이런 결과값이 나오는 것이 부지기수다. 이럴 때 당황할 필요 없이 다음 SQL문을 실행해보면 된다. "
      ]
    },
    {
      "cell_type": "code",
      "metadata": {
        "id": "1DxnkNAH34Wc",
        "colab_type": "code",
        "colab": {
          "base_uri": "https://localhost:8080/",
          "height": 136
        },
        "outputId": "72fefa27-2ebd-427a-c98e-51c65e65d784"
      },
      "source": [
        "temp = client.query('''\n",
        "  SELECT\n",
        "    bikeid,\n",
        "    tripduration,\n",
        "    usertype\n",
        "  FROM\n",
        "    `bigquery-public-data.new_york_citibike.citibike_trips`\n",
        "  WHERE gender= \"\"\n",
        "  LIMIT 5\n",
        "  ''').to_dataframe()\n",
        "\n",
        "print(tabulate(temp, tablefmt='pipe', headers='keys'))"
      ],
      "execution_count": 24,
      "outputs": [
        {
          "output_type": "stream",
          "text": [
            "|    | bikeid   | tripduration   | usertype   |\n",
            "|---:|:---------|:---------------|:-----------|\n",
            "|  0 |          |                |            |\n",
            "|  1 |          |                |            |\n",
            "|  2 |          |                |            |\n",
            "|  3 |          |                |            |\n",
            "|  4 |          |                |            |\n"
          ],
          "name": "stdout"
        }
      ]
    },
    {
      "cell_type": "markdown",
      "metadata": {
        "id": "QEJztpbO42xA",
        "colab_type": "text"
      },
      "source": [
        "공백으로 나타내는 것을 확인할 수 있다. python jupyter notebook에서는 나타나고 있지 않지만, 이를 [BigQuery GUI](https://console.cloud.google.com/bigquery)에서 위 쿼리문을 다시 실행하면 NULL 값을 확인할 수 있다. \n",
        "\n",
        "문제는 이 다음이다. 어떻게 처리해야 할까? 당연히 조회값으로는 적정하지 않으니, 이를 연산자를 통해 제거한다. (WHERE절에서 작성)\n",
        "\n"
      ]
    },
    {
      "cell_type": "code",
      "metadata": {
        "id": "eD8zUGki6-NM",
        "colab_type": "code",
        "colab": {
          "base_uri": "https://localhost:8080/",
          "height": 153
        },
        "outputId": "fa7a0a4b-8bbe-4638-8a0e-9818f0a61032"
      },
      "source": [
        "temp = client.query('''\n",
        "  SELECT DISTINCT\n",
        "    gender, usertype\n",
        "  FROM\n",
        "    `bigquery-public-data.new_york_citibike.citibike_trips`\n",
        "  WHERE gender != ''\n",
        "  ''').to_dataframe()\n",
        "\n",
        "print(tabulate(temp, tablefmt='pipe', headers='keys'))"
      ],
      "execution_count": 27,
      "outputs": [
        {
          "output_type": "stream",
          "text": [
            "|    | gender   | usertype   |\n",
            "|---:|:---------|:-----------|\n",
            "|  0 | male     | Subscriber |\n",
            "|  1 | female   | Subscriber |\n",
            "|  2 | male     | Customer   |\n",
            "|  3 | unknown  | Subscriber |\n",
            "|  4 | female   | Customer   |\n",
            "|  5 | unknown  | Customer   |\n"
          ],
          "name": "stdout"
        }
      ]
    },
    {
      "cell_type": "markdown",
      "metadata": {
        "id": "Bj9rQHSSZESc",
        "colab_type": "text"
      },
      "source": [
        "이제 원하는 대로 공백값이 지워지고 각각 매칭되도록 결과값이 나온 것을 확인할 수 있다. \n",
        "\n",
        "이번 포스트에서는 `GROUP`를 활용한 `HAVING` 그리고 `DISTINCT` 대해서 배웠는데, 도움이 되었기를 바란다. \n",
        "\n",
        "다음 포스트에서는 `Arrays & Structs`에 대해 학습하도록 하겠다. 이 부분이 사실 기초 파트에서는 매우 중요한 포인트가 될 것 같다! \n",
        "\n",
        "## 4. Reference\n",
        "Lakshmanan, V., & Tigani, J. (2020). Google BigQuery: the definitive guide: data warehousing, analytics, and machine learning at scale. Beijing: OReilly."
      ]
    }
  ]
}