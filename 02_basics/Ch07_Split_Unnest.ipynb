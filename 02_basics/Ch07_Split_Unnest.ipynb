{
  "nbformat": 4,
  "nbformat_minor": 0,
  "metadata": {
    "colab": {
      "name": "Ch07_Split_Unnest.ipynb",
      "provenance": [],
      "collapsed_sections": [],
      "toc_visible": true,
      "authorship_tag": "ABX9TyPw+0+NnItQ4oqjmt5FzJF3",
      "include_colab_link": true
    },
    "kernelspec": {
      "name": "python3",
      "display_name": "Python 3"
    }
  },
  "cells": [
    {
      "cell_type": "markdown",
      "metadata": {
        "id": "view-in-github",
        "colab_type": "text"
      },
      "source": [
        "<a href=\"https://colab.research.google.com/github/chloevan/gcp_tutorial/blob/master/02_basics/Ch07_Split_Unnest.ipynb\" target=\"_parent\"><img src=\"https://colab.research.google.com/assets/colab-badge.svg\" alt=\"Open In Colab\"/></a>"
      ]
    },
    {
      "cell_type": "markdown",
      "metadata": {
        "id": "9_sb9T-tPSD6",
        "colab_type": "text"
      },
      "source": [
        "---\n",
        "title: \"Ch07 Arrays & Structs\"\n",
        "date: 2020-04-27T20:30:30+09:00\n",
        "tags:\n",
        "  - \"구글 클라우드\"\n",
        "  - \"Google Cloud\"\n",
        "  - \"빅쿼리\"\n",
        "  - \"BigQuery\"\n",
        "  - \"빅쿼리 파이썬\"\n",
        "  - \"빅쿼리 기본\"\n",
        "  - \"SPLIT\"\n",
        "  - \"UNNEST\"\n",
        "  - \"BigQuery with Python\"\n",
        "categories:\n",
        "  - \"구글 클라우드\"\n",
        "  - \"Google Cloud\"\n",
        "  - \"빅쿼리\"\n",
        "  - \"BigQuery\"\n",
        "  - \"Python\"\n",
        "menu: \n",
        "  gcp:\n",
        "    name: Ch06 SQL Aggregates\n",
        "---\n",
        "\n",
        "## 1. 구글 클라우드 설정\n",
        "\n",
        "본격적인 빅쿼리 실습에 앞서서, Python과 연동하는 예제를 준비하였다. 빅쿼리 시작에 앞서서 선행적으로 클라우드 사용을 해야 한다. \n",
        "\n",
        "1. 만약 GCP 프로젝트가 없다면, 계정을 연동한다. Go to [Cloud Resource Manager](https://console.cloud.google.com/cloud-resource-manager)\n",
        "2. 그리고, 비용결제를 위한 카드를 등록한다. [Enable billing](https://support.google.com/cloud/answer/6293499#enable-billing) \n",
        "3. 마지막으로 BigQuery API를 사용해야 하기 때문에 빅쿼리 API 사용허가를 내준다.[Enable BigQuery](https://console.cloud.google.com/flows/enableapi?apiid=bigquery)\n",
        "\n",
        "위 API를 이용하지 않으면 `Python` 또는 `R`과 연동해서 사용할 수는 없다. 자주 쓰는것이 아니라면 비용은 거의 발생하지 않으니 염려하지 않아도 된다. 비용관리에 대한 자세한 내용은 [BigQuery 권장사항: 비용 관리](https://cloud.google.com/bigquery/docs/best-practices-costs?hl=ko)에서 확인하기를 바란다.  \n"
      ]
    },
    {
      "cell_type": "markdown",
      "metadata": {
        "id": "fMmpX-v2zOCF",
        "colab_type": "text"
      },
      "source": [
        "## 2. 사용자 계정 인증\n",
        "구글 코랩을 사용해서 인증 절차를 밟도록 한다. 아래 소스코드는 변경시키지 않는다. 아래 절차대로 진행하면 된다. `Gmail` 인증 절차와 비슷하다."
      ]
    },
    {
      "cell_type": "code",
      "metadata": {
        "id": "1r03a8ibPgJX",
        "colab_type": "code",
        "outputId": "6e52c947-db25-4e7c-afc8-1e87d29fb6c0",
        "colab": {
          "base_uri": "https://localhost:8080/",
          "height": 34
        }
      },
      "source": [
        "from google.colab import auth\n",
        "auth.authenticate_user()\n",
        "print('Authenticated')"
      ],
      "execution_count": 1,
      "outputs": [
        {
          "output_type": "stream",
          "text": [
            "Authenticated\n"
          ],
          "name": "stdout"
        }
      ]
    },
    {
      "cell_type": "markdown",
      "metadata": {
        "id": "IjRhhkPaPrVv",
        "colab_type": "text"
      },
      "source": [
        "## 3. 쿼리 기본\n",
        "빅쿼리는 기본적으로 데이터 웨어하우스의 기능을 가지고 있다. Structured(데이터프레임) & Semi-Structured(JSON)과 같은 DB를 지원하고 있다. Create, Read, Update, Delete 기능을 지원한다. \n",
        "\n",
        "빅쿼리는 데이터 분석을 위한 기본적인 도구이기 때문에, 웹/앱을 활용한 마케팅 분석이 필요한 업종에서는 어쩌면 반드시 가져가야할 일종의 언어이기도 하다. \n",
        "\n",
        "기본적으로 SQL문법을 지원하며, BigQuery 나름의 문법을 또한 구성하고 있다. 이제 본격적으로 코드를 작성해보자. \n",
        "\n",
        "현재 작성하는 모든 코드는 Python-BigQuery로 연동하여 작성하려고 한다. 이제 간단하게 쿼리를 작성해보자. \n",
        "\n",
        "- [Ch05-Query_Essentials(1)](https://chloevan.github.io/gcp/bigquery/02_basics/ch05_query_essentials1/)에서는 `SELECT`와 `AS`에 대해 배우는 시간을 가졌다. \n",
        "- [Ch05-Query_Essentials(2)](https://chloevan.github.io/gcp/bigquery/02_basics/ch05_query_essentials2/)에서는 `WHERE`와 `EXCEPT`, 그리고 `REPLACE`에 대해 배우는 시간을 가졌다.\n",
        "- [Ch05-Query_Essentials(3)](https://chloevan.github.io/gcp/bigquery/02_basics/ch05_query_essentials3/)에서는 `SubQuery`에 대해서 집중적으로 배우는 시간을 가졌다.  \n",
        "- [Ch06 SQL Aggregates](https://chloevan.github.io/gcp/bigquery/02_basics/ch06_sql_aggregates/)에서는 집계함수를 사용해서 데이터를 조금 더 디테일하게 요약하는 것을 배웠다.\n",
        "\n",
        "오늘 포스트에서는 `Split and Unnest`, `UNION`에 대해서 배우도록 한다. 오늘 포스트의 목적은 `테이블을 직접 만들어보자`이다. `(It's Free)`\n",
        "\n"
      ]
    },
    {
      "cell_type": "markdown",
      "metadata": {
        "id": "FL8f-ma9zR8G",
        "colab_type": "text"
      },
      "source": [
        "### (1) Split and Unnest\n",
        "데이터를 배열 형태로 조회할 수는 없을까? 빅쿼리에서는 이러한 문법을 보통 `Array`로 통칭해서 부른다. \n",
        "\n",
        "`ARRAY`와 `UNNEST`의 조합을 통해서, 사용자는 다양한 쿼리와 함수, 그리고 데이터 유형에 대해 사전에 먼저 실험 및 탐색할 수 있는 기회를 준다. \n",
        "\n",
        "우선, `Split`과 `UNNEST`을 활용해서 조회를 해보자. "
      ]
    },
    {
      "cell_type": "code",
      "metadata": {
        "id": "dAzbvNJVSKnc",
        "colab_type": "code",
        "outputId": "745b31f3-009b-4e9c-b461-29e09eb5e033",
        "colab": {
          "base_uri": "https://localhost:8080/",
          "height": 139
        }
      },
      "source": [
        "from google.cloud import bigquery\n",
        "from tabulate import tabulate\n",
        "\n",
        "project_id = 'bigquerytutorial-274406'\n",
        "client = bigquery.Client(project=project_id)\n",
        "\n",
        "temp = client.query('''\n",
        "  SELECT \n",
        "    city, split(city, ' ') AS parts\n",
        "  FROM (\n",
        "    SELECT * from UNNEST([\n",
        "      'Seattle WA', 'New York', 'Singapore'\n",
        "    ]) AS city\n",
        "  )\n",
        "  ''').to_dataframe()\n",
        "\n",
        "print(tabulate(temp, tablefmt=\"pipe\", headers=\"keys\"))"
      ],
      "execution_count": 3,
      "outputs": [
        {
          "output_type": "stream",
          "text": [
            "WARNING:google.auth._default:No project ID could be determined. Consider running `gcloud config set project` or setting the GOOGLE_CLOUD_PROJECT environment variable\n"
          ],
          "name": "stderr"
        },
        {
          "output_type": "stream",
          "text": [
            "|    | city       | parts             |\n",
            "|---:|:-----------|:------------------|\n",
            "|  0 | Seattle WA | ['Seattle', 'WA'] |\n",
            "|  1 | New York   | ['New', 'York']   |\n",
            "|  2 | Singapore  | ['Singapore']     |\n"
          ],
          "name": "stdout"
        }
      ]
    },
    {
      "cell_type": "markdown",
      "metadata": {
        "id": "RR1PzqyQl-m0",
        "colab_type": "text"
      },
      "source": [
        "특히, `parts` Column을 보면, city `Seattle WA`가 ['Seattle', 'WA']로 반환되는 것을 볼 수 있다. \n",
        "\n",
        "위 코드가 좋은 이유는 빅쿼리에서는 이러한 형태로 데이터 셋을 만들어서 다양한 실험을 한 뒤, 실제 데이터에서 적용을 할 수 있는 장점이 있다. 이 때, 빅쿼리는 비용을 산정하지 않는다. \n",
        "\n",
        "즉, 빅쿼리가 JSON 형태의 데이터도 취급을 하기 때문에, 이렇게 `Arrays`를 잘 다룰줄 알면, 실제 데이터에 적용 시, 응용할 수 있는 장점을 제공한다. "
      ]
    },
    {
      "cell_type": "markdown",
      "metadata": {
        "id": "t6a0ncNt7D9q",
        "colab_type": "text"
      },
      "source": [
        "### (2) UNION\n",
        "`Split`과 `Unnest`와 마찬가지로 임시적으로 데이터를 생성할 수 있다. \n",
        "\n",
        "소스 코드를 통해서 확인해보자. "
      ]
    },
    {
      "cell_type": "code",
      "metadata": {
        "id": "uff0zJ-ZnJCQ",
        "colab_type": "code",
        "outputId": "ce615882-b384-4498-b742-437f78ca9179",
        "colab": {
          "base_uri": "https://localhost:8080/",
          "height": 85
        }
      },
      "source": [
        "temp = client.query('''\n",
        "  WITH example AS (\n",
        "    SELECT 'Sat' As day, 1451 AS numrides,\n",
        "    1018 AS oneways\n",
        "    UNION ALL SELECT 'Sun', 2376, 936\n",
        "    UNION ALL SELECT 'Mon', 1476, 736\n",
        "  )\n",
        "\n",
        "  SELECT * from example\n",
        "  WHERE numrides < 2000\n",
        "  ''').to_dataframe()\n",
        "\n",
        "print(tabulate(temp, tablefmt='pipe', headers='keys'))\n"
      ],
      "execution_count": 4,
      "outputs": [
        {
          "output_type": "stream",
          "text": [
            "|    | day   |   numrides |   oneways |\n",
            "|---:|:------|-----------:|----------:|\n",
            "|  0 | Sat   |       1451 |      1018 |\n",
            "|  1 | Mon   |       1476 |       736 |\n"
          ],
          "name": "stdout"
        }
      ]
    },
    {
      "cell_type": "markdown",
      "metadata": {
        "id": "3jMEPUSiv6Lv",
        "colab_type": "text"
      },
      "source": [
        "마찬가지로 테이블이 생성된 것을 확인할 수 있다. "
      ]
    },
    {
      "cell_type": "markdown",
      "metadata": {
        "id": "Bj9rQHSSZESc",
        "colab_type": "text"
      },
      "source": [
        "매우 짧은 포스트이지만, 실무에서는 자주 사용될 수 있는 예제이다. 이제 본격적으로 `ARRAY`에 대해서 배우도록 하자. \n",
        "\n",
        "## 4. Reference\n",
        "Lakshmanan, V., & Tigani, J. (2020). Google BigQuery: the definitive guide: data warehousing, analytics, and machine learning at scale. Beijing: OReilly."
      ]
    }
  ]
}