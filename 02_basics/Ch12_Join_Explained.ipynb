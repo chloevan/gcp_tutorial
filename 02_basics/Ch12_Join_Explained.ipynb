{
  "nbformat": 4,
  "nbformat_minor": 0,
  "metadata": {
    "colab": {
      "name": "Ch12_Join_Explained.ipynb",
      "provenance": [],
      "collapsed_sections": [],
      "toc_visible": true,
      "authorship_tag": "ABX9TyOSS7DO/LP3fUqhBuILwqwV",
      "include_colab_link": true
    },
    "kernelspec": {
      "name": "python3",
      "display_name": "Python 3"
    }
  },
  "cells": [
    {
      "cell_type": "markdown",
      "metadata": {
        "id": "view-in-github",
        "colab_type": "text"
      },
      "source": [
        "<a href=\"https://colab.research.google.com/github/chloevan/gcp_tutorial/blob/master/02_basics/Ch12_Join_Explained.ipynb\" target=\"_parent\"><img src=\"https://colab.research.google.com/assets/colab-badge.svg\" alt=\"Open In Colab\"/></a>"
      ]
    },
    {
      "cell_type": "markdown",
      "metadata": {
        "id": "9_sb9T-tPSD6",
        "colab_type": "text"
      },
      "source": [
        "---\n",
        "title: \"Ch12 Join Explained\"\n",
        "date: 2020-05-07T14:30:30+09:00\n",
        "tags:\n",
        "  - \"구글 클라우드\"\n",
        "  - \"Google Cloud\"\n",
        "  - \"빅쿼리\"\n",
        "  - \"BigQuery\"\n",
        "  - \"빅쿼리 파이썬\"\n",
        "  - \"빅쿼리 기본\"\n",
        "  - \"JOIN\"\n",
        "  - \"BigQuery with Python\"\n",
        "categories:\n",
        "  - \"구글 클라우드\"\n",
        "  - \"Google Cloud\"\n",
        "  - \"빅쿼리\"\n",
        "  - \"BigQuery\"\n",
        "  - \"Python\"\n",
        "menu: \n",
        "  gcp:\n",
        "    name: Ch12 Join Explained\n",
        "---\n",
        "\n",
        "## 1. 구글 클라우드 설정\n",
        "\n",
        "본격적인 빅쿼리 실습에 앞서서, Python과 연동하는 예제를 준비하였다. 빅쿼리 시작에 앞서서 선행적으로 클라우드 사용을 해야 한다. \n",
        "\n",
        "1. 만약 GCP 프로젝트가 없다면, 계정을 연동한다. Go to [Cloud Resource Manager](https://console.cloud.google.com/cloud-resource-manager)\n",
        "2. 그리고, 비용결제를 위한 카드를 등록한다. [Enable billing](https://support.google.com/cloud/answer/6293499#enable-billing) \n",
        "3. 마지막으로 BigQuery API를 사용해야 하기 때문에 빅쿼리 API 사용허가를 내준다.[Enable BigQuery](https://console.cloud.google.com/flows/enableapi?apiid=bigquery)\n",
        "\n",
        "위 API를 이용하지 않으면 `Python` 또는 `R`과 연동해서 사용할 수는 없다. 자주 쓰는것이 아니라면 비용은 거의 발생하지 않으니 염려하지 않아도 된다. 비용관리에 대한 자세한 내용은 [BigQuery 권장사항: 비용 관리](https://cloud.google.com/bigquery/docs/best-practices-costs?hl=ko)에서 확인하기를 바란다.  \n"
      ]
    },
    {
      "cell_type": "markdown",
      "metadata": {
        "id": "fMmpX-v2zOCF",
        "colab_type": "text"
      },
      "source": [
        "## 2. 사용자 계정 인증\n",
        "구글 코랩을 사용해서 인증 절차를 밟도록 한다. 아래 소스코드는 변경시키지 않는다. 아래 절차대로 진행하면 된다. `Gmail` 인증 절차와 비슷하다."
      ]
    },
    {
      "cell_type": "code",
      "metadata": {
        "id": "1r03a8ibPgJX",
        "colab_type": "code",
        "outputId": "4ab13c6e-d448-4829-fd81-a49a573218d5",
        "colab": {
          "base_uri": "https://localhost:8080/",
          "height": 34
        }
      },
      "source": [
        "from google.colab import auth\n",
        "auth.authenticate_user()\n",
        "print('Authenticated')"
      ],
      "execution_count": 2,
      "outputs": [
        {
          "output_type": "stream",
          "text": [
            "Authenticated\n"
          ],
          "name": "stdout"
        }
      ]
    },
    {
      "cell_type": "markdown",
      "metadata": {
        "id": "IjRhhkPaPrVv",
        "colab_type": "text"
      },
      "source": [
        "## 3. 쿼리 기본\n",
        "빅쿼리는 기본적으로 데이터 웨어하우스의 기능을 가지고 있다. Structured(데이터프레임) & Semi-Structured(JSON)과 같은 DB를 지원하고 있다. Create, Read, Update, Delete 기능을 지원한다. \n",
        "\n",
        "빅쿼리는 데이터 분석을 위한 기본적인 도구이기 때문에, 웹/앱을 활용한 마케팅 분석이 필요한 업종에서는 어쩌면 반드시 가져가야할 일종의 언어이기도 하다. \n",
        "\n",
        "기본적으로 SQL문법을 지원하며, BigQuery 나름의 문법을 또한 구성하고 있다. 이제 본격적으로 코드를 작성해보자. \n",
        "\n",
        "현재 작성하는 모든 코드는 Python-BigQuery로 연동하여 작성하려고 한다. 이제 간단하게 쿼리를 작성해보자. \n",
        "\n",
        "- [Ch05-Query_Essentials(1)](https://chloevan.github.io/gcp/bigquery/02_basics/ch05_query_essentials1/)에서는 `SELECT`와 `AS`에 대해 배우는 시간을 가졌다. \n",
        "- [Ch05-Query_Essentials(2)](https://chloevan.github.io/gcp/bigquery/02_basics/ch05_query_essentials2/)에서는 `WHERE`와 `EXCEPT`, 그리고 `REPLACE`에 대해 배우는 시간을 가졌다.\n",
        "- [Ch05-Query_Essentials(3)](https://chloevan.github.io/gcp/bigquery/02_basics/ch05_query_essentials3/)에서는 `SubQuery`에 대해서 집중적으로 배우는 시간을 가졌다.  \n",
        "- [Ch06 SQL Aggregates](https://chloevan.github.io/gcp/bigquery/02_basics/ch06_sql_aggregates/)에서는 집계함수를 사용해서 데이터를 조금 더 디테일하게 요약하는 것을 배웠다.\n",
        "- [Ch07 Arrays & Structs](https://chloevan.github.io/gcp/bigquery/02_basics/ch07_split_unnest/)에서는 빅쿼리에서 가상의 테이블과 그리고 배열을 만드는 법을 익혔다. \n",
        "- [Ch08_Creating_Arrays_with_Array_AGG](https://chloevan.github.io/gcp/bigquery/02_basics/ch08_creating_arrays_with_array_agg/)\n",
        "- [Ch09_Array_Of_Struct](https://chloevan.github.io/gcp/bigquery/02_basics/ch09_struct_and_tuple/) Struct을 활용하여 독특한 쿼리 결과문을 확인하였다. \n",
        "- [Ch10 UNNEST an Array](https://chloevan.github.io/gcp/bigquery/02_basics/ch10_unnest_an_array/) 에서, `Struct`을 만든 임시 테이블을 보다 가독성 좋게 필드로 구분한 것을 확인하였다. \n",
        "- [Ch11 Powerful SQL Pattern](https://chloevan.github.io/gcp/bigquery/02_basics/ch11_powerful_sql_pattern/)에서 `ARRAY`, `Struct`, `UNNEST`을 활용하여 `Powerful`한 쿼리를 작성하였습니다. "
      ]
    },
    {
      "cell_type": "markdown",
      "metadata": {
        "id": "VkozqZeVibW7",
        "colab_type": "text"
      },
      "source": [
        "## 개요\n",
        "- 이번 시간에는 `Table Join`에 대해서 배우도록 한다. 이 때 `Table Join`을 할 때의 고려사항은 두개의 서로 다른 조직이 서로 다른 테이블을 가지고 있는데, 그 두개의 데이터를 연동하는 것에 있다. "
      ]
    },
    {
      "cell_type": "code",
      "metadata": {
        "id": "dAzbvNJVSKnc",
        "colab_type": "code",
        "outputId": "9e2e75f9-1073-4a1b-c39a-05b3448abbe2",
        "colab": {
          "base_uri": "https://localhost:8080/",
          "height": 122
        }
      },
      "source": [
        "from google.cloud import bigquery\n",
        "from tabulate import tabulate\n",
        "import pandas as pd\n",
        "\n",
        "project_id = 'bigquerytutorial-274406'\n",
        "client = bigquery.Client(project=project_id)\n",
        "\n",
        "temp = client.query('''\n",
        "  WITH bicycle_rentals AS (\n",
        "    SELECT\n",
        "      COUNT(starttime) as num_trips,\n",
        "      EXTRACT(DATE from starttime) as trip_date\n",
        "    FROM `bigquery-public-data`.new_york_citibike.citibike_trips GROUP BY trip_date\n",
        "    ),\n",
        "    rainy_days AS\n",
        "   (\n",
        "    SELECT\n",
        "      date,\n",
        "      (MAX(prcp) > 5) AS rainy\n",
        "    FROM (\n",
        "      SELECT\n",
        "        wx.date AS date,\n",
        "        IF (wx.element = 'PRCP', wx.value/10, NULL) AS prcp\n",
        "      FROM\n",
        "       `bigquery-public-data`.ghcn_d.ghcnd_2016 AS wx\n",
        "      WHERE\n",
        "        wx.id = 'USW00094728')\n",
        "    GROUP BY  date\n",
        "  )\n",
        "  SELECT\n",
        "    ROUND(AVG(bk.num_trips)) AS num_trips,\n",
        "    wx.rainy\n",
        "  FROM bicycle_rentals AS bk\n",
        "  JOIN rainy_days AS wx\n",
        "  ON bk.trip_date = wx.date\n",
        "  GROUP BY wx.rainy \n",
        "  ''').to_dataframe()\n",
        "\n",
        "print(tabulate(temp, tablefmt=\"pipe\", headers=\"keys\"))"
      ],
      "execution_count": 11,
      "outputs": [
        {
          "output_type": "stream",
          "text": [
            "WARNING:google.auth._default:No project ID could be determined. Consider running `gcloud config set project` or setting the GOOGLE_CLOUD_PROJECT environment variable\n"
          ],
          "name": "stderr"
        },
        {
          "output_type": "stream",
          "text": [
            "|    |   num_trips | rainy   |\n",
            "|---:|------------:|:--------|\n",
            "|  0 |       39107 | False   |\n",
            "|  1 |       32052 | True    |\n"
          ],
          "name": "stdout"
        }
      ]
    },
    {
      "cell_type": "markdown",
      "metadata": {
        "id": "8tri97260F4b",
        "colab_type": "text"
      },
      "source": [
        "- 위 결과값에 대해 조금 디테일하게 공부하는 시간을 가져보도록 한다. \n",
        "- 우선, 위 `bicycle_rentals`과 `rainy_days`는 테이블 이기보다는 개념적으로 `From_Item`이라고 생각하는 것이 좋다. \n",
        "- `rainy_days`는 `Global Historical Climate Network (GHCN) observation`에서 데이터를 추출하였고, `id=USW00094728` 인 뉴욕의 한 지역만 추출하였다. \n",
        "- 여기에서 하려는 것은 `날씨(외부데이터)`를 통해서 `num_trips`를 계산하는 것인데, `rainy`가 있는 날과 없는 날을 구분해서 작성하는 것이다. \n"
      ]
    },
    {
      "cell_type": "markdown",
      "metadata": {
        "id": "NmP4_KuTvFN9",
        "colab_type": "text"
      },
      "source": [
        "## Step 1. WITH bicycle_rentals \n",
        "\n",
        "우선 `bicycle_rentals`을 통해서 결과값을 먼저 확인해보자. 코드는 위와 동일하다. "
      ]
    },
    {
      "cell_type": "code",
      "metadata": {
        "id": "6G_S3qsoEmP5",
        "colab_type": "code",
        "colab": {
          "base_uri": "https://localhost:8080/",
          "height": 119
        },
        "outputId": "e267968b-3d22-4bed-b716-58249040727a"
      },
      "source": [
        "temp = client.query('''\n",
        "  WITH bicycle_rentals AS (\n",
        "   SELECT\n",
        "    COUNT(starttime) as num_trips,\n",
        "    EXTRACT(DATE from starttime) as trip_date\n",
        "  FROM `bigquery-public-data.new_york_citibike.citibike_trips`\n",
        "   GROUP BY trip_date\n",
        ")\n",
        "\n",
        "SELECT * from bicycle_rentals LIMIT 5\n",
        "''').to_dataframe() \n",
        "\n",
        "print(temp)"
      ],
      "execution_count": 6,
      "outputs": [
        {
          "output_type": "stream",
          "text": [
            "   num_trips   trip_date\n",
            "0      30344  2015-08-16\n",
            "1      38348  2016-03-31\n",
            "2      65517  2016-09-23\n",
            "3      26289  2018-04-16\n",
            "4       9028  2014-01-19\n"
          ],
          "name": "stdout"
        }
      ]
    },
    {
      "cell_type": "markdown",
      "metadata": {
        "id": "GjZ-_pS5E_MF",
        "colab_type": "text"
      },
      "source": [
        "- 쿼리 결과값에 보는 것처럼, 각 `date (날짜)`별로 `num_trips`의 `count`를 진행한 것이다. "
      ]
    },
    {
      "cell_type": "markdown",
      "metadata": {
        "id": "e5HkifUmFQyH",
        "colab_type": "text"
      },
      "source": [
        "## Step 2. Rainy Days\n",
        "- 이번에는 `Rainy Days`의 쿼리를 짜본다. \n",
        "\n"
      ]
    },
    {
      "cell_type": "code",
      "metadata": {
        "id": "En6V4itgFj4y",
        "colab_type": "code",
        "colab": {
          "base_uri": "https://localhost:8080/",
          "height": 119
        },
        "outputId": "97be6f40-7b88-41e8-8898-47aa8fd4a112"
      },
      "source": [
        "temp = client.query('''\n",
        "  WITH rainy_days AS\n",
        "   (\n",
        "    SELECT\n",
        "      date,\n",
        "      (MAX(prcp) > 5) AS rainy\n",
        "    FROM (\n",
        "      SELECT\n",
        "        wx.date AS date,\n",
        "        IF (wx.element = 'PRCP', wx.value/10, NULL) AS prcp\n",
        "      FROM\n",
        "       `bigquery-public-data`.ghcn_d.ghcnd_2016 AS wx\n",
        "      WHERE\n",
        "        wx.id = 'USW00094728')\n",
        "    GROUP BY  date\n",
        "  )\n",
        "  \n",
        "  SELECT * from rainy_days LIMIT 5\n",
        "  ''').to_dataframe()\n",
        "\n",
        "print(temp)"
      ],
      "execution_count": 8,
      "outputs": [
        {
          "output_type": "stream",
          "text": [
            "         date  rainy\n",
            "0  2016-10-11  False\n",
            "1  2016-12-13  False\n",
            "2  2016-09-28  False\n",
            "3  2016-01-25  False\n",
            "4  2016-05-24  False\n"
          ],
          "name": "stdout"
        }
      ]
    },
    {
      "cell_type": "markdown",
      "metadata": {
        "id": "7H5Qci8wJaD5",
        "colab_type": "text"
      },
      "source": [
        "- `Rainy Days`의 쿼리 결과물은 위에서 보는 것처럼, `date`와 `rainy`로 조회가 된 것을 확인할 수 있다. "
      ]
    },
    {
      "cell_type": "markdown",
      "metadata": {
        "id": "wchgyQFrKTyP",
        "colab_type": "text"
      },
      "source": [
        "## Step 3. Join\n",
        "\n",
        "우선 쿼리문을 보자. \n",
        "```SQL\n",
        "  SELECT\n",
        "    ROUND(AVG(bk.num_trips)) AS num_trips,\n",
        "    wx.rainy\n",
        "  FROM bicycle_rentals AS bk\n",
        "  JOIN rainy_days AS wx\n",
        "  ON wx.date = bk.trip_date \n",
        "  GROUP BY wx.rainy \n",
        "```\n",
        "- 우선 기준점은 `bicycle_rentals`가 된다. \n",
        "- `JOIN` 다음에는 두번째 테이블 `rainy_days`가 따라오는데, 두 테이블 모두 `Alias` 문법을 써서 글자수를 줄였다. \n",
        "- `ON` 다음에는 날짜를 기준으로 합치게 된다. \n",
        "  + `bk.trip_date = wx.date`\n",
        "- `rainy`를 기준으로 `AVG`와 함께 `GROUP BY`를 사용하여 그룹화를 진행하여 테이블을 요약한다. \n",
        "\n",
        "\n"
      ]
    },
    {
      "cell_type": "markdown",
      "metadata": {
        "id": "DVg-kXUHa3xt",
        "colab_type": "text"
      },
      "source": [
        "## 결론\n",
        "- 두개의 다른 테이블을 조인할 때 명심해야 하는 것 중 하나는 원 RAW 데이터는 그대로 살려야 하며, 가상의 임시 테이블을 만드는 것이 중요하다. \n",
        "- 또한, 처음 데이터를 불러올 때 부터 `FROM` 절에서 1차로 가공하는 것이 좋다. \n",
        "\n",
        "이제 다음 포스트에서는 본격적인 3가지 경우의 수에 따른 쿼리문을 만들어 본다. \n",
        "- INNER JOIN\n",
        "- CROSS JOIN\n",
        "- OUTER JOIN\n",
        "\n"
      ]
    },
    {
      "cell_type": "markdown",
      "metadata": {
        "id": "Bj9rQHSSZESc",
        "colab_type": "text"
      },
      "source": [
        " \n",
        "\n",
        "## Reference\n",
        "Lakshmanan, V. (2018). \"Exploring a powerful SQL pattern: ARRAY_AGG, STRUCT and UNNEST\" Retrieved from https://www.freecodecamp.org/news/exploring-a-powerful-sql-pattern-array-agg-struct-and-unnest-b7dcc6263e36/."
      ]
    }
  ]
}