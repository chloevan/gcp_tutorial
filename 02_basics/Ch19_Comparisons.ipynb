{
  "nbformat": 4,
  "nbformat_minor": 0,
  "metadata": {
    "colab": {
      "name": "Ch19_Comparisons.ipynb",
      "provenance": [],
      "collapsed_sections": [],
      "toc_visible": true,
      "authorship_tag": "ABX9TyM6tucVLVxE+zPdjAVTbv5n",
      "include_colab_link": true
    },
    "kernelspec": {
      "name": "python3",
      "display_name": "Python 3"
    }
  },
  "cells": [
    {
      "cell_type": "markdown",
      "metadata": {
        "id": "view-in-github",
        "colab_type": "text"
      },
      "source": [
        "<a href=\"https://colab.research.google.com/github/chloevan/gcp_tutorial/blob/master/02_basics/Ch19_Comparisons.ipynb\" target=\"_parent\"><img src=\"https://colab.research.google.com/assets/colab-badge.svg\" alt=\"Open In Colab\"/></a>"
      ]
    },
    {
      "cell_type": "markdown",
      "metadata": {
        "id": "9_sb9T-tPSD6",
        "colab_type": "text"
      },
      "source": [
        "---\n",
        "title: \"Ch18 Mathematical Functions\"\n",
        "date: 2020-05-25T07:30:30+09:00\n",
        "tags:\n",
        "  - \"구글 클라우드\"\n",
        "  - \"Google Cloud\"\n",
        "  - \"빅쿼리\"\n",
        "  - \"BigQuery\"\n",
        "  - \"빅쿼리 파이썬\"\n",
        "  - \"빅쿼리 기본\"\n",
        "  - \"Mathematical Functions\"\n",
        "  - \"BigQuery with Python\"\n",
        "categories:\n",
        "  - \"구글 클라우드\"\n",
        "  - \"Google Cloud\"\n",
        "  - \"빅쿼리\"\n",
        "  - \"BigQuery\"\n",
        "  - \"Python\"\n",
        "menu: \n",
        "  gcp:\n",
        "    name: Ch18 Mathematical Functions\n",
        "---\n",
        "\n",
        "## I. 구글 클라우드 설정\n",
        "\n",
        "본격적인 빅쿼리 실습에 앞서서, Python과 연동하는 예제를 준비하였다. 빅쿼리 시작에 앞서서 선행적으로 클라우드 사용을 해야 한다. \n",
        "\n",
        "1. 만약 GCP 프로젝트가 없다면, 계정을 연동한다. Go to [Cloud Resource Manager](https://console.cloud.google.com/cloud-resource-manager)\n",
        "2. 그리고, 비용결제를 위한 카드를 등록한다. [Enable billing](https://support.google.com/cloud/answer/6293499#enable-billing) \n",
        "3. 마지막으로 BigQuery API를 사용해야 하기 때문에 빅쿼리 API 사용허가를 내준다.[Enable BigQuery](https://console.cloud.google.com/flows/enableapi?apiid=bigquery)\n",
        "\n",
        "위 API를 이용하지 않으면 `Python` 또는 `R`과 연동해서 사용할 수는 없다. 자주 쓰는것이 아니라면 비용은 거의 발생하지 않으니 염려하지 않아도 된다. 비용관리에 대한 자세한 내용은 [BigQuery 권장사항: 비용 관리](https://cloud.google.com/bigquery/docs/best-practices-costs?hl=ko)에서 확인하기를 바란다.  \n"
      ]
    },
    {
      "cell_type": "markdown",
      "metadata": {
        "id": "fMmpX-v2zOCF",
        "colab_type": "text"
      },
      "source": [
        "## II. 사용자 계정 인증\n",
        "구글 코랩을 사용해서 인증 절차를 밟도록 한다. 아래 소스코드는 변경시키지 않는다. 아래 절차대로 진행하면 된다. `Gmail` 인증 절차와 비슷하다."
      ]
    },
    {
      "cell_type": "code",
      "metadata": {
        "id": "1r03a8ibPgJX",
        "colab_type": "code",
        "outputId": "22bc5919-676c-4b23-87c2-86903d4f9c5c",
        "colab": {
          "base_uri": "https://localhost:8080/",
          "height": 34
        }
      },
      "source": [
        "from google.colab import auth\n",
        "auth.authenticate_user()\n",
        "print('Authenticated')"
      ],
      "execution_count": 1,
      "outputs": [
        {
          "output_type": "stream",
          "text": [
            "Authenticated\n"
          ],
          "name": "stdout"
        }
      ]
    },
    {
      "cell_type": "markdown",
      "metadata": {
        "id": "IjRhhkPaPrVv",
        "colab_type": "text"
      },
      "source": [
        "## III. Comparisons\n",
        "- 비교는 연산자를 이용하여 실시한다. \n",
        "- 연산자 < , > , >=, 그리고 != (또는 )는 비교의 결과를 얻기 위해 사용된다. \n",
        "- 정렬을 한다면, NaN 뒤에 나오는 NULL은 유효 숫자(inf 포함)보다 작은 것으로 가정한다. \n",
        "- 그러나 NaN과의 비교는 항상 거짓을 반환하고 NULL과의 비교는 항상 NULL을 반환한다. "
      ]
    },
    {
      "cell_type": "code",
      "metadata": {
        "id": "xHpQRGuktVW-",
        "colab_type": "code",
        "outputId": "28ecfb3b-9a7e-40d5-c839-f8836d3b6ff6",
        "colab": {
          "base_uri": "https://localhost:8080/",
          "height": 102
        }
      },
      "source": [
        "from google.cloud import bigquery\n",
        "from tabulate import tabulate\n",
        "import pandas as pd\n",
        "\n",
        "project_id = 'bigquerytutorial-274406'\n",
        "client = bigquery.Client(project=project_id)\n",
        "\n",
        "temp = client.query('''\n",
        "  WITH example AS (\n",
        "      SELECT \n",
        "        'Sat' AS day\n",
        "        , 1451 AS numrides\n",
        "        , 1018 AS oneways\n",
        "      UNION ALL SELECT 'SUN', 2376, 936\n",
        "      UNION ALL SELECT 'Mon', NULL, NULL\n",
        "      UNION ALL SELECT 'Tue', IEEE_DIVIDE(-3, 0), \n",
        "      0 -- this is -inf, 0\n",
        "  )\n",
        "\n",
        "  SELECT *\n",
        "  from example\n",
        "  ORDER BY numrides\n",
        "  ''').to_dataframe()\n",
        "\n",
        "print(temp)"
      ],
      "execution_count": 3,
      "outputs": [
        {
          "output_type": "stream",
          "text": [
            "   day  numrides  oneways\n",
            "0  Mon       NaN      NaN\n",
            "1  Tue      -inf      0.0\n",
            "2  Sat    1451.0   1018.0\n",
            "3  SUN    2376.0    936.0\n"
          ],
          "name": "stdout"
        }
      ]
    },
    {
      "cell_type": "markdown",
      "metadata": {
        "id": "VygnJhl1ot6V",
        "colab_type": "text"
      },
      "source": [
        "- 위 결과에서 순서상으로 `NaN`이 가장 낮은 순위로 정렬되고 있음을 보여주고 있다. "
      ]
    },
    {
      "cell_type": "markdown",
      "metadata": {
        "id": "YTKGq-GOmMG-",
        "colab_type": "text"
      },
      "source": [
        "## IV. Precise Decimal Calculations with NUMERIC \n",
        "- INT64와 FLOUT64는 유연하고 빠를 수 있도록 설계되었으나 계산에 사용할 때 컴퓨터 메모리의 64비트 영역에 베이스-2(0초와 1초) 형태로 저장된다는 점에 의해 제한된다.\n",
        "- 이것은 대부분의 애플리케이션에서 충분히 절충할 가치가 있지만, 재무 및 회계 애플리케이션은 종종 십진수(기본값 10)로 표시된 숫자에 대해 정확한 계산을 요구한다.\n",
        "- BigQuery의 숫자 데이터 유형은 숫자를 나타내는 38자리 숫자를 제공하며, 그 중 9자리 숫자가 소수점 뒤에 나타난다.\n",
        "- 저장용으로는 16바이트를 사용하며 십진수 분수를 정확히 나타낼 수 있어 재무 계산에 적합하다.\n",
        "- 예를 들어, 세 가지 지불의 합계를 계산해야 한다고 생각해 보십시오.\n",
        "- 당연히, 조회 결과가 정확하길 바랄 겁니다.\n",
        "- 그러나 FLOUT64 값을 사용할 경우 숫자가 메모리에 표시되는 방법과 숫자가 소수점 단위로 표시되는 방법 사이의 작은 차이가 다음과 같이 합산될 수 있다.\n"
      ]
    },
    {
      "cell_type": "code",
      "metadata": {
        "id": "mFNXvi11vWaL",
        "colab_type": "code",
        "outputId": "ad40cdbf-62d2-4e9d-fddc-043c92368431",
        "colab": {
          "base_uri": "https://localhost:8080/",
          "height": 51
        }
      },
      "source": [
        "temp = client.query('''\n",
        "  WITH example AS (\n",
        "    SELECT 1.23 AS payment\n",
        "    UNION ALL SELECT 7.89\n",
        "    UNION ALL SELECT 12.43\n",
        "  )\n",
        "  \n",
        "  SELECT \n",
        "    SUM(payment) AS total_paid, \n",
        "    AVG(payment) AS average_paid\n",
        "  FROM example\n",
        "  ''').to_dataframe()\n",
        "\n",
        "print(temp)"
      ],
      "execution_count": 7,
      "outputs": [
        {
          "output_type": "stream",
          "text": [
            "   total_paid  average_paid\n",
            "0       21.55      7.183333\n"
          ],
          "name": "stdout"
        }
      ]
    },
    {
      "cell_type": "markdown",
      "metadata": {
        "id": "LLhmBn5Pvr2O",
        "colab_type": "text"
      },
      "source": [
        "- 그런데, 금융 및 회계 애플리케이션에서 이러한 부정확한 표현은 장부에 작성할 때에는 조금 까다로워 질 수 있다. 지급 데이터 유형을 NUMBER로 변경하면 어떻게 되는지 보자. "
      ]
    },
    {
      "cell_type": "code",
      "metadata": {
        "id": "NbGNX8zHqnvL",
        "colab_type": "code",
        "colab": {
          "base_uri": "https://localhost:8080/",
          "height": 51
        },
        "outputId": "2da95671-0bda-482f-e806-3278f14e795b"
      },
      "source": [
        "temp = client.query('''\n",
        "  WITH example AS (\n",
        "    SELECT NUMERIC '1.23' AS payment\n",
        "    UNION ALL SELECT NUMERIC '7.89'\n",
        "    UNION ALL SELECT NUMERIC '12.43'\n",
        "  )\n",
        "  \n",
        "  SELECT \n",
        "    SUM(payment) AS total_paid, \n",
        "    AVG(payment) AS average_paid\n",
        "  FROM example\n",
        "  ''').to_dataframe()\n",
        "\n",
        "print(temp)"
      ],
      "execution_count": 8,
      "outputs": [
        {
          "output_type": "stream",
          "text": [
            "  total_paid average_paid\n",
            "0      21.55  7.183333333\n"
          ],
          "name": "stdout"
        }
      ]
    },
    {
      "cell_type": "markdown",
      "metadata": {
        "id": "DcmLIyJRrdxW",
        "colab_type": "text"
      },
      "source": [
        "- 지급액의 합계는 이제 보다 정밀해졌다. \n",
        "- 반복적인 소수점이기 때문에 평균은 숫자로도 정확하게 나타낼 수 없다."
      ]
    },
    {
      "cell_type": "markdown",
      "metadata": {
        "id": "Bj9rQHSSZESc",
        "colab_type": "text"
      },
      "source": [
        " \n",
        "\n",
        "## V. Reference\n",
        "Lakshmanan, V. (2018). \"Exploring a powerful SQL pattern: ARRAY_AGG, STRUCT and UNNEST\" Retrieved from https://www.freecodecamp.org/news/exploring-a-powerful-sql-pattern-array-agg-struct-and-unnest-b7dcc6263e36/."
      ]
    }
  ]
}