{
  "nbformat": 4,
  "nbformat_minor": 0,
  "metadata": {
    "colab": {
      "name": "Ch20_logical_operations.ipynb",
      "provenance": [],
      "collapsed_sections": [],
      "toc_visible": true,
      "authorship_tag": "ABX9TyN5f7iHqIiHki5W6Kh5xyQO",
      "include_colab_link": true
    },
    "kernelspec": {
      "name": "python3",
      "display_name": "Python 3"
    }
  },
  "cells": [
    {
      "cell_type": "markdown",
      "metadata": {
        "id": "view-in-github",
        "colab_type": "text"
      },
      "source": [
        "<a href=\"https://colab.research.google.com/github/chloevan/gcp_tutorial/blob/master/02_basics/Ch20_logical_operations.ipynb\" target=\"_parent\"><img src=\"https://colab.research.google.com/assets/colab-badge.svg\" alt=\"Open In Colab\"/></a>"
      ]
    },
    {
      "cell_type": "markdown",
      "metadata": {
        "id": "9_sb9T-tPSD6",
        "colab_type": "text"
      },
      "source": [
        "---\n",
        "title: \"Ch20 Logical Operations\"\n",
        "date: 2020-05-27T07:30:30+09:00\n",
        "tags:\n",
        "  - \"구글 클라우드\"\n",
        "  - \"Google Cloud\"\n",
        "  - \"빅쿼리\"\n",
        "  - \"BigQuery\"\n",
        "  - \"빅쿼리 파이썬\"\n",
        "  - \"빅쿼리 기본\"\n",
        "  - \"Mathematical Functions\"\n",
        "  - \"BigQuery with Python\"\n",
        "categories:\n",
        "  - \"구글 클라우드\"\n",
        "  - \"Google Cloud\"\n",
        "  - \"빅쿼리\"\n",
        "  - \"BigQuery\"\n",
        "  - \"Python\"\n",
        "menu: \n",
        "  gcp:\n",
        "    name: Ch20 Logical Operations\n",
        "---\n",
        "\n",
        "## I. 구글 클라우드 설정\n",
        "\n",
        "본격적인 빅쿼리 실습에 앞서서, Python과 연동하는 예제를 준비하였다. 빅쿼리 시작에 앞서서 선행적으로 클라우드 사용을 해야 한다. \n",
        "\n",
        "1. 만약 GCP 프로젝트가 없다면, 계정을 연동한다. Go to [Cloud Resource Manager](https://console.cloud.google.com/cloud-resource-manager)\n",
        "2. 그리고, 비용결제를 위한 카드를 등록한다. [Enable billing](https://support.google.com/cloud/answer/6293499#enable-billing) \n",
        "3. 마지막으로 BigQuery API를 사용해야 하기 때문에 빅쿼리 API 사용허가를 내준다.[Enable BigQuery](https://console.cloud.google.com/flows/enableapi?apiid=bigquery)\n",
        "\n",
        "위 API를 이용하지 않으면 `Python` 또는 `R`과 연동해서 사용할 수는 없다. 자주 쓰는것이 아니라면 비용은 거의 발생하지 않으니 염려하지 않아도 된다. 비용관리에 대한 자세한 내용은 [BigQuery 권장사항: 비용 관리](https://cloud.google.com/bigquery/docs/best-practices-costs?hl=ko)에서 확인하기를 바란다.  \n"
      ]
    },
    {
      "cell_type": "markdown",
      "metadata": {
        "id": "fMmpX-v2zOCF",
        "colab_type": "text"
      },
      "source": [
        "## II. 사용자 계정 인증\n",
        "구글 코랩을 사용해서 인증 절차를 밟도록 한다. 아래 소스코드는 변경시키지 않는다. 아래 절차대로 진행하면 된다. `Gmail` 인증 절차와 비슷하다."
      ]
    },
    {
      "cell_type": "code",
      "metadata": {
        "id": "1r03a8ibPgJX",
        "colab_type": "code",
        "outputId": "5abe4d50-cd3c-4e02-803b-77ce9380744e",
        "colab": {
          "base_uri": "https://localhost:8080/",
          "height": 34
        }
      },
      "source": [
        "from google.colab import auth\n",
        "auth.authenticate_user()\n",
        "print('Authenticated')"
      ],
      "execution_count": 4,
      "outputs": [
        {
          "output_type": "stream",
          "text": [
            "Authenticated\n"
          ],
          "name": "stdout"
        }
      ]
    },
    {
      "cell_type": "markdown",
      "metadata": {
        "id": "IjRhhkPaPrVv",
        "colab_type": "text"
      },
      "source": [
        "## III. Logical Operations\n",
        "- `WHERE` 절의 필터링에 관한 섹션에서 `WHERE` 절은 `AND`, `OR` 및 `NOT`를 포함하는 `BOOL`식 뿐만 아니라 실행 순서를 제어하는 괄호를 포함할 수 있다고 호출한다. "
      ]
    },
    {
      "cell_type": "code",
      "metadata": {
        "id": "xHpQRGuktVW-",
        "colab_type": "code",
        "outputId": "948f885f-df3e-49b7-872a-79c28495ede5",
        "colab": {
          "base_uri": "https://localhost:8080/",
          "height": 292
        }
      },
      "source": [
        "from google.cloud import bigquery\n",
        "from tabulate import tabulate\n",
        "import pandas as pd\n",
        "\n",
        "project_id = 'bigquerytutorial-274406'\n",
        "client = bigquery.Client(project=project_id)\n",
        "\n",
        "temp = client.query('''\n",
        "  SELECT \n",
        "    gender, tripduration\n",
        "  FROM `bigquery-public-data.new_york_citibike.citibike_trips`\n",
        "  WHERE (tripduration < 600 AND gender = 'female')\n",
        "  ''').to_dataframe()\n",
        "\n",
        "print(temp)"
      ],
      "execution_count": 5,
      "outputs": [
        {
          "output_type": "stream",
          "text": [
            "WARNING:google.auth._default:No project ID could be determined. Consider running `gcloud config set project` or setting the GOOGLE_CLOUD_PROJECT environment variable\n"
          ],
          "name": "stderr"
        },
        {
          "output_type": "stream",
          "text": [
            "         gender  tripduration\n",
            "0        female           238\n",
            "1        female           389\n",
            "2        female           397\n",
            "3        female           385\n",
            "4        female           499\n",
            "...         ...           ...\n",
            "5020698  female           412\n",
            "5020699  female           468\n",
            "5020700  female           561\n",
            "5020701  female           450\n",
            "5020702  female           583\n",
            "\n",
            "[5020703 rows x 2 columns]\n"
          ],
          "name": "stdout"
        }
      ]
    },
    {
      "cell_type": "markdown",
      "metadata": {
        "id": "2wovdIpSJ6uG",
        "colab_type": "text"
      },
      "source": [
        "- 다음과 같이 `BOOL` 변수와 비교 연산자를 사용할 수 있다."
      ]
    },
    {
      "cell_type": "code",
      "metadata": {
        "id": "bqUala59LmEq",
        "colab_type": "code",
        "colab": {
          "base_uri": "https://localhost:8080/",
          "height": 51
        },
        "outputId": "358f84f8-ea6e-404d-e941-2409b29d2194"
      },
      "source": [
        "temp = client.query('''\n",
        "  WITH example AS (\n",
        "    SELECT NULL AS is_vowel, NULL as letter, -1 as position\n",
        "    UNION ALL SELECT true, 'a', 1\n",
        "    UNION ALL SELECT false, 'b', 2\n",
        "    UNION ALL SELECT false, 'c', 3\n",
        "  )\n",
        "  SELECT * \n",
        "  FROM example \n",
        "  WHERE is_vowel != false\n",
        "  ''').to_dataframe()\n",
        "\n",
        "print(temp)"
      ],
      "execution_count": 7,
      "outputs": [
        {
          "output_type": "stream",
          "text": [
            "   is_vowel letter  position\n",
            "0      True      a         1\n"
          ],
          "name": "stdout"
        }
      ]
    },
    {
      "cell_type": "markdown",
      "metadata": {
        "id": "gaPp7rIvNI0g",
        "colab_type": "text"
      },
      "source": [
        "- 그런데, 이번의 예에서와 같이 내장 상수와 비교할 때 `IS` 연산자를 사용하는 것이 더 간단한 경우가 많다."
      ]
    },
    {
      "cell_type": "code",
      "metadata": {
        "id": "1eNdGbzrOW5k",
        "colab_type": "code",
        "colab": {
          "base_uri": "https://localhost:8080/",
          "height": 68
        },
        "outputId": "15d27a59-5af2-4a24-bf70-5153a33ebfd1"
      },
      "source": [
        "temp = client.query('''\n",
        "  WITH example AS (\n",
        "    SELECT NULL AS is_vowel, NULL as letter, -1 as position\n",
        "    UNION ALL SELECT true, 'a', 1\n",
        "    UNION ALL SELECT false, 'b', 2\n",
        "    UNION ALL SELECT false, 'c', 3\n",
        "  )\n",
        "  SELECT * \n",
        "  FROM example \n",
        "  WHERE is_vowel IS NOT false\n",
        "''').to_dataframe()\n",
        "\n",
        "print(temp)"
      ],
      "execution_count": 8,
      "outputs": [
        {
          "output_type": "stream",
          "text": [
            "  is_vowel letter  position\n",
            "0     None   None        -1\n",
            "1     True      a         1\n"
          ],
          "name": "stdout"
        }
      ]
    },
    {
      "cell_type": "markdown",
      "metadata": {
        "id": "NRLI5J3GPOgs",
        "colab_type": "text"
      },
      "source": [
        "- 의미상으로는 똑같아 보이겠지만, 결과는 다르다. \n",
        "- 비교연산자(`=, !=, <, etc`)의 결과는 `NULL`과의 비교를 위해 `NULL`을 반환하지만, `IS` 연산자는 그렇지 않다. "
      ]
    },
    {
      "cell_type": "markdown",
      "metadata": {
        "id": "pk5IixtIQaOQ",
        "colab_type": "text"
      },
      "source": [
        "## IV. NULL에 대한 추가적인 Tip\n",
        "- `NULL` 일반적으로 수집되지 않은 결측값 또는 값을 나타낸다. 값이 없고 `0도 아니고`, `빈 문자열`도 아니다.\n",
        "- 데이터 집합에 `NULL`이 있는 경우 `NULL`과의 비교는 항상 `NULL`을 반환하므로 `WHERE` 절에서 `NULL` 값을 필터링하는 것에 주의 한다. \n",
        "- `IS` 연산자를 사용하여 값이 `NULL`인지 확인한다. \n",
        "- `BOOL` 변수를 직접 사용하는 것이 더 간단하고 읽기 쉽다. \n"
      ]
    },
    {
      "cell_type": "code",
      "metadata": {
        "id": "Xbxp9lJ4RYDL",
        "colab_type": "code",
        "colab": {
          "base_uri": "https://localhost:8080/",
          "height": 51
        },
        "outputId": "8b23e3e0-623e-40b6-b211-7b463225518d"
      },
      "source": [
        "temp = client.query('''\n",
        "  WITH example AS (\n",
        "    SELECT NULL AS is_vowel, NULL as letter, -1 as position\n",
        "    UNION ALL SELECT true, 'a', 1\n",
        "    UNION ALL SELECT false, 'b', 2\n",
        "    UNION ALL SELECT false, 'c', 3\n",
        "  )\n",
        "  SELECT * \n",
        "  FROM example \n",
        "  WHERE is_vowel\n",
        "''').to_dataframe()\n",
        "\n",
        "print(temp)"
      ],
      "execution_count": 9,
      "outputs": [
        {
          "output_type": "stream",
          "text": [
            "   is_vowel letter  position\n",
            "0      True      a         1\n"
          ],
          "name": "stdout"
        }
      ]
    },
    {
      "cell_type": "markdown",
      "metadata": {
        "id": "Bj9rQHSSZESc",
        "colab_type": "text"
      },
      "source": [
        " \n",
        "\n",
        "## V. Reference\n",
        "Lakshmanan, V. (2018). \"Exploring a powerful SQL pattern: ARRAY_AGG, STRUCT and UNNEST\" Retrieved from https://www.freecodecamp.org/news/exploring-a-powerful-sql-pattern-array-agg-struct-and-unnest-b7dcc6263e36/."
      ]
    }
  ]
}