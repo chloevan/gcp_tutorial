{
  "nbformat": 4,
  "nbformat_minor": 0,
  "metadata": {
    "colab": {
      "name": "Ch17_Types_of_functions.ipynb",
      "provenance": [],
      "collapsed_sections": [],
      "toc_visible": true,
      "authorship_tag": "ABX9TyOqAiYCuC/Bie4zPD4Rdxul",
      "include_colab_link": true
    },
    "kernelspec": {
      "name": "python3",
      "display_name": "Python 3"
    }
  },
  "cells": [
    {
      "cell_type": "markdown",
      "metadata": {
        "id": "view-in-github",
        "colab_type": "text"
      },
      "source": [
        "<a href=\"https://colab.research.google.com/github/chloevan/gcp_tutorial/blob/master/02_basics/Ch17_Types_of_functions.ipynb\" target=\"_parent\"><img src=\"https://colab.research.google.com/assets/colab-badge.svg\" alt=\"Open In Colab\"/></a>"
      ]
    },
    {
      "cell_type": "markdown",
      "metadata": {
        "id": "9_sb9T-tPSD6",
        "colab_type": "text"
      },
      "source": [
        "---\n",
        "title: \"Ch17 Types of Functions\"\n",
        "date: 2020-05-22T07:30:30+09:00\n",
        "tags:\n",
        "  - \"구글 클라우드\"\n",
        "  - \"Google Cloud\"\n",
        "  - \"빅쿼리\"\n",
        "  - \"BigQuery\"\n",
        "  - \"빅쿼리 파이썬\"\n",
        "  - \"빅쿼리 기본\"\n",
        "  - \"Types of Functions\"\n",
        "  - \"BigQuery with Python\"\n",
        "categories:\n",
        "  - \"구글 클라우드\"\n",
        "  - \"Google Cloud\"\n",
        "  - \"빅쿼리\"\n",
        "  - \"BigQuery\"\n",
        "  - \"Python\"\n",
        "menu: \n",
        "  gcp:\n",
        "    name: Ch17 Types of Functions\n",
        "---\n",
        "\n",
        "## I. 구글 클라우드 설정\n",
        "\n",
        "본격적인 빅쿼리 실습에 앞서서, Python과 연동하는 예제를 준비하였다. 빅쿼리 시작에 앞서서 선행적으로 클라우드 사용을 해야 한다. \n",
        "\n",
        "1. 만약 GCP 프로젝트가 없다면, 계정을 연동한다. Go to [Cloud Resource Manager](https://console.cloud.google.com/cloud-resource-manager)\n",
        "2. 그리고, 비용결제를 위한 카드를 등록한다. [Enable billing](https://support.google.com/cloud/answer/6293499#enable-billing) \n",
        "3. 마지막으로 BigQuery API를 사용해야 하기 때문에 빅쿼리 API 사용허가를 내준다.[Enable BigQuery](https://console.cloud.google.com/flows/enableapi?apiid=bigquery)\n",
        "\n",
        "위 API를 이용하지 않으면 `Python` 또는 `R`과 연동해서 사용할 수는 없다. 자주 쓰는것이 아니라면 비용은 거의 발생하지 않으니 염려하지 않아도 된다. 비용관리에 대한 자세한 내용은 [BigQuery 권장사항: 비용 관리](https://cloud.google.com/bigquery/docs/best-practices-costs?hl=ko)에서 확인하기를 바란다.  \n"
      ]
    },
    {
      "cell_type": "markdown",
      "metadata": {
        "id": "fMmpX-v2zOCF",
        "colab_type": "text"
      },
      "source": [
        "## II. 사용자 계정 인증\n",
        "구글 코랩을 사용해서 인증 절차를 밟도록 한다. 아래 소스코드는 변경시키지 않는다. 아래 절차대로 진행하면 된다. `Gmail` 인증 절차와 비슷하다."
      ]
    },
    {
      "cell_type": "code",
      "metadata": {
        "id": "1r03a8ibPgJX",
        "colab_type": "code",
        "outputId": "18292413-c267-47cd-c87d-adcc2c9bd3e0",
        "colab": {
          "base_uri": "https://localhost:8080/",
          "height": 34
        }
      },
      "source": [
        "from google.colab import auth\n",
        "auth.authenticate_user()\n",
        "print('Authenticated')"
      ],
      "execution_count": 0,
      "outputs": [
        {
          "output_type": "stream",
          "text": [
            "Authenticated\n"
          ],
          "name": "stdout"
        }
      ]
    },
    {
      "cell_type": "markdown",
      "metadata": {
        "id": "IjRhhkPaPrVv",
        "colab_type": "text"
      },
      "source": [
        "## III. Types of Functions\n",
        "- 빅쿼리에는 매우 유용한 `function`이 존재한다. 간단하게 확인해보자. \n"
      ]
    },
    {
      "cell_type": "markdown",
      "metadata": {
        "id": "b97cocunppyA",
        "colab_type": "text"
      },
      "source": [
        "### (1) Scalar\n",
        "- `Scalar`는 하나 이상의 입력 변수에 대해 `연산`을 수행하고, 단일 값을 반환한다. \n",
        "- `Scalar`함수는 반환 데이터 유형이 허용되는 모든 곳에서 사용이 가능하다. \n",
        "- `Round(3.14)`의 경우 `float64` 형태의 3을 반환한다. 즉, 이런 경우, `float64`를 지원되는 모든 곳에서는 `Rount()`함수 사용이 가능하다는 뜻이다. \n",
        "- `SUBSTR(\"hello\", 1, 2)`는 `\"he\"`를 반환하는데, 3개의 입력 파라미터를 사용하는 스칼라 함수의 예다.\n"
      ]
    },
    {
      "cell_type": "markdown",
      "metadata": {
        "id": "YTKGq-GOmMG-",
        "colab_type": "text"
      },
      "source": [
        "### (2) Aggregate\n",
        "- 값 집합에 대한 계산을 수행하고 단일 값을 반환하는 함수를 의미한다. \n",
        "- 집합 함수는 행 그룹에 걸쳐 계산을 수행하기 위해 GROUP BY와 함께 종종 사용된다.\n",
        "- 예를 들어, MAX(tripduration)는 트립기간 컬럼 내에서 최대값을 계산한다. 기타 집계함수로는 sum(), count(), avg() 등이 있다.\n"
      ]
    },
    {
      "cell_type": "markdown",
      "metadata": {
        "id": "a8HD3nsMnJiW",
        "colab_type": "text"
      },
      "source": [
        "### (3) Analytic\n",
        "- 분석 함수는 값 집합에서 작동하지만 집합의 각 값에 대한 출력을 반환한다. \n",
        "- 윈도우 프레임(=A window frame)을 사용하여 분석 기능이 적용되는 행 집합을 지정한다.\n",
        "- `row_number()`, `rank()`, etc 등이 대표적인 `Analytic` 함수들이다. "
      ]
    },
    {
      "cell_type": "markdown",
      "metadata": {
        "id": "oZjX9APYny3z",
        "colab_type": "text"
      },
      "source": [
        "### (4) Table Valued\n",
        "- `Table Valued`는 결과 집합을 반환하고 따라서 FROM 절에서 사용할 수 있는 함수이다.\n",
        "- `Array`에서 `UNNEST`를 호출 할 수 있고, 호출된 `UNNEST`에서 선택할 수 있다. \n"
      ]
    },
    {
      "cell_type": "markdown",
      "metadata": {
        "id": "zzywxSMRoUq0",
        "colab_type": "text"
      },
      "source": [
        "### (5) User Defined\n",
        "- 기본 제공되지 않지만 사용자가 구현을 지정하는 기능. 사용자 정의 함수는 SQL(또는 JavaScript)로 작성될 수 있으며, 앞서 언급한 유형 중 하나를 반환할 수 있다.\n",
        "- 예를 들면 다음과 같이 작성이 가능하다. \n",
        "\n",
        "```sql\n",
        "CREATE TEMP FUNCTION lastElement(arr ANY TYPE) \n",
        "  AS (arr[ORDINAL(ARRAY_LENGTH(arr))]);\n",
        "```"
      ]
    },
    {
      "cell_type": "markdown",
      "metadata": {
        "id": "6TkJsj8fpyZh",
        "colab_type": "text"
      },
      "source": [
        "## IV. 결론\n",
        "- 빅쿼리의 `Functions`에 관한 기본적인 이론에 대해 익혔다. \n",
        "- 본장에서 실제 `Numeric Types`를 가지고 활용하는 방법에 대해 익히도록 한다.  "
      ]
    },
    {
      "cell_type": "markdown",
      "metadata": {
        "id": "Bj9rQHSSZESc",
        "colab_type": "text"
      },
      "source": [
        " \n",
        "\n",
        "## V. Reference\n",
        "Lakshmanan, V. (2018). \"Exploring a powerful SQL pattern: ARRAY_AGG, STRUCT and UNNEST\" Retrieved from https://www.freecodecamp.org/news/exploring-a-powerful-sql-pattern-array-agg-struct-and-unnest-b7dcc6263e36/."
      ]
    }
  ]
}