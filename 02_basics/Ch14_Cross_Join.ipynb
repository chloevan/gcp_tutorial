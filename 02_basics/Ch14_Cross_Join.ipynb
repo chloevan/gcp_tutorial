{
  "nbformat": 4,
  "nbformat_minor": 0,
  "metadata": {
    "colab": {
      "name": "Ch14_Cross_Join.ipynb",
      "provenance": [],
      "collapsed_sections": [],
      "toc_visible": true,
      "authorship_tag": "ABX9TyOcSiQHxvQX0CiQnlpHgPng",
      "include_colab_link": true
    },
    "kernelspec": {
      "name": "python3",
      "display_name": "Python 3"
    }
  },
  "cells": [
    {
      "cell_type": "markdown",
      "metadata": {
        "id": "view-in-github",
        "colab_type": "text"
      },
      "source": [
        "<a href=\"https://colab.research.google.com/github/chloevan/gcp_tutorial/blob/master/02_basics/Ch14_Cross_Join.ipynb\" target=\"_parent\"><img src=\"https://colab.research.google.com/assets/colab-badge.svg\" alt=\"Open In Colab\"/></a>"
      ]
    },
    {
      "cell_type": "markdown",
      "metadata": {
        "id": "9_sb9T-tPSD6",
        "colab_type": "text"
      },
      "source": [
        "---\n",
        "title: \"Ch14 Cross Join\"\n",
        "date: 2020-05-15T17:30:30+09:00\n",
        "tags:\n",
        "  - \"구글 클라우드\"\n",
        "  - \"Google Cloud\"\n",
        "  - \"빅쿼리\"\n",
        "  - \"BigQuery\"\n",
        "  - \"빅쿼리 파이썬\"\n",
        "  - \"빅쿼리 기본\"\n",
        "  - \"Cross Join\"\n",
        "  - \"BigQuery with Python\"\n",
        "categories:\n",
        "  - \"구글 클라우드\"\n",
        "  - \"Google Cloud\"\n",
        "  - \"빅쿼리\"\n",
        "  - \"BigQuery\"\n",
        "  - \"Python\"\n",
        "menu: \n",
        "  gcp:\n",
        "    name: Ch14 Cross Join\n",
        "---\n",
        "\n",
        "## I. 구글 클라우드 설정\n",
        "\n",
        "본격적인 빅쿼리 실습에 앞서서, Python과 연동하는 예제를 준비하였다. 빅쿼리 시작에 앞서서 선행적으로 클라우드 사용을 해야 한다. \n",
        "\n",
        "1. 만약 GCP 프로젝트가 없다면, 계정을 연동한다. Go to [Cloud Resource Manager](https://console.cloud.google.com/cloud-resource-manager)\n",
        "2. 그리고, 비용결제를 위한 카드를 등록한다. [Enable billing](https://support.google.com/cloud/answer/6293499#enable-billing) \n",
        "3. 마지막으로 BigQuery API를 사용해야 하기 때문에 빅쿼리 API 사용허가를 내준다.[Enable BigQuery](https://console.cloud.google.com/flows/enableapi?apiid=bigquery)\n",
        "\n",
        "위 API를 이용하지 않으면 `Python` 또는 `R`과 연동해서 사용할 수는 없다. 자주 쓰는것이 아니라면 비용은 거의 발생하지 않으니 염려하지 않아도 된다. 비용관리에 대한 자세한 내용은 [BigQuery 권장사항: 비용 관리](https://cloud.google.com/bigquery/docs/best-practices-costs?hl=ko)에서 확인하기를 바란다.  \n"
      ]
    },
    {
      "cell_type": "markdown",
      "metadata": {
        "id": "fMmpX-v2zOCF",
        "colab_type": "text"
      },
      "source": [
        "## II. 사용자 계정 인증\n",
        "구글 코랩을 사용해서 인증 절차를 밟도록 한다. 아래 소스코드는 변경시키지 않는다. 아래 절차대로 진행하면 된다. `Gmail` 인증 절차와 비슷하다."
      ]
    },
    {
      "cell_type": "code",
      "metadata": {
        "id": "1r03a8ibPgJX",
        "colab_type": "code",
        "outputId": "1cf389f0-34c7-42e3-ade2-3b36849c9924",
        "colab": {
          "base_uri": "https://localhost:8080/",
          "height": 34
        }
      },
      "source": [
        "from google.colab import auth\n",
        "auth.authenticate_user()\n",
        "print('Authenticated')"
      ],
      "execution_count": 5,
      "outputs": [
        {
          "output_type": "stream",
          "text": [
            "Authenticated\n"
          ],
          "name": "stdout"
        }
      ]
    },
    {
      "cell_type": "markdown",
      "metadata": {
        "id": "IjRhhkPaPrVv",
        "colab_type": "text"
      },
      "source": [
        "## III. 쿼리 기본\n",
        "빅쿼리는 기본적으로 데이터 웨어하우스의 기능을 가지고 있다. Structured(데이터프레임) & Semi-Structured(JSON)과 같은 DB를 지원하고 있다. Create, Read, Update, Delete 기능을 지원한다. \n",
        "\n",
        "빅쿼리는 데이터 분석을 위한 기본적인 도구이기 때문에, 웹/앱을 활용한 마케팅 분석이 필요한 업종에서는 어쩌면 반드시 가져가야할 일종의 언어이기도 하다. \n",
        "\n",
        "기본적으로 SQL문법을 지원하며, BigQuery 나름의 문법을 또한 구성하고 있다. 이제 본격적으로 코드를 작성해보자. \n",
        "\n",
        "현재 작성하는 모든 코드는 Python-BigQuery로 연동하여 작성하려고 한다. 이제 간단하게 쿼리를 작성해보자. \n",
        "\n",
        "- [Ch05-Query_Essentials(1)](https://chloevan.github.io/gcp/bigquery/02_basics/ch05_query_essentials1/)에서는 `SELECT`와 `AS`에 대해 배우는 시간을 가졌다. \n",
        "- [Ch05-Query_Essentials(2)](https://chloevan.github.io/gcp/bigquery/02_basics/ch05_query_essentials2/)에서는 `WHERE`와 `EXCEPT`, 그리고 `REPLACE`에 대해 배우는 시간을 가졌다.\n",
        "- [Ch05-Query_Essentials(3)](https://chloevan.github.io/gcp/bigquery/02_basics/ch05_query_essentials3/)에서는 `SubQuery`에 대해서 집중적으로 배우는 시간을 가졌다.  \n",
        "- [Ch06 SQL Aggregates](https://chloevan.github.io/gcp/bigquery/02_basics/ch06_sql_aggregates/)에서는 집계함수를 사용해서 데이터를 조금 더 디테일하게 요약하는 것을 배웠다.\n",
        "- [Ch07 Arrays & Structs](https://chloevan.github.io/gcp/bigquery/02_basics/ch07_split_unnest/)에서는 빅쿼리에서 가상의 테이블과 그리고 배열을 만드는 법을 익혔다. \n",
        "- [Ch08_Creating_Arrays_with_Array_AGG](https://chloevan.github.io/gcp/bigquery/02_basics/ch08_creating_arrays_with_array_agg/)\n",
        "- [Ch09_Array_Of_Struct](https://chloevan.github.io/gcp/bigquery/02_basics/ch09_struct_and_tuple/) Struct을 활용하여 독특한 쿼리 결과문을 확인하였다. \n",
        "- [Ch10 UNNEST an Array](https://chloevan.github.io/gcp/bigquery/02_basics/ch10_unnest_an_array/) 에서, `Struct`을 만든 임시 테이블을 보다 가독성 좋게 필드로 구분한 것을 확인하였다. \n",
        "- [Ch11 Powerful SQL Pattern](https://chloevan.github.io/gcp/bigquery/02_basics/ch11_powerful_sql_pattern/)에서 `ARRAY`, `Struct`, `UNNEST`을 활용하여 `Powerful`한 쿼리를 작성하였습니다. \n",
        "- [Ch12 Join Explained](https://chloevan.github.io/gcp/bigquery/02_basics/ch12_join_explained/)에서 처음으로 두개의 다른 조직에서 온 데이터를 합쳐서 의미있는 데이터를 만들어가는 과정을 진행하였습니다. \n",
        "- [Ch13 Inner Join](https://chloevan.github.io/gcp/bigquery/02_basics/ch13_inner_join/)에서 Table Join에 대해 학습하는 시간을 가졌습니다. "
      ]
    },
    {
      "cell_type": "markdown",
      "metadata": {
        "id": "VkozqZeVibW7",
        "colab_type": "text"
      },
      "source": [
        "## IV. CROSS JOIN\n",
        "- `CROSS JOIN`은 Cartesian(=카타시안) Product라고 불리기도 한다. \n",
        "- 크로스 조인은 모든 경우의 수를 전부 표현해주는 방식입니다.\n",
        "- 기준테이블이 A일경우 A의 데이터 한 ROW를 B테이블 전체와 JOIN하는 방식입니다.\n",
        "- 행의 결과는 $N \\times M$ 나타나게 됩니다. \n",
        "\n"
      ]
    },
    {
      "cell_type": "markdown",
      "metadata": {
        "id": "izWxhOfmrR74",
        "colab_type": "text"
      },
      "source": [
        "### (1) 가상 테이블 만들기\n",
        "- 두개의 가상 테이블을 만들어 `Table Join`을 하도록 합니다. \n",
        "- 먼저 `cross join`을 활용한 쿼리에 대해 확인해보자. "
      ]
    },
    {
      "cell_type": "code",
      "metadata": {
        "id": "dAzbvNJVSKnc",
        "colab_type": "code",
        "outputId": "d057020b-4566-48c4-bc91-15dbfb7523bc",
        "colab": {
          "base_uri": "https://localhost:8080/",
          "height": 224
        }
      },
      "source": [
        "from google.cloud import bigquery\n",
        "from tabulate import tabulate\n",
        "import pandas as pd\n",
        "\n",
        "project_id = 'bigquerytutorial-274406'\n",
        "client = bigquery.Client(project=project_id)\n",
        "\n",
        "temp = client.query('''\n",
        "  WITH winners AS (\n",
        "    SELECT 'John' as person, '100m' as event\n",
        "    UNION ALL SELECT 'Hiroshi', '200m'\n",
        "    UNION ALL SELECT 'Sita', '400m'\n",
        "  ),\n",
        "  gifts AS (\n",
        "    SELECT 'Google Home' as gift\n",
        "    UNION ALL SELECT 'Google Hub'\n",
        "    UNION ALL SELECT 'Pixel3'\n",
        "  )\n",
        "  SELECT person, gift\n",
        "  FROM winners\n",
        "  CROSS JOIN gifts\n",
        "  ''').to_dataframe()\n",
        "\n",
        "print(temp)"
      ],
      "execution_count": 8,
      "outputs": [
        {
          "output_type": "stream",
          "text": [
            "WARNING:google.auth._default:No project ID could be determined. Consider running `gcloud config set project` or setting the GOOGLE_CLOUD_PROJECT environment variable\n"
          ],
          "name": "stderr"
        },
        {
          "output_type": "stream",
          "text": [
            "    person         gift\n",
            "0     John  Google Home\n",
            "1     John   Google Hub\n",
            "2     John       Pixel3\n",
            "3  Hiroshi  Google Home\n",
            "4  Hiroshi   Google Hub\n",
            "5  Hiroshi       Pixel3\n",
            "6     Sita  Google Home\n",
            "7     Sita   Google Hub\n",
            "8     Sita       Pixel3\n"
          ],
          "name": "stdout"
        }
      ]
    },
    {
      "cell_type": "markdown",
      "metadata": {
        "id": "AgOgpMG6t2Yb",
        "colab_type": "text"
      },
      "source": [
        "### (2) Step by Step - Winners\n",
        "- `Winners` 데이터는 어떻게 생겼을까?"
      ]
    },
    {
      "cell_type": "code",
      "metadata": {
        "id": "D42XKhgduC4M",
        "colab_type": "code",
        "colab": {
          "base_uri": "https://localhost:8080/",
          "height": 85
        },
        "outputId": "832b1bc4-d1bf-4591-f594-8101daaa6ad8"
      },
      "source": [
        "temp = client.query('''\n",
        "  WITH winners AS (\n",
        "    SELECT 'John' as person, '100m' as event\n",
        "    UNION ALL SELECT 'Hiroshi', '200m'\n",
        "    UNION ALL SELECT 'Sita', '400m'\n",
        "  )\n",
        "  SELECT *\n",
        "  FROM winners\n",
        "  ''').to_dataframe()\n",
        "\n",
        "print(temp)"
      ],
      "execution_count": 9,
      "outputs": [
        {
          "output_type": "stream",
          "text": [
            "    person event\n",
            "0     John  100m\n",
            "1  Hiroshi  200m\n",
            "2     Sita  400m\n"
          ],
          "name": "stdout"
        }
      ]
    },
    {
      "cell_type": "markdown",
      "metadata": {
        "id": "c2y3-ItDuKZs",
        "colab_type": "text"
      },
      "source": [
        "- 총 3개의 데이터와 `event`로 구성된 것을 확인할 수 있다. "
      ]
    },
    {
      "cell_type": "markdown",
      "metadata": {
        "id": "zVs8HAZpuaFf",
        "colab_type": "text"
      },
      "source": [
        "### (3) Step by Step - gifts\n",
        "- `gifts`로 구성된 데이터를 확인해보자. "
      ]
    },
    {
      "cell_type": "code",
      "metadata": {
        "id": "uC6K5-YMusC0",
        "colab_type": "code",
        "colab": {
          "base_uri": "https://localhost:8080/",
          "height": 85
        },
        "outputId": "3601a665-9966-4e54-9e7c-d0de1acb696c"
      },
      "source": [
        "temp = client.query('''\n",
        "  WITH gifts AS (\n",
        "    SELECT 'Google Home' as gift\n",
        "    UNION ALL SELECT 'Google Hub'\n",
        "    UNION ALL SELECT 'Pixel3'\n",
        "  )\n",
        "  SELECT *\n",
        "  FROM gifts\n",
        "  ''').to_dataframe()\n",
        "\n",
        "print(temp)"
      ],
      "execution_count": 10,
      "outputs": [
        {
          "output_type": "stream",
          "text": [
            "          gift\n",
            "0  Google Home\n",
            "1   Google Hub\n",
            "2       Pixel3\n"
          ],
          "name": "stdout"
        }
      ]
    },
    {
      "cell_type": "markdown",
      "metadata": {
        "id": "9lGC7LUfuq2L",
        "colab_type": "text"
      },
      "source": [
        "- 위 데이터는 단순하게 3개의 데이터와 1개의 열로만 구성된 데이터임을 확인할 수 있다. "
      ]
    },
    {
      "cell_type": "markdown",
      "metadata": {
        "id": "_9kTKOATvOet",
        "colab_type": "text"
      },
      "source": [
        "### (4) 결과 생각해보기\n",
        "- 이번에는 쿼리를 주어진 결과에 대해 다시한번 생각해보자. \n"
      ]
    },
    {
      "cell_type": "code",
      "metadata": {
        "id": "6mqaqdkvvZDl",
        "colab_type": "code",
        "colab": {
          "base_uri": "https://localhost:8080/",
          "height": 187
        },
        "outputId": "f9b6b8e2-ca14-4d80-c6f2-43ac08466a31"
      },
      "source": [
        "temp = client.query('''\n",
        "  WITH winners AS (\n",
        "    SELECT 'John' as person, '100m' as event\n",
        "    UNION ALL SELECT 'Hiroshi', '200m'\n",
        "    UNION ALL SELECT 'Sita', '400m'\n",
        "  ),\n",
        "  gifts AS (\n",
        "    SELECT 'Google Home' as gift\n",
        "    UNION ALL SELECT 'Google Hub'\n",
        "    UNION ALL SELECT 'Pixel3'\n",
        "  )\n",
        "  SELECT person, gift\n",
        "  FROM winners\n",
        "  CROSS JOIN gifts\n",
        "  ''').to_dataframe()\n",
        "\n",
        "print(temp)"
      ],
      "execution_count": 11,
      "outputs": [
        {
          "output_type": "stream",
          "text": [
            "    person         gift\n",
            "0     John  Google Home\n",
            "1     John   Google Hub\n",
            "2     John       Pixel3\n",
            "3  Hiroshi  Google Home\n",
            "4  Hiroshi   Google Hub\n",
            "5  Hiroshi       Pixel3\n",
            "6     Sita  Google Home\n",
            "7     Sita   Google Hub\n",
            "8     Sita       Pixel3\n"
          ],
          "name": "stdout"
        }
      ]
    },
    {
      "cell_type": "markdown",
      "metadata": {
        "id": "Er1K-EDYvaz-",
        "colab_type": "text"
      },
      "source": [
        "- 우선 기준이 되는 `winners` 데이터가 3개가 있었고, 조인 시키려는 `gifts` 데이터가 3개가 있다. \n",
        "- 즉, 위 데이터는 $3 \\times 3 = 9$의 형태로 조회되었다. \n"
      ]
    },
    {
      "cell_type": "markdown",
      "metadata": {
        "id": "DVg-kXUHa3xt",
        "colab_type": "text"
      },
      "source": [
        "## V. 결론\n",
        "- 간단하게 `Cross Join`에 대해서 익혀봤다. 다음 시간에는 `Outer Join`에 대해서 배워보도록 하자. \n"
      ]
    },
    {
      "cell_type": "markdown",
      "metadata": {
        "id": "Bj9rQHSSZESc",
        "colab_type": "text"
      },
      "source": [
        " \n",
        "\n",
        "## VI. Reference\n",
        "Lakshmanan, V. (2018). \"Exploring a powerful SQL pattern: ARRAY_AGG, STRUCT and UNNEST\" Retrieved from https://www.freecodecamp.org/news/exploring-a-powerful-sql-pattern-array-agg-struct-and-unnest-b7dcc6263e36/."
      ]
    }
  ]
}