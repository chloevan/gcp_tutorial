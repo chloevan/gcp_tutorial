{
  "nbformat": 4,
  "nbformat_minor": 0,
  "metadata": {
    "colab": {
      "name": "Ch05_Query_Essentials(3).ipynb",
      "provenance": [],
      "collapsed_sections": [],
      "toc_visible": true,
      "authorship_tag": "ABX9TyO9aBnMhsuZ7k8nfmocgqMh",
      "include_colab_link": true
    },
    "kernelspec": {
      "name": "python3",
      "display_name": "Python 3"
    }
  },
  "cells": [
    {
      "cell_type": "markdown",
      "metadata": {
        "id": "view-in-github",
        "colab_type": "text"
      },
      "source": [
        "<a href=\"https://colab.research.google.com/github/chloevan/gcp_tutorial/blob/master/02_basics/Ch05_Query_Essentials(3).ipynb\" target=\"_parent\"><img src=\"https://colab.research.google.com/assets/colab-badge.svg\" alt=\"Open In Colab\"/></a>"
      ]
    },
    {
      "cell_type": "markdown",
      "metadata": {
        "id": "9_sb9T-tPSD6",
        "colab_type": "text"
      },
      "source": [
        "---\n",
        "title: \"Ch05 Query Essentials(3)\"\n",
        "date: 2020-04-25T16:30:30+09:00\n",
        "tags:\n",
        "  - \"구글 클라우드\"\n",
        "  - \"Google Cloud\"\n",
        "  - \"빅쿼리\"\n",
        "  - \"BigQuery\"\n",
        "  - \"빅쿼리 파이썬\"\n",
        "  - \"빅쿼리 기본\"\n",
        "  - \"SubQuery\"\n",
        "  - \"BigQuery with Python\"\n",
        "categories:\n",
        "  - \"구글 클라우드\"\n",
        "  - \"Google Cloud\"\n",
        "  - \"빅쿼리\"\n",
        "  - \"BigQuery\"\n",
        "  - \"Python\"\n",
        "menu: \n",
        "  gcp:\n",
        "    name: Ch05 Query Essentials(3)\n",
        "---\n",
        "\n",
        "## 1. 구글 클라우드 설정\n",
        "\n",
        "본격적인 빅쿼리 실습에 앞서서, Python과 연동하는 예제를 준비하였다. 빅쿼리 시작에 앞서서 선행적으로 클라우드 사용을 해야 한다. \n",
        "\n",
        "1. 만약 GCP 프로젝트가 없다면, 계정을 연동한다. Go to [Cloud Resource Manager](https://console.cloud.google.com/cloud-resource-manager)\n",
        "2. 그리고, 비용결제를 위한 카드를 등록한다. [Enable billing](https://support.google.com/cloud/answer/6293499#enable-billing) \n",
        "3. 마지막으로 BigQuery API를 사용해야 하기 때문에 빅쿼리 API 사용허가를 내준다.[Enable BigQuery](https://console.cloud.google.com/flows/enableapi?apiid=bigquery)\n",
        "\n",
        "위 API를 이용하지 않으면 `Python` 또는 `R`과 연동해서 사용할 수는 없다. 자주 쓰는것이 아니라면 비용은 거의 발생하지 않으니 염려하지 않아도 된다. 비용관리에 대한 자세한 내용은 [BigQuery 권장사항: 비용 관리](https://cloud.google.com/bigquery/docs/best-practices-costs?hl=ko)에서 확인하기를 바란다.  \n"
      ]
    },
    {
      "cell_type": "markdown",
      "metadata": {
        "id": "fMmpX-v2zOCF",
        "colab_type": "text"
      },
      "source": [
        "## 2. 사용자 계정 인증\n",
        "구글 코랩을 사용해서 인증 절차를 밟도록 한다. 아래 소스코드는 변경시키지 않는다. 아래 절차대로 진행하면 된다. `Gmail` 인증 절차와 비슷하다."
      ]
    },
    {
      "cell_type": "code",
      "metadata": {
        "id": "1r03a8ibPgJX",
        "colab_type": "code",
        "outputId": "e4ba4cf3-ac3d-4fe1-f0ab-a7094c569ed6",
        "colab": {
          "base_uri": "https://localhost:8080/",
          "height": 34
        }
      },
      "source": [
        "from google.colab import auth\n",
        "auth.authenticate_user()\n",
        "print('Authenticated')"
      ],
      "execution_count": 2,
      "outputs": [
        {
          "output_type": "stream",
          "text": [
            "Authenticated\n"
          ],
          "name": "stdout"
        }
      ]
    },
    {
      "cell_type": "markdown",
      "metadata": {
        "id": "IjRhhkPaPrVv",
        "colab_type": "text"
      },
      "source": [
        "## 3. 쿼리 기본\n",
        "빅쿼리는 기본적으로 데이터 웨어하우스의 기능을 가지고 있다. Structured(데이터프레임) & Semi-Structured(JSON)과 같은 DB를 지원하고 있다. Create, Read, Update, Delete 기능을 지원한다. \n",
        "\n",
        "빅쿼리는 데이터 분석을 위한 기본적인 도구이기 때문에, 웹/앱을 활용한 마케팅 분석이 필요한 업종에서는 어쩌면 반드시 가져가야할 일종의 언어이기도 하다. \n",
        "\n",
        "기본적으로 SQL문법을 지원하며, BigQuery 나름의 문법을 또한 구성하고 있다. 이제 본격적으로 코드를 작성해보자. \n",
        "\n",
        "현재 작성하는 모든 코드는 Python-BigQuery로 연동하여 작성하려고 한다. 이제 간단하게 쿼리를 작성해보자. \n",
        "\n",
        "- [Ch05-Query_Essentials(1)](https://chloevan.github.io/gcp/bigquery/02_basics/ch05_query_essentials1/)에서는 `SELECT`와 `AS`에 대해 배우는 시간을 가졌다. \n",
        "- [Ch05-Query_Essentials(2)](https://chloevan.github.io/gcp/bigquery/02_basics/ch05_query_essentials2/)에서는 `WHERE`와 `EXCEPT`, 그리고 `REPLACE`에 대해 배우는 시간을 가졌다.\n",
        "\n",
        "오늘 포스트에서는 `SubQuery`, `ORDER BY`에 대해 학습을 진행하도록 한다. \n",
        "\n"
      ]
    },
    {
      "cell_type": "markdown",
      "metadata": {
        "id": "FL8f-ma9zR8G",
        "colab_type": "text"
      },
      "source": [
        "### (1) SUBQUERY\n",
        "서브쿼리는 무엇일까? 서브쿼리는 메인쿼리가 서브쿼리를 포함하는데, 반복적인 쿼리를 수행해야 할 때 `alias`를 통해서 보다 간편하게 결과를 조회할 때 사용합니다. \n",
        "\n",
        "실무에서는 자주 사용되기 때문에 꼭 실습을 통해서 개념을 익히시기를 바랍니다. "
      ]
    },
    {
      "cell_type": "code",
      "metadata": {
        "id": "dAzbvNJVSKnc",
        "colab_type": "code",
        "outputId": "c1f4c18c-b622-4349-c4e8-bb2da55ed08c",
        "colab": {
          "base_uri": "https://localhost:8080/",
          "height": 173
        }
      },
      "source": [
        "from google.cloud import bigquery\n",
        "from tabulate import tabulate\n",
        "\n",
        "project_id = 'bigquerytutorial-274406'\n",
        "client = bigquery.Client(project=project_id)\n",
        "\n",
        "temp = client.query('''\n",
        "  SELECT \n",
        "    * \n",
        "  FROM (\n",
        "    SELECT \n",
        "      gender, tripduration / 60 AS minutes\n",
        "    FROM `bigquery-public-data.new_york_citibike.citibike_trips`\n",
        "  )\n",
        "  WHERE minutes < 10\n",
        "  LIMIT 5\n",
        "  ''').to_dataframe()\n",
        "\n",
        "print(tabulate(temp, tablefmt=\"pipe\", headers=\"keys\"))"
      ],
      "execution_count": 9,
      "outputs": [
        {
          "output_type": "stream",
          "text": [
            "WARNING:google.auth._default:No project ID could be determined. Consider running `gcloud config set project` or setting the GOOGLE_CLOUD_PROJECT environment variable\n"
          ],
          "name": "stderr"
        },
        {
          "output_type": "stream",
          "text": [
            "|    | gender   |   minutes |\n",
            "|---:|:---------|----------:|\n",
            "|  0 | female   |   7.28333 |\n",
            "|  1 | male     |   7.41667 |\n",
            "|  2 | female   |   5.75    |\n",
            "|  3 | male     |   4.58333 |\n",
            "|  4 | male     |   6.43333 |\n"
          ],
          "name": "stdout"
        }
      ]
    },
    {
      "cell_type": "markdown",
      "metadata": {
        "id": "RR1PzqyQl-m0",
        "colab_type": "text"
      },
      "source": [
        "`FROM` 다음에 생성된 구절이 서브쿼리라고 보면 된다. 그런데, 복잡하다. R 또는 Python처럼 SQL도 다른 데이터셋으로 변경하여 저장시킬 수 있을까? 결론부터 말하면 가능하며, 이 때에는 `With new_name AS (syntax)` 형태로 작성해야 한다. 바로 코드를 확인하자.   "
      ]
    },
    {
      "cell_type": "code",
      "metadata": {
        "id": "uff0zJ-ZnJCQ",
        "colab_type": "code",
        "colab": {
          "base_uri": "https://localhost:8080/",
          "height": 136
        },
        "outputId": "e55d4ec5-03fe-492a-a883-19468c7f6a3b"
      },
      "source": [
        "temp = client.query('''\n",
        "    WITH all_trips AS(\n",
        "      SELECT \n",
        "      gender, tripduration / 60 AS minutes\n",
        "      FROM `bigquery-public-data.new_york_citibike.citibike_trips`\n",
        "    )\n",
        "    SELECT * from all_trips\n",
        "    WHERE minutes < 10\n",
        "    LIMIT 5\n",
        "    ''').to_dataframe()\n",
        "\n",
        "print(tabulate(temp, tablefmt='pipe', headers='keys'))\n"
      ],
      "execution_count": 8,
      "outputs": [
        {
          "output_type": "stream",
          "text": [
            "|    | gender   |   minutes |\n",
            "|---:|:---------|----------:|\n",
            "|  0 | male     |   7.2     |\n",
            "|  1 | female   |   3.96667 |\n",
            "|  2 | male     |   9.88333 |\n",
            "|  3 | male     |   6.9     |\n",
            "|  4 | male     |   7.9     |\n"
          ],
          "name": "stdout"
        }
      ]
    },
    {
      "cell_type": "markdown",
      "metadata": {
        "id": "KJjgnuGQoihx",
        "colab_type": "text"
      },
      "source": [
        "### (2) ORDER BY\n",
        "그런데 한가지 문제가 있다. 보통 실무에서는 상위 또는 하위 이런식으로 결과보고서를 제출해야 의사결정에 도움이 된다. 이럴 때 자주쓰는 기술이 데이터 정렬(`ORDER BY`)을 하는 것이다. 내림차순으로 정렬을 하는데, 앞에서 배운 것을 그대로 적용한다. "
      ]
    },
    {
      "cell_type": "code",
      "metadata": {
        "id": "txOWi2jjpEz0",
        "colab_type": "code",
        "colab": {
          "base_uri": "https://localhost:8080/",
          "height": 136
        },
        "outputId": "907f67dc-8bcd-4cea-c7e3-872f3cc5044a"
      },
      "source": [
        "temp = client.query('''\n",
        "    WITH all_trips AS(\n",
        "      SELECT \n",
        "      gender, tripduration / 60 AS minutes\n",
        "      FROM `bigquery-public-data.new_york_citibike.citibike_trips`\n",
        "    )\n",
        "    SELECT * from all_trips\n",
        "    WHERE minutes < 10\n",
        "    ORDER BY minutes DESC\n",
        "    LIMIT 5\n",
        "    ''').to_dataframe()\n",
        "\n",
        "print(tabulate(temp, tablefmt='pipe', headers='keys'))"
      ],
      "execution_count": 11,
      "outputs": [
        {
          "output_type": "stream",
          "text": [
            "|    | gender   |   minutes |\n",
            "|---:|:---------|----------:|\n",
            "|  0 | male     |   9.98333 |\n",
            "|  1 | male     |   9.98333 |\n",
            "|  2 | female   |   9.98333 |\n",
            "|  3 | male     |   9.98333 |\n",
            "|  4 | male     |   9.98333 |\n"
          ],
          "name": "stdout"
        }
      ]
    },
    {
      "cell_type": "markdown",
      "metadata": {
        "id": "lgQJ7mIRpYfg",
        "colab_type": "text"
      },
      "source": [
        "이 때, 여성 또는 남성, 즉 특정 값과 연계되어 내림차순을 진행하다면, `ORDER BY` 구문 앞에서 `WHERE` 구문을 통해서 작성하도록 한다.  "
      ]
    },
    {
      "cell_type": "code",
      "metadata": {
        "id": "cril16hQpltL",
        "colab_type": "code",
        "colab": {
          "base_uri": "https://localhost:8080/",
          "height": 136
        },
        "outputId": "d7e30a80-04da-42f0-cd6e-f5408ba5dc19"
      },
      "source": [
        "temp = client.query('''\n",
        "    WITH all_trips AS(\n",
        "      SELECT \n",
        "      gender, tripduration / 60 AS minutes\n",
        "      FROM `bigquery-public-data.new_york_citibike.citibike_trips`\n",
        "    )\n",
        "    SELECT * from all_trips\n",
        "    WHERE gender = 'female'\n",
        "    ORDER BY minutes DESC\n",
        "    LIMIT 5\n",
        "    ''').to_dataframe()\n",
        "\n",
        "print(tabulate(temp, tablefmt='pipe', headers='keys'))"
      ],
      "execution_count": 14,
      "outputs": [
        {
          "output_type": "stream",
          "text": [
            "|    | gender   |   minutes |\n",
            "|---:|:---------|----------:|\n",
            "|  0 | female   |    250349 |\n",
            "|  1 | female   |    226438 |\n",
            "|  2 | female   |    207989 |\n",
            "|  3 | female   |    159712 |\n",
            "|  4 | female   |    154239 |\n"
          ],
          "name": "stdout"
        }
      ]
    },
    {
      "cell_type": "markdown",
      "metadata": {
        "id": "9mZI9TwUp1mH",
        "colab_type": "text"
      },
      "source": [
        "이번에는 여성 상위 5명을 추출하도록 해보자. 여기에서는 `WHERE gender = 'female'`구문을 추가해서 데이터를 조회할 수 있다.   "
      ]
    },
    {
      "cell_type": "markdown",
      "metadata": {
        "id": "Bj9rQHSSZESc",
        "colab_type": "text"
      },
      "source": [
        " 이번 포스트에서는 `With`를 활용한 `SubQuery` 그리고 `ORDER BY` 대해서 배우도록 한다.  \n",
        "\n",
        " 다음 포스트에서는 집계함수에 대해 배우도록 한다. \n",
        "\n",
        "## 4. Reference\n",
        "“Getting Started with BigQuery.” Google, Google, colab.research.google.com/notebooks/bigquery.ipynb."
      ]
    }
  ]
}